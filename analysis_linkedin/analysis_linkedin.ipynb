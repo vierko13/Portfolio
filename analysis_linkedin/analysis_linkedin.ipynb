{
  "nbformat": 4,
  "nbformat_minor": 0,
  "metadata": {
    "colab": {
      "provenance": [],
      "toc_visible": true
    },
    "kernelspec": {
      "name": "python3",
      "display_name": "Python 3"
    },
    "language_info": {
      "name": "python"
    }
  },
  "cells": [
    {
      "cell_type": "markdown",
      "source": [
        "# Анализ вакансии для аналитиков данных в LinkedIn"
      ],
      "metadata": {
        "id": "t2rdDYbxUupF"
      }
    },
    {
      "cell_type": "markdown",
      "source": [
        "Ссылка на дашборд: https://datalens.yandex/ui538detirbck?state=*707e557a407"
      ],
      "metadata": {
        "id": "3Vnf6XZJHyoW"
      }
    },
    {
      "cell_type": "markdown",
      "source": [
        "### Вводные данные\n",
        "В нашем распоряжении имеется выгрузка данных c вакансиями на позицию аналитика данных с сервиса Linkedin. Данные актуальны на 23.05.2023. <br>\n",
        "Ссылка на файл с данными: https://drive.google.com/file/d/1Hb2ULSNXisaR0XU3miJ073z3mscEoG2d/view?usp=sharing\n",
        "\n",
        "### Цель исследования:\n",
        "Изучить данные, привести их в пригодный для анализа формат. Визуализировать информацию о рынке вакансий для аналитиков в Европе (LinkedIn) в разрезе таких характеристик как страна, формат работы, требуемые hurd скилы, компании и тд.\n",
        "\n",
        "### Этапы проекта:\n",
        "Работу над проектом будем проводить в несколько этапов:\n",
        "1. Загрузка csv и парсинг данных в пригодный для анализа формат\n",
        "2. Предобработка данных\n",
        "3. Исследовательский анализ и подготовка к визуализации\n",
        "3. Визуализация данных - построение интерактивного дашборда в BI системе\n",
        "\n"
      ],
      "metadata": {
        "id": "xKOqVUzuViPE"
      }
    },
    {
      "cell_type": "markdown",
      "source": [
        "## Загрузка и парсинг данных в пригодный для анализа формат"
      ],
      "metadata": {
        "id": "Jej7LXJwyh8M"
      }
    },
    {
      "cell_type": "markdown",
      "source": [
        "### Загрузка csv - файла"
      ],
      "metadata": {
        "id": "1VHCR998T981"
      }
    },
    {
      "cell_type": "markdown",
      "source": [
        "Добавим необходимые бибилиотеки для работы и загрузим csv-файл по ссылке выше."
      ],
      "metadata": {
        "id": "gOhNnFDJ3aCM"
      }
    },
    {
      "cell_type": "code",
      "source": [
        "import pandas as pd\n",
        "import numpy as np\n",
        "from bs4 import BeautifulSoup\n",
        "from IPython.display import display, HTML\n",
        "import math as mth\n",
        "import seaborn as sns\n",
        "import warnings\n",
        "warnings.filterwarnings('ignore')\n",
        "from datetime import datetime as dt\n",
        "from datetime import timedelta\n",
        "from matplotlib import pyplot as plt\n",
        "import re\n",
        "#from google.colab import drive\n",
        "#drive.mount('drive')\n"
      ],
      "metadata": {
        "id": "jIQLyGNGUmq2"
      },
      "execution_count": null,
      "outputs": []
    },
    {
      "cell_type": "code",
      "source": [
        "\n",
        "#загрузка файла\n",
        "link = 'https://drive.google.com/file/d/1Hb2ULSNXisaR0XU3miJ073z3mscEoG2d/view?usp=sharing'\n",
        "# обращение к гугл-файлу по id, для корректного открытия\n",
        "link='https://drive.google.com/uc?id=' + link.split('/')[-2]\n",
        "\n",
        "try:\n",
        "  jobs = pd.read_csv(link, index_col=0)\n",
        "except:\n",
        "  jobs = pd.read_csv(\"https://disk.yandex.ru/d/Rlo2KdJRve6fkw\", index_col=0)\n",
        "\n",
        "jobs.head()"
      ],
      "metadata": {
        "id": "Ya7WLzubpYSw",
        "colab": {
          "base_uri": "https://localhost:8080/",
          "height": 206
        },
        "outputId": "a4cb6956-6447-494f-afe0-8e2f2759fa07"
      },
      "execution_count": null,
      "outputs": [
        {
          "output_type": "execute_result",
          "data": {
            "text/plain": [
              "                                                html\n",
              "0  \\n  <div>\\n    <div class=\"\\n        jobs-deta...\n",
              "1  \\n  <div>\\n    <div class=\"\\n        jobs-deta...\n",
              "2  \\n  <div>\\n    <div class=\"\\n        jobs-deta...\n",
              "3  \\n  <div>\\n    <div class=\"\\n        jobs-deta...\n",
              "4  \\n  <div>\\n    <div class=\"\\n        jobs-deta..."
            ],
            "text/html": [
              "\n",
              "\n",
              "  <div id=\"df-bfc2cbf2-77d5-4bc2-9707-21abaa921d0b\">\n",
              "    <div class=\"colab-df-container\">\n",
              "      <div>\n",
              "<style scoped>\n",
              "    .dataframe tbody tr th:only-of-type {\n",
              "        vertical-align: middle;\n",
              "    }\n",
              "\n",
              "    .dataframe tbody tr th {\n",
              "        vertical-align: top;\n",
              "    }\n",
              "\n",
              "    .dataframe thead th {\n",
              "        text-align: right;\n",
              "    }\n",
              "</style>\n",
              "<table border=\"1\" class=\"dataframe\">\n",
              "  <thead>\n",
              "    <tr style=\"text-align: right;\">\n",
              "      <th></th>\n",
              "      <th>html</th>\n",
              "    </tr>\n",
              "  </thead>\n",
              "  <tbody>\n",
              "    <tr>\n",
              "      <th>0</th>\n",
              "      <td>\\n  &lt;div&gt;\\n    &lt;div class=\"\\n        jobs-deta...</td>\n",
              "    </tr>\n",
              "    <tr>\n",
              "      <th>1</th>\n",
              "      <td>\\n  &lt;div&gt;\\n    &lt;div class=\"\\n        jobs-deta...</td>\n",
              "    </tr>\n",
              "    <tr>\n",
              "      <th>2</th>\n",
              "      <td>\\n  &lt;div&gt;\\n    &lt;div class=\"\\n        jobs-deta...</td>\n",
              "    </tr>\n",
              "    <tr>\n",
              "      <th>3</th>\n",
              "      <td>\\n  &lt;div&gt;\\n    &lt;div class=\"\\n        jobs-deta...</td>\n",
              "    </tr>\n",
              "    <tr>\n",
              "      <th>4</th>\n",
              "      <td>\\n  &lt;div&gt;\\n    &lt;div class=\"\\n        jobs-deta...</td>\n",
              "    </tr>\n",
              "  </tbody>\n",
              "</table>\n",
              "</div>\n",
              "      <button class=\"colab-df-convert\" onclick=\"convertToInteractive('df-bfc2cbf2-77d5-4bc2-9707-21abaa921d0b')\"\n",
              "              title=\"Convert this dataframe to an interactive table.\"\n",
              "              style=\"display:none;\">\n",
              "\n",
              "  <svg xmlns=\"http://www.w3.org/2000/svg\" height=\"24px\"viewBox=\"0 0 24 24\"\n",
              "       width=\"24px\">\n",
              "    <path d=\"M0 0h24v24H0V0z\" fill=\"none\"/>\n",
              "    <path d=\"M18.56 5.44l.94 2.06.94-2.06 2.06-.94-2.06-.94-.94-2.06-.94 2.06-2.06.94zm-11 1L8.5 8.5l.94-2.06 2.06-.94-2.06-.94L8.5 2.5l-.94 2.06-2.06.94zm10 10l.94 2.06.94-2.06 2.06-.94-2.06-.94-.94-2.06-.94 2.06-2.06.94z\"/><path d=\"M17.41 7.96l-1.37-1.37c-.4-.4-.92-.59-1.43-.59-.52 0-1.04.2-1.43.59L10.3 9.45l-7.72 7.72c-.78.78-.78 2.05 0 2.83L4 21.41c.39.39.9.59 1.41.59.51 0 1.02-.2 1.41-.59l7.78-7.78 2.81-2.81c.8-.78.8-2.07 0-2.86zM5.41 20L4 18.59l7.72-7.72 1.47 1.35L5.41 20z\"/>\n",
              "  </svg>\n",
              "      </button>\n",
              "\n",
              "\n",
              "\n",
              "    <div id=\"df-83bba2bd-2733-469b-936d-a1e0a5c52d52\">\n",
              "      <button class=\"colab-df-quickchart\" onclick=\"quickchart('df-83bba2bd-2733-469b-936d-a1e0a5c52d52')\"\n",
              "              title=\"Suggest charts.\"\n",
              "              style=\"display:none;\">\n",
              "\n",
              "<svg xmlns=\"http://www.w3.org/2000/svg\" height=\"24px\"viewBox=\"0 0 24 24\"\n",
              "     width=\"24px\">\n",
              "    <g>\n",
              "        <path d=\"M19 3H5c-1.1 0-2 .9-2 2v14c0 1.1.9 2 2 2h14c1.1 0 2-.9 2-2V5c0-1.1-.9-2-2-2zM9 17H7v-7h2v7zm4 0h-2V7h2v10zm4 0h-2v-4h2v4z\"/>\n",
              "    </g>\n",
              "</svg>\n",
              "      </button>\n",
              "    </div>\n",
              "\n",
              "<style>\n",
              "  .colab-df-quickchart {\n",
              "    background-color: #E8F0FE;\n",
              "    border: none;\n",
              "    border-radius: 50%;\n",
              "    cursor: pointer;\n",
              "    display: none;\n",
              "    fill: #1967D2;\n",
              "    height: 32px;\n",
              "    padding: 0 0 0 0;\n",
              "    width: 32px;\n",
              "  }\n",
              "\n",
              "  .colab-df-quickchart:hover {\n",
              "    background-color: #E2EBFA;\n",
              "    box-shadow: 0px 1px 2px rgba(60, 64, 67, 0.3), 0px 1px 3px 1px rgba(60, 64, 67, 0.15);\n",
              "    fill: #174EA6;\n",
              "  }\n",
              "\n",
              "  [theme=dark] .colab-df-quickchart {\n",
              "    background-color: #3B4455;\n",
              "    fill: #D2E3FC;\n",
              "  }\n",
              "\n",
              "  [theme=dark] .colab-df-quickchart:hover {\n",
              "    background-color: #434B5C;\n",
              "    box-shadow: 0px 1px 3px 1px rgba(0, 0, 0, 0.15);\n",
              "    filter: drop-shadow(0px 1px 2px rgba(0, 0, 0, 0.3));\n",
              "    fill: #FFFFFF;\n",
              "  }\n",
              "</style>\n",
              "\n",
              "    <script>\n",
              "      async function quickchart(key) {\n",
              "        const containerElement = document.querySelector('#' + key);\n",
              "        const charts = await google.colab.kernel.invokeFunction(\n",
              "            'suggestCharts', [key], {});\n",
              "      }\n",
              "    </script>\n",
              "\n",
              "      <script>\n",
              "\n",
              "function displayQuickchartButton(domScope) {\n",
              "  let quickchartButtonEl =\n",
              "    domScope.querySelector('#df-83bba2bd-2733-469b-936d-a1e0a5c52d52 button.colab-df-quickchart');\n",
              "  quickchartButtonEl.style.display =\n",
              "    google.colab.kernel.accessAllowed ? 'block' : 'none';\n",
              "}\n",
              "\n",
              "        displayQuickchartButton(document);\n",
              "      </script>\n",
              "      <style>\n",
              "    .colab-df-container {\n",
              "      display:flex;\n",
              "      flex-wrap:wrap;\n",
              "      gap: 12px;\n",
              "    }\n",
              "\n",
              "    .colab-df-convert {\n",
              "      background-color: #E8F0FE;\n",
              "      border: none;\n",
              "      border-radius: 50%;\n",
              "      cursor: pointer;\n",
              "      display: none;\n",
              "      fill: #1967D2;\n",
              "      height: 32px;\n",
              "      padding: 0 0 0 0;\n",
              "      width: 32px;\n",
              "    }\n",
              "\n",
              "    .colab-df-convert:hover {\n",
              "      background-color: #E2EBFA;\n",
              "      box-shadow: 0px 1px 2px rgba(60, 64, 67, 0.3), 0px 1px 3px 1px rgba(60, 64, 67, 0.15);\n",
              "      fill: #174EA6;\n",
              "    }\n",
              "\n",
              "    [theme=dark] .colab-df-convert {\n",
              "      background-color: #3B4455;\n",
              "      fill: #D2E3FC;\n",
              "    }\n",
              "\n",
              "    [theme=dark] .colab-df-convert:hover {\n",
              "      background-color: #434B5C;\n",
              "      box-shadow: 0px 1px 3px 1px rgba(0, 0, 0, 0.15);\n",
              "      filter: drop-shadow(0px 1px 2px rgba(0, 0, 0, 0.3));\n",
              "      fill: #FFFFFF;\n",
              "    }\n",
              "  </style>\n",
              "\n",
              "      <script>\n",
              "        const buttonEl =\n",
              "          document.querySelector('#df-bfc2cbf2-77d5-4bc2-9707-21abaa921d0b button.colab-df-convert');\n",
              "        buttonEl.style.display =\n",
              "          google.colab.kernel.accessAllowed ? 'block' : 'none';\n",
              "\n",
              "        async function convertToInteractive(key) {\n",
              "          const element = document.querySelector('#df-bfc2cbf2-77d5-4bc2-9707-21abaa921d0b');\n",
              "          const dataTable =\n",
              "            await google.colab.kernel.invokeFunction('convertToInteractive',\n",
              "                                                     [key], {});\n",
              "          if (!dataTable) return;\n",
              "\n",
              "          const docLinkHtml = 'Like what you see? Visit the ' +\n",
              "            '<a target=\"_blank\" href=https://colab.research.google.com/notebooks/data_table.ipynb>data table notebook</a>'\n",
              "            + ' to learn more about interactive tables.';\n",
              "          element.innerHTML = '';\n",
              "          dataTable['output_type'] = 'display_data';\n",
              "          await google.colab.output.renderOutput(dataTable, element);\n",
              "          const docLink = document.createElement('div');\n",
              "          docLink.innerHTML = docLinkHtml;\n",
              "          element.appendChild(docLink);\n",
              "        }\n",
              "      </script>\n",
              "    </div>\n",
              "  </div>\n"
            ]
          },
          "metadata": {},
          "execution_count": 5
        }
      ]
    },
    {
      "cell_type": "code",
      "source": [
        "jobs.info()"
      ],
      "metadata": {
        "colab": {
          "base_uri": "https://localhost:8080/"
        },
        "id": "-CwTWuGQ5mk_",
        "outputId": "5af94a6f-c4df-4bfb-f8a6-aa5865a482fd"
      },
      "execution_count": null,
      "outputs": [
        {
          "output_type": "stream",
          "name": "stdout",
          "text": [
            "<class 'pandas.core.frame.DataFrame'>\n",
            "Int64Index: 998 entries, 0 to 997\n",
            "Data columns (total 1 columns):\n",
            " #   Column  Non-Null Count  Dtype \n",
            "---  ------  --------------  ----- \n",
            " 0   html    998 non-null    object\n",
            "dtypes: object(1)\n",
            "memory usage: 15.6+ KB\n"
          ]
        }
      ]
    },
    {
      "cell_type": "markdown",
      "source": [
        "Датасет содержит только html, из него будем вытягивать всю информацию."
      ],
      "metadata": {
        "id": "1lLXcEfU39Yi"
      }
    },
    {
      "cell_type": "markdown",
      "source": [
        "### Обзор данных"
      ],
      "metadata": {
        "id": "euEPQxDBCAkW"
      }
    },
    {
      "cell_type": "code",
      "source": [
        "#посмотрим содержимое колонки\n",
        "BeautifulSoup(jobs.loc[0].item())"
      ],
      "metadata": {
        "colab": {
          "base_uri": "https://localhost:8080/"
        },
        "id": "ivo6nYsny5Lm",
        "outputId": "22b81c3e-0719-4122-8358-8125cf976cc3"
      },
      "execution_count": null,
      "outputs": [
        {
          "output_type": "execute_result",
          "data": {
            "text/plain": [
              "<html><body><div>\n",
              "<div class=\"jobs-details__main-content jobs-details__main-content--single-pane full-width\">\n",
              "<!-- -->\n",
              "<div>\n",
              "<div class=\"jobs-unified-top-card t-14\">\n",
              "<!-- --> <div class=\"relative jobs-unified-top-card__container--two-pane\">\n",
              "<div class=\"jobs-unified-top-card__content--two-pane\">\n",
              "<!-- -->\n",
              "<a class=\"ember-view\" href=\"/jobs/view/3609065367/?alternateChannel=search&amp;refId=AxoCJAz0Vnn3xzCIlNO7ng%3D%3D&amp;trackingId=mdZWGb64G6DZP8qCAPQ%2BmQ%3D%3D&amp;trk=d_flagship3_search_srp_jobs\" id=\"ember425\">\n",
              "<h2 class=\"t-24 t-bold jobs-unified-top-card__job-title\">Data Analyst</h2>\n",
              "</a>\n",
              "<div class=\"jobs-unified-top-card__primary-description\">\n",
              "<span class=\"jobs-unified-top-card__subtitle-primary-grouping t-black\">\n",
              "<span class=\"jobs-unified-top-card__company-name\">\n",
              "<a class=\"ember-view t-black t-normal\" href=\"/company/pharmiweb-jobs/life/\" id=\"ember426\">\n",
              "                    PharmiWeb.Jobs: Global Life Science Jobs\n",
              "                  </a>\n",
              "</span>\n",
              "<span class=\"jobs-unified-top-card__bullet\">\n",
              "                Basel, Basel, Switzerland\n",
              "              </span>\n",
              "<span class=\"jobs-unified-top-card__workplace-type\">On-site</span>\n",
              "</span>\n",
              "<span class=\"jobs-unified-top-card__subtitle-secondary-grouping t-black--light\">\n",
              "<span class=\"jobs-unified-top-card__posted-date\">\n",
              "                1 week ago\n",
              "              </span>\n",
              "<span class=\"jobs-unified-top-card__bullet\">\n",
              "<span class=\"jobs-unified-top-card__applicant-count\">\n",
              "                      47 applicants\n",
              "                    </span>\n",
              "</span>\n",
              "</span>\n",
              "</div>\n",
              "<div class=\"mt5 mb2\">\n",
              "<ul>\n",
              "<li class=\"jobs-unified-top-card__job-insight\">\n",
              "<div class=\"flex-shrink-zero mr2 t-black--light\">\n",
              "<div class=\"ivm-image-view-model\">\n",
              "<div class=\"ivm-view-attr__img-wrapper ivm-view-attr__img-wrapper--use-img-tag display-flex\">\n",
              "<li-icon aria-hidden=\"true\" class=\"\" size=\"large\" type=\"job\"><svg class=\"mercado-match\" data-supported-dps=\"24x24\" fill=\"currentColor\" focusable=\"false\" height=\"24\" viewbox=\"0 0 24 24\" width=\"24\" xmlns=\"http://www.w3.org/2000/svg\">\n",
              "<path d=\"M17 6V5a3 3 0 00-3-3h-4a3 3 0 00-3 3v1H2v4a3 3 0 003 3h14a3 3 0 003-3V6zM9 5a1 1 0 011-1h4a1 1 0 011 1v1H9zm10 9a4 4 0 003-1.38V17a3 3 0 01-3 3H5a3 3 0 01-3-3v-4.38A4 4 0 005 14z\"></path>\n",
              "</svg></li-icon>\n",
              "</div>\n",
              "</div>\n",
              "</div>\n",
              "<span>\n",
              "<!-- -->Full-time · Entry level<!-- -->\n",
              "</span>\n",
              "</li>\n",
              "<li class=\"jobs-unified-top-card__job-insight\">\n",
              "<div class=\"flex-shrink-zero mr2 t-black--light\">\n",
              "<div class=\"ivm-image-view-model\">\n",
              "<div class=\"ivm-view-attr__img-wrapper ivm-view-attr__img-wrapper--use-img-tag display-flex\">\n",
              "<li-icon aria-hidden=\"true\" class=\"\" size=\"large\" type=\"company\"><svg class=\"mercado-match\" data-supported-dps=\"24x24\" fill=\"currentColor\" focusable=\"false\" height=\"24\" viewbox=\"0 0 24 24\" width=\"24\" xmlns=\"http://www.w3.org/2000/svg\">\n",
              "<path d=\"M4 2v20h16V2zm14 18h-4v-2h-4v2H6V4h12zm-7-8H8v-2h3zm0 4H8v-2h3zm5-4h-3v-2h3zm-5-4H8V6h3zm5 0h-3V6h3zm0 8h-3v-2h3z\"></path>\n",
              "</svg></li-icon>\n",
              "</div>\n",
              "</div>\n",
              "</div>\n",
              "<span>\n",
              "<!-- -->11-50 employees · Staffing and Recruiting<!-- -->\n",
              "</span>\n",
              "</li>\n",
              "<li class=\"jobs-unified-top-card__job-insight jobs-unified-top-card__job-insight--highlight\">\n",
              "<div class=\"flex-shrink-zero mr2 t-black--light\">\n",
              "<div class=\"ivm-image-view-model\">\n",
              "<div class=\"ivm-view-attr__img-wrapper ivm-view-attr__img-wrapper--use-img-tag display-flex\">\n",
              "<li-icon aria-hidden=\"true\" class=\"\" size=\"medium\" type=\"lightbulb\"><svg class=\"mercado-match\" data-supported-dps=\"24x24\" fill=\"currentColor\" focusable=\"false\" height=\"24\" viewbox=\"0 0 24 24\" width=\"24\" xmlns=\"http://www.w3.org/2000/svg\">\n",
              "<path d=\"M10 20h4v.1a1.9 1.9 0 01-1.9 1.9h-.2a1.9 1.9 0 01-1.9-1.9zm4.68-14.47A1 1 0 0016 5l.76-1.85a1 1 0 00-.54-1.3 1 1 0 00-1.31.54l-.76 1.85a1 1 0 00.53 1.29zm5.09 4.33l1.85-.76a1 1 0 00.54-1.31 1 1 0 00-1.3-.54L19 8a1 1 0 00-.54 1.31 1 1 0 001.3.55zM4.23 14.14l-1.85.76a1 1 0 00-.54 1.31 1 1 0 001.3.54L5 16a1 1 0 00.54-1.31 1 1 0 00-1.3-.55zm17.39.76l-1.85-.76A1 1 0 0019 16l1.85.76a1 1 0 00.78-1.86zM5 8l-1.86-.75a1 1 0 00-1.3.54 1 1 0 00.54 1.31l1.85.76A1 1 0 005 8zm3-3a1 1 0 001.31.54 1 1 0 00.54-1.3L9.1 2.38a1 1 0 00-1.31-.54 1 1 0 00-.54 1.3zm9 6.91V12a5.48 5.48 0 01-1.61 3.88l-.07.08a3.94 3.94 0 00-1.08 1.94L14 19h-4l-.24-1.08A4 4 0 008.68 16l-.07-.07A5.51 5.51 0 017 12v-.1A4.9 4.9 0 0111.9 7h.2a4.9 4.9 0 014.9 4.9zm-2 0A2.9 2.9 0 0012.11 9h-.21A2.9 2.9 0 009 11.9v.1a3.47 3.47 0 001 2.47l.08.08a5.92 5.92 0 011.5 2.45h.84a6 6 0 011.48-2.44l.08-.07A3.48 3.48 0 0015 12z\"></path>\n",
              "</svg></li-icon>\n",
              "</div>\n",
              "</div>\n",
              "</div>\n",
              "<span>\n",
              "<!-- -->See how you compare to 47 applicants.<span class=\"white-space-pre\"> </span><a class=\"app-aware-link\" data-test-app-aware-link=\"\" href=\"https://www.linkedin.com/premium/products/?family=JSS&amp;upsellOrderOrigin=premium_job_details_summary_card&amp;utype=job&amp;referenceId=3R6Cu%2BKoQoKRyTOVoqW5BA%3D%3D\" target=\"_self\"><!-- -->Try Premium for free<!-- --></a>\n",
              "</span>\n",
              "</li>\n",
              "</ul>\n",
              "</div>\n",
              "<div class=\"mt5\">\n",
              "<div class=\"display-flex\">\n",
              "<div class=\"jobs-s-apply jobs-s-apply--fadein inline-flex mr2\">\n",
              "<div class=\"jobs-apply-button--top-card\">\n",
              "<button aria-label=\"Apply to Data Analyst on company website\" class=\"jobs-apply-button artdeco-button artdeco-button--icon-right artdeco-button--3 artdeco-button--primary ember-view\" id=\"ember852\" role=\"link\"> <li-icon aria-hidden=\"true\" class=\"artdeco-button__icon\" size=\"small\" type=\"link-external\"><svg class=\"mercado-match\" data-supported-dps=\"16x16\" fill=\"currentColor\" focusable=\"false\" height=\"16\" viewbox=\"0 0 16 16\" width=\"16\" xmlns=\"http://www.w3.org/2000/svg\">\n",
              "<path d=\"M15 1v6h-2V4.41L7.41 10 6 8.59 11.59 3H9V1zm-4 10a1 1 0 01-1 1H5a1 1 0 01-1-1V6a1 1 0 011-1h2V3H5a3 3 0 00-3 3v5a3 3 0 003 3h5a3 3 0 003-3V9h-2z\"></path>\n",
              "</svg></li-icon>\n",
              "<span class=\"artdeco-button__text\">\n",
              "    Apply\n",
              "</span></button>\n",
              "</div>\n",
              "</div>\n",
              "<span class=\"visibility-hidden\"></span>\n",
              "<button class=\"jobs-save-button artdeco-button artdeco-button--3 artdeco-button--secondary\" type=\"button\">\n",
              "<!-- --> <span aria-hidden=\"true\">\n",
              "        Save\n",
              "      </span>\n",
              "<span class=\"a11y-text\">\n",
              "      Save Data Analyst at PharmiWeb.Jobs: Global Life Science Jobs\n",
              "    </span>\n",
              "</button>\n",
              "</div>\n",
              "<!-- -->\n",
              "<!-- --><!-- --> </div>\n",
              "<!-- -->\n",
              "<!-- -->\n",
              "<!-- --><!-- -->\n",
              "<!-- --> </div>\n",
              "<!-- -->\n",
              "<!-- -->\n",
              "<div class=\"jobs-unified-top-card__buttons-container absolute\">\n",
              "<div class=\"display-flex flex-column\">\n",
              "<div class=\"display-flex justify-flex-end\">\n",
              "<div class=\"artdeco-dropdown artdeco-dropdown--placement-bottom artdeco-dropdown--justification-right ember-view\" id=\"ember427\">\n",
              "<button aria-expanded=\"false\" aria-label=\"Share\" class=\"social-share__dropdown-trigger artdeco-button artdeco-button--3 artdeco-button--tertiary artdeco-button--circle artdeco-button--muted artdeco-dropdown__trigger artdeco-dropdown__trigger--placement-bottom ember-view\" id=\"ember428\" tabindex=\"0\" type=\"button\">\n",
              "<li-icon aria-hidden=\"true\" class=\"artdeco-button__icon\" size=\"medium\" type=\"share-linkedin\"><svg class=\"mercado-match\" data-supported-dps=\"24x24\" fill=\"currentColor\" focusable=\"false\" height=\"24\" viewbox=\"0 0 24 24\" width=\"24\" xmlns=\"http://www.w3.org/2000/svg\">\n",
              "<path d=\"M23 12l-4.61 7H16l4-6H8a3.92 3.92 0 00-4 3.84V17a4 4 0 00.19 1.24L5.12 21H3l-.73-2.22A6.4 6.4 0 012 16.94 6 6 0 018 11h12l-4-6h2.39z\"></path>\n",
              "</svg></li-icon>\n",
              "<span class=\"artdeco-button__text\">Share</span>\n",
              "<!-- --></button>\n",
              "<div aria-hidden=\"true\" class=\"social-share__content text-align-left artdeco-dropdown__content artdeco-dropdown--is-dropdown-element artdeco-dropdown__content--has-arrow artdeco-dropdown__content--arrow-right artdeco-dropdown__content--justification-right artdeco-dropdown__content--placement-bottom ember-view\" id=\"ember429\" tabindex=\"-1\"><!-- --></div>\n",
              "</div>\n",
              "<div>\n",
              "<!-- -->\n",
              "</div>\n",
              "<!-- -->\n",
              "<!-- -->\n",
              "<div class=\"artdeco-dropdown jobs-options artdeco-dropdown--placement-bottom artdeco-dropdown--justification-right ember-view\" id=\"ember430\">\n",
              "<button aria-expanded=\"false\" class=\"artdeco-button artdeco-button--3 artdeco-button--tertiary artdeco-button--muted artdeco-button--circle artdeco-dropdown__trigger artdeco-dropdown__trigger--placement-bottom ember-view\" id=\"ember431\" tabindex=\"0\" type=\"button\">\n",
              "<li-icon aria-hidden=\"true\" class=\"artdeco-button__icon\" type=\"overflow-web-ios\"><svg class=\"mercado-match\" data-supported-dps=\"24x24\" fill=\"currentColor\" focusable=\"false\" height=\"24\" viewbox=\"0 0 24 24\" width=\"24\" xmlns=\"http://www.w3.org/2000/svg\">\n",
              "<path d=\"M14 12a2 2 0 11-2-2 2 2 0 012 2zM4 10a2 2 0 102 2 2 2 0 00-2-2zm16 0a2 2 0 102 2 2 2 0 00-2-2z\"></path>\n",
              "</svg></li-icon>\n",
              "<span class=\"artdeco-button__text\">\n",
              "                  Show more options\n",
              "                </span>\n",
              "<!-- --></button>\n",
              "<div aria-hidden=\"true\" class=\"artdeco-dropdown__content artdeco-dropdown--is-dropdown-element artdeco-dropdown__content--has-arrow artdeco-dropdown__content--arrow-right artdeco-dropdown__content--justification-right artdeco-dropdown__content--placement-bottom ember-view\" id=\"ember432\" tabindex=\"-1\"><!-- --></div>\n",
              "</div>\n",
              "</div>\n",
              "<!-- --> </div>\n",
              "</div>\n",
              "</div>\n",
              "<div class=\"jobs-unified-top-card__sticky-header jobs-unified-top-card__sticky-header--disabled\">\n",
              "<div class=\"jobs-unified-top-card__title-container\">\n",
              "<a class=\"ember-view\" data-control-id=\"mdZWGb64G6DZP8qCAPQ+mQ==\" href=\"/jobs/view/3609065367/?alternateChannel=search&amp;refId=AxoCJAz0Vnn3xzCIlNO7ng%3D%3D&amp;trackingId=mdZWGb64G6DZP8qCAPQ%2BmQ%3D%3D&amp;trk=d_flagship3_search_srp_jobs\" id=\"ember433\">\n",
              "<h2 class=\"t-16 t-black t-bold truncate\">\n",
              "              Data Analyst\n",
              "            </h2>\n",
              "</a>\n",
              "<div class=\"t-14 truncate\">\n",
              "<span>PharmiWeb.Jobs: Global Life Science Jobs</span>\n",
              "<span class=\"jobs-unified-top-card__bullet\">Basel, Basel, Switzerland</span>\n",
              "<span class=\"jobs-unified-top-card__workplace-type\">On-site</span>\n",
              "</div>\n",
              "</div>\n",
              "<div class=\"jobs-unified-top-card__sticky-buttons-container\">\n",
              "<div class=\"jobs-s-apply jobs-s-apply--fadein inline-flex mr2\">\n",
              "<div class=\"jobs-apply-button--top-card\">\n",
              "<button aria-label=\"Apply to Data Analyst on company website\" class=\"jobs-apply-button artdeco-button artdeco-button--icon-right artdeco-button--2 artdeco-button--primary ember-view\" id=\"ember853\" role=\"link\"> <li-icon aria-hidden=\"true\" class=\"artdeco-button__icon\" size=\"small\" type=\"link-external\"><svg class=\"mercado-match\" data-supported-dps=\"16x16\" fill=\"currentColor\" focusable=\"false\" height=\"16\" viewbox=\"0 0 16 16\" width=\"16\" xmlns=\"http://www.w3.org/2000/svg\">\n",
              "<path d=\"M15 1v6h-2V4.41L7.41 10 6 8.59 11.59 3H9V1zm-4 10a1 1 0 01-1 1H5a1 1 0 01-1-1V6a1 1 0 011-1h2V3H5a3 3 0 00-3 3v5a3 3 0 003 3h5a3 3 0 003-3V9h-2z\"></path>\n",
              "</svg></li-icon>\n",
              "<span class=\"artdeco-button__text\">\n",
              "    Apply\n",
              "</span></button>\n",
              "</div>\n",
              "</div>\n",
              "<button aria-expanded=\"false\" class=\"jobs-save-button mr2 artdeco-button artdeco-button--2 artdeco-button--secondary\" type=\"button\">\n",
              "<!-- --> <span aria-hidden=\"true\">\n",
              "        Save\n",
              "      </span>\n",
              "<span class=\"a11y-text\">\n",
              "      Save Data Analyst at PharmiWeb.Jobs: Global Life Science Jobs\n",
              "    </span>\n",
              "</button>\n",
              "<div class=\"artdeco-dropdown jobs-options artdeco-dropdown--placement-bottom artdeco-dropdown--justification-right ember-view inline-flex\" id=\"ember434\">\n",
              "<button aria-expanded=\"false\" class=\"artdeco-button artdeco-button--2 artdeco-button--tertiary artdeco-button--muted artdeco-button--circle artdeco-dropdown__trigger artdeco-dropdown__trigger--placement-bottom ember-view\" id=\"ember435\" tabindex=\"0\" type=\"button\">\n",
              "<li-icon aria-hidden=\"true\" class=\"artdeco-button__icon\" type=\"overflow-web-ios\"><svg class=\"mercado-match\" data-supported-dps=\"24x24\" fill=\"currentColor\" focusable=\"false\" height=\"24\" viewbox=\"0 0 24 24\" width=\"24\" xmlns=\"http://www.w3.org/2000/svg\">\n",
              "<path d=\"M14 12a2 2 0 11-2-2 2 2 0 012 2zM4 10a2 2 0 102 2 2 2 0 00-2-2zm16 0a2 2 0 102 2 2 2 0 00-2-2z\"></path>\n",
              "</svg></li-icon>\n",
              "<span class=\"artdeco-button__text\">\n",
              "              Show more options\n",
              "            </span>\n",
              "<!-- --></button>\n",
              "<div aria-hidden=\"true\" class=\"artdeco-dropdown__content artdeco-dropdown--is-dropdown-element artdeco-dropdown__content--has-arrow artdeco-dropdown__content--arrow-right artdeco-dropdown__content--justification-right artdeco-dropdown__content--placement-bottom ember-view\" id=\"ember436\" tabindex=\"-1\"><!-- --></div>\n",
              "</div>\n",
              "</div>\n",
              "</div>\n",
              "</div>\n",
              "<!-- -->\n",
              "<!-- -->\n",
              "<!-- --> </div>\n",
              "<!-- -->\n",
              "<div class=\"jobs-box--fadein jobs-box--full-width jobs-box--with-cta-large jobs-description jobs-description--reformatted\">\n",
              "<!-- -->\n",
              "<article class=\"jobs-description__container m4\">\n",
              "<div class=\"jobs-description__content jobs-description-content\">\n",
              "<div class=\"jobs-box__html-content jobs-description-content__text t-14 t-normal jobs-description-content__text--stretch\" id=\"job-details\" tabindex=\"-1\">\n",
              "<h2 class=\"text-heading-large mb4\">\n",
              "          About the job\n",
              "        </h2>\n",
              "<!-- -->\n",
              "<!-- --> <span>\n",
              "                What You Will Achieve<p><br/>\n",
              "</p>This position will apply advanced manufacturing, science, and technology to support business and process improvements for the manufacture of small and / or large volume parenteral products. You will be a member of the Transformation and Strategy team. As a Data Analyst you will be responsible for mining, retrieving, organizing, and analyzing data to support the operations of a large manufacturing facility. Using the data, you will help to develop key performance indicators to demonstrate the effectiveness of processes and systems against business strategies.<p><br/>\n",
              "</p>Your knowledge of manufacturing operations and computer systems/tools will make you a critical member of the team. Your strong business processes and workflow skills will help facilitate required gatherings for building and enhancing business process maps and strategies. Your innovative use of communication tools and techniques will facilitate in explaining difficult issues, establishing consensus between teams, and will create a collaborative teaming environment for your colleagues.<p><br/>\n",
              "</p><u>Main Responsibilities</u><p><br/>\n",
              "</p><ul><li>Interpret data, analyze results using statistical techniques and provide ongoing reports</li><li>Develop and implement databases, data collection systems, data analytics and other strategies that optimize statistical efficiency and quality</li><li>Acquire data from primary or secondary data sources and maintain databases/data systems</li><li>Identify, analyze, and interpret trends or patterns in complex data sets </li><li>Filter and “clean” data by reviewing reports, printouts, and performance indicators</li><li>Work with management to prioritize business and information needs </li><li>Identify and define new process improvement opportunities</li></ul><p><br/>\n",
              "</p><u>Must-Haves</u><p><br/>\n",
              "</p><ul><li>A Bachelor’s degree with at least three years of experience; OR a Master’s degree with more than one year of experience.</li><li>Prior pharmaceutical and/or manufacturing experience required</li><li>Technical expertise regarding data models, database design development, data mining and segmentation techniques </li><li>Knowledge of and experience with reporting packages (Business Objects etc) and databases (SQL etc)</li><li>Knowledge of statistics and experience using statistical packages for analyzing datasets (Excel, SPSS, SAS etc)</li><li>Knowledge of SAP (ERP materials planning systems).</li></ul><p><br/>\n",
              "</p>You will be joining an organisation with determined to bring about considerable change to the global industry, in an environment that promotes self-development and personal success while driving for company growth.<p><br/>\n",
              "</p><strong>Job Title:</strong> Data Analyst<p><br/>\n",
              "</p><strong>Location:</strong> Basel, Switzerland<p><br/>\n",
              "</p><strong>Job Type:</strong> Contract<p><br/>\n",
              "</p>Aerotek, an Allegis Group company. Allegis Group AG, Aeschengraben 20, CH-4051 Basel, Switzerland. Registration No. CHE-101.865.121. Aerotek and Actalent Services are companies within the Allegis Group network of companies (collectively referred to as \"Allegis Group\"). Aerotek, Actalent Services, Aston Carter, EASi, TEKsystems, Stamford Consultants and The Stamford Group are Allegis Group brands. If you apply, your personal data will be processed as described in the Allegis Group Online Privacy Notice available at https://www.allegisgroup.com/en-gb/privacy-notices.<p><br/>\n",
              "</p>To access our Online Privacy Notice, which explains what information we may collect, use, share, and store about you, and describes your rights and choices about this, please go to https://www.allegisgroup.com/en-gb/privacy-notices.<p><br/>\n",
              "</p>We are part of a global network of companies and as a result, the personal data you provide will be shared within Allegis Group and transferred and processed outside the UK, Switzerland and European Economic Area subject to the protections described in the Allegis Group Online Privacy Notice. We store personal data in the UK, EEA, Switzerland and the USA. If you would like to exercise your privacy rights, please visit the \"Contacting Us\" section of our Online Privacy Notice at https://www.allegisgroup.com/en-gb/privacy-notices for details on how to contact us. To protect your privacy and security, we may take steps to verify your identity, such as a password and user ID if there is an account associated with your request, or identifying information such as your address or date of birth, before proceeding with your request. If you are resident in the UK, EEA or Switzerland, we will process any access request you make in accordance with our commitments under the UK Data Protection Act, EU-U.S. Privacy Shield or the Swiss-U.S. Privacy Shield\n",
              "<!-- --> </span>\n",
              "</div>\n",
              "<!-- --> <div class=\"jobs-description__details\">\n",
              "<!-- -->\n",
              "</div>\n",
              "</div>\n",
              "</article>\n",
              "<!-- --></div>\n",
              "<!-- -->\n",
              "<div class=\"jobs-unified-description__salary-main-rail-card\" id=\"SALARY\">\n",
              "<!-- --><!-- --> </div>\n",
              "<!-- -->\n",
              "<!-- --><!-- -->\n",
              "<!-- -->\n",
              "<section class=\"artdeco-card ember-view\" id=\"ember854\"><!-- -->\n",
              "<section class=\"jobs-company jobs-box--fadein mb4 jobs-company--two-pane\">\n",
              "<div class=\"jobs-company__box\">\n",
              "<h2 class=\"text-heading-large\">\n",
              "      About the company\n",
              "    </h2>\n",
              "<div class=\"display-flex align-items-center mt5\">\n",
              "<div class=\"artdeco-entity-lockup artdeco-entity-lockup--size-5 ember-view flex-grow-1\" id=\"ember855\">\n",
              "<div class=\"artdeco-entity-lockup__image artdeco-entity-lockup__image--type-square ember-view\" id=\"ember856\" type=\"square\">\n",
              "<a class=\"ember-view link-without-hover-state inline-block\" href=\"/company/pharmiweb-jobs/life/\" id=\"ember857\">\n",
              "<img alt=\"PharmiWeb.Jobs: Global Life Science Jobs company logo\" class=\"evi-image ember-view\" id=\"ember858\" src=\"https://media.licdn.com/dms/image/C560BAQGUG7P6YvUwMQ/company-logo_100_100/0/1631608134203?e=1692835200&amp;v=beta&amp;t=VhQBAmxEZoos_HwkKIkrqU5NXqFautE1PESvZ4dP9GE\" title=\"PharmiWeb.Jobs: Global Life Science Jobs\"/>\n",
              "</a>\n",
              "</div>\n",
              "<div class=\"artdeco-entity-lockup__content ember-view flex-grow-1\" id=\"ember859\">\n",
              "<div class=\"artdeco-entity-lockup__title ember-view t-20\" id=\"ember860\">\n",
              "<a class=\"ember-view link-without-visited-state inline-block t-black\" href=\"/company/pharmiweb-jobs/life/\" id=\"ember861\">\n",
              "              PharmiWeb.Jobs: Global Life Science Jobs\n",
              "            </a>\n",
              "</div>\n",
              "<div class=\"artdeco-entity-lockup__subtitle ember-view t-16\" id=\"ember862\">\n",
              "            64,551 followers\n",
              "          </div>\n",
              "</div>\n",
              "</div>\n",
              "<button aria-label=\"Follow\" aria-pressed=\"false\" class=\"follow artdeco-button artdeco-button--secondary ml5\" type=\"button\">\n",
              "<svg aria-hidden=\"true\" class=\"artdeco-button__icon\" data-supported-dps=\"16x16\" data-test-icon=\"add-small\" height=\"16\" role=\"none\" viewbox=\"0 0 16 16\" width=\"16\" xmlns=\"http://www.w3.org/2000/svg\">\n",
              "<!-- -->\n",
              "<use height=\"16\" href=\"#add-small\" width=\"16\"></use>\n",
              "</svg>\n",
              "<span aria-hidden=\"true\">Follow</span>\n",
              "</button>\n",
              "</div>\n",
              "<div class=\"t-14 mt5\">\n",
              "      Staffing &amp; Recruiting\n",
              "        <span class=\"jobs-company__inline-information\">\n",
              "          11-50 employees\n",
              "        </span>\n",
              "<span class=\"jobs-company__inline-information\">\n",
              "          18 on LinkedIn\n",
              "        </span>\n",
              "</div>\n",
              "<p class=\"jobs-company__company-description text-body-small-open\">\n",
              "</p><div class=\"inline-show-more-text inline-show-more-text--is-collapsed inline-show-more-text--is-collapsed-with-line-clamp\" style=\"-webkit-line-clamp:3;\" tabindex=\"-1\">\n",
              "\n",
              "    PharmiWeb.Jobs is PharmiWeb's dedicated Life Science job board. PharmiWeb.jobs is the largest dedicated niche pharma job board in Europe. Follow us for the latest jobs in pharma, industry employment news, career tips, Contact us to advertise your life science vacancies\n",
              "  \n",
              "      <span class=\"inline-show-more-text__link-container-collapsed\">\n",
              "<span>…</span>\n",
              "<button aria-expanded=\"false\" class=\"inline-show-more-text__button inline-show-more-text__button--light link\" type=\"button\">\n",
              "          show more\n",
              "        </button>\n",
              "</span>\n",
              "<!-- --></div>\n",
              "<!-- -->\n",
              "<!-- --> </div>\n",
              "<!-- -->\n",
              "<div class=\"jobs-company__footer text-align-center\">\n",
              "<a aria-label=\"Show more about the company\" class=\"ember-view link-without-hover-state block pv3\" href=\"/company/pharmiweb-jobs/life/\" id=\"ember863\">\n",
              "        Show more\n",
              "      </a>\n",
              "</div>\n",
              "</section>\n",
              "</section>\n",
              "<!-- --> </div>\n",
              "<!-- --> </div>\n",
              "<div class=\"ember-view\" id=\"ember438\"><!-- --></div>\n",
              "<div class=\"ember-view\" id=\"ember439\"><div class=\"ember-view\" id=\"ember440\"><!-- --></div></div>\n",
              "<div class=\"ember-view\" id=\"ember441\"><!-- --></div>\n",
              "<!-- -->\n",
              "<!-- -->\n",
              "<!-- -->\n",
              "<div>\n",
              "<div class=\"ember-view\" id=\"ember442\"><!-- --></div>\n",
              "</div>\n",
              "<!-- --></body></html>"
            ]
          },
          "metadata": {},
          "execution_count": 7
        }
      ]
    },
    {
      "cell_type": "markdown",
      "source": [
        "Посмотрим в среде тетрадки, как выглядят вакансии на сайте linkedin"
      ],
      "metadata": {
        "id": "NiqvAo3dUW7W"
      }
    },
    {
      "cell_type": "code",
      "source": [
        "display(HTML(jobs['html'][350]))"
      ],
      "metadata": {
        "id": "gHsK_iMaUPde",
        "colab": {
          "base_uri": "https://localhost:8080/",
          "height": 1000
        },
        "outputId": "6190d924-a07e-4ba6-ae2e-374d844e0f3e"
      },
      "execution_count": null,
      "outputs": [
        {
          "output_type": "display_data",
          "data": {
            "text/plain": [
              "<IPython.core.display.HTML object>"
            ],
            "text/html": [
              "\n",
              "  <div>\n",
              "    <div class=\"\n",
              "        jobs-details__main-content jobs-details__main-content--single-pane full-width\n",
              "        \">\n",
              "        \n",
              "<!---->\n",
              "      \n",
              "      <div>\n",
              "        <div class=\"jobs-unified-top-card t-14\">\n",
              "<!---->  <div class=\"relative\n",
              "      jobs-unified-top-card__container--two-pane\">\n",
              "\n",
              "    <div class=\"jobs-unified-top-card__content--two-pane\">\n",
              "<!---->\n",
              "        <a href=\"/jobs/view/3610211650/?alternateChannel=search&amp;refId=%2FWNl40j8f2XG6X9KN3wbaw%3D%3D&amp;trackingId=hsyUSawj4pOoRFtoLjLE%2Bg%3D%3D&amp;trk=d_flagship3_search_srp_jobs\" id=\"ember425\" class=\"ember-view\">\n",
              "          <h2 class=\"t-24 t-bold jobs-unified-top-card__job-title\">Data Analyst (Bangkok Based, Relocation Provided)</h2>\n",
              "        </a>\n",
              "\n",
              "      <div class=\"jobs-unified-top-card__primary-description\">\n",
              "          <span class=\"jobs-unified-top-card__subtitle-primary-grouping t-black\">\n",
              "            <span class=\"jobs-unified-top-card__company-name\">\n",
              "                  <a href=\"/company/agoda/life/\" id=\"ember12010\" class=\"ember-view t-black t-normal\">\n",
              "                    Agoda\n",
              "                  </a>\n",
              "            </span>\n",
              "              <span class=\"jobs-unified-top-card__bullet\">\n",
              "                Łódź, Łódzkie, Poland\n",
              "              </span>\n",
              "\n",
              "<!---->          </span>\n",
              "          <span class=\"jobs-unified-top-card__subtitle-secondary-grouping t-black--light\">\n",
              "              <span class=\"jobs-unified-top-card__posted-date\n",
              "                  \">\n",
              "                4 days ago\n",
              "              </span>\n",
              "<!---->          </span>\n",
              "      </div>\n",
              "\n",
              "      <div class=\"mt5 mb2\">\n",
              "          <ul>\n",
              "                <li class=\"jobs-unified-top-card__job-insight\">\n",
              "                  <div class=\"flex-shrink-zero mr2 t-black--light\">\n",
              "                    \n",
              "    <div class=\"ivm-image-view-model   \">\n",
              "        \n",
              "    <div class=\"ivm-view-attr__img-wrapper ivm-view-attr__img-wrapper--use-img-tag display-flex\n",
              "        \n",
              "        \">\n",
              "        <li-icon aria-hidden=\"true\" type=\"job\" class=\" \" size=\"large\"><svg xmlns=\"http://www.w3.org/2000/svg\" viewBox=\"0 0 24 24\" data-supported-dps=\"24x24\" fill=\"currentColor\" class=\"mercado-match\" width=\"24\" height=\"24\" focusable=\"false\">\n",
              "  <path d=\"M17 6V5a3 3 0 00-3-3h-4a3 3 0 00-3 3v1H2v4a3 3 0 003 3h14a3 3 0 003-3V6zM9 5a1 1 0 011-1h4a1 1 0 011 1v1H9zm10 9a4 4 0 003-1.38V17a3 3 0 01-3 3H5a3 3 0 01-3-3v-4.38A4 4 0 005 14z\"></path>\n",
              "</svg></li-icon>\n",
              "    </div>\n",
              "  \n",
              "          </div>\n",
              "  \n",
              "                  </div>\n",
              "                  <span>\n",
              "                    <!---->Full-time · Associate<!---->\n",
              "                  </span>\n",
              "                </li>\n",
              "                <li class=\"jobs-unified-top-card__job-insight\">\n",
              "                  <div class=\"flex-shrink-zero mr2 t-black--light\">\n",
              "                    \n",
              "    <div class=\"ivm-image-view-model   \">\n",
              "        \n",
              "    <div class=\"ivm-view-attr__img-wrapper ivm-view-attr__img-wrapper--use-img-tag display-flex\n",
              "        \n",
              "        \">\n",
              "        <li-icon aria-hidden=\"true\" type=\"company\" class=\" \" size=\"large\"><svg xmlns=\"http://www.w3.org/2000/svg\" viewBox=\"0 0 24 24\" data-supported-dps=\"24x24\" fill=\"currentColor\" class=\"mercado-match\" width=\"24\" height=\"24\" focusable=\"false\">\n",
              "  <path d=\"M4 2v20h16V2zm14 18h-4v-2h-4v2H6V4h12zm-7-8H8v-2h3zm0 4H8v-2h3zm5-4h-3v-2h3zm-5-4H8V6h3zm5 0h-3V6h3zm0 8h-3v-2h3z\"></path>\n",
              "</svg></li-icon>\n",
              "    </div>\n",
              "  \n",
              "          </div>\n",
              "  \n",
              "                  </div>\n",
              "                  <span>\n",
              "                    <!---->5,001-10,000 employees · Technology, Information and Internet<!---->\n",
              "                  </span>\n",
              "                </li>\n",
              "                    <li class=\"jobs-unified-top-card__job-insight jobs-unified-top-card__job-insight--highlight\">\n",
              "                      <div class=\"flex-shrink-zero mr2 t-black--light\">\n",
              "                        \n",
              "    <div class=\"ivm-image-view-model   \">\n",
              "        \n",
              "    <div class=\"ivm-view-attr__img-wrapper ivm-view-attr__img-wrapper--use-img-tag display-flex\n",
              "        \n",
              "        \">\n",
              "        <li-icon aria-hidden=\"true\" type=\"lightbulb\" class=\" \" size=\"medium\"><svg xmlns=\"http://www.w3.org/2000/svg\" viewBox=\"0 0 24 24\" data-supported-dps=\"24x24\" fill=\"currentColor\" class=\"mercado-match\" width=\"24\" height=\"24\" focusable=\"false\">\n",
              "  <path d=\"M10 20h4v.1a1.9 1.9 0 01-1.9 1.9h-.2a1.9 1.9 0 01-1.9-1.9zm4.68-14.47A1 1 0 0016 5l.76-1.85a1 1 0 00-.54-1.3 1 1 0 00-1.31.54l-.76 1.85a1 1 0 00.53 1.29zm5.09 4.33l1.85-.76a1 1 0 00.54-1.31 1 1 0 00-1.3-.54L19 8a1 1 0 00-.54 1.31 1 1 0 001.3.55zM4.23 14.14l-1.85.76a1 1 0 00-.54 1.31 1 1 0 001.3.54L5 16a1 1 0 00.54-1.31 1 1 0 00-1.3-.55zm17.39.76l-1.85-.76A1 1 0 0019 16l1.85.76a1 1 0 00.78-1.86zM5 8l-1.86-.75a1 1 0 00-1.3.54 1 1 0 00.54 1.31l1.85.76A1 1 0 005 8zm3-3a1 1 0 001.31.54 1 1 0 00.54-1.3L9.1 2.38a1 1 0 00-1.31-.54 1 1 0 00-.54 1.3zm9 6.91V12a5.48 5.48 0 01-1.61 3.88l-.07.08a3.94 3.94 0 00-1.08 1.94L14 19h-4l-.24-1.08A4 4 0 008.68 16l-.07-.07A5.51 5.51 0 017 12v-.1A4.9 4.9 0 0111.9 7h.2a4.9 4.9 0 014.9 4.9zm-2 0A2.9 2.9 0 0012.11 9h-.21A2.9 2.9 0 009 11.9v.1a3.47 3.47 0 001 2.47l.08.08a5.92 5.92 0 011.5 2.45h.84a6 6 0 011.48-2.44l.08-.07A3.48 3.48 0 0015 12z\"></path>\n",
              "</svg></li-icon>\n",
              "    </div>\n",
              "  \n",
              "          </div>\n",
              "  \n",
              "                      </div>\n",
              "                      <span>\n",
              "                        <!---->See recent hiring trends for Agoda.<span class=\"white-space-pre\"> </span><a class=\"app-aware-link \" target=\"_self\" href=\"https://www.linkedin.com/premium/products/?family=JSS&amp;upsellOrderOrigin=premium_job_details_summary_card&amp;utype=job&amp;referenceId=eKZfTUzuQBG4W4gfhFRwVA%3D%3D\" data-test-app-aware-link=\"\"><!---->Try Premium for free<!----></a>\n",
              "                      </span>\n",
              "                    </li>\n",
              "                    <li class=\"jobs-unified-top-card__job-insight\">\n",
              "                      <div class=\"flex-shrink-zero mr2 t-black--light\">\n",
              "                        \n",
              "    <div class=\"ivm-image-view-model   \">\n",
              "        \n",
              "    <div class=\"ivm-view-attr__img-wrapper ivm-view-attr__img-wrapper--use-img-tag display-flex\n",
              "        \n",
              "        \">\n",
              "        <li-icon aria-hidden=\"true\" type=\"checklist\" class=\" \" size=\"medium\"><svg xmlns=\"http://www.w3.org/2000/svg\" viewBox=\"0 0 24 24\" data-supported-dps=\"24x24\" fill=\"currentColor\" class=\"mercado-match\" width=\"24\" height=\"24\" focusable=\"false\">\n",
              "  <path d=\"M22 3v2H11V3zM11 13h11v-2H11zm0 8h11v-2H11zM4.85 4L3.34 2.51 2 3.85 5.15 7l4.6-7H7.48zm0 8l-1.51-1.49L2 11.85 5.15 15l4.6-7H7.48zm0 8l-1.51-1.49L2 19.85 5.15 23l4.6-7H7.48z\"></path>\n",
              "</svg></li-icon>\n",
              "    </div>\n",
              "  \n",
              "          </div>\n",
              "  \n",
              "                      </div>\n",
              "\n",
              "                      <span>\n",
              "                        <span aria-hidden=\"true\"><!---->Skills: A/B тестирование, Инвестиционно-банковская деятельность, +8 more<!----></span><span class=\"visually-hidden\"><!---->Skills: A/B тестирование, Инвестиционно-банковская деятельность, +8 more<!----></span>\n",
              "                      </span>\n",
              "\n",
              "                    </li>\n",
              "          </ul>\n",
              "              </div>\n",
              "\n",
              "      <div class=\"mt5\">\n",
              "          <div class=\"display-flex\">\n",
              "              <div class=\"jobs-s-apply jobs-s-apply--fadein inline-flex mr2\">\n",
              "    <div class=\"jobs-apply-button--top-card\">\n",
              "  <button role=\"link\" aria-label=\"Apply to Data Analyst (Bangkok Based, Relocation Provided) on company website\" id=\"ember12811\" class=\"jobs-apply-button artdeco-button artdeco-button--icon-right artdeco-button--3 artdeco-button--primary ember-view\">  <li-icon aria-hidden=\"true\" type=\"link-external\" class=\"artdeco-button__icon\" size=\"small\"><svg xmlns=\"http://www.w3.org/2000/svg\" viewBox=\"0 0 16 16\" data-supported-dps=\"16x16\" fill=\"currentColor\" class=\"mercado-match\" width=\"16\" height=\"16\" focusable=\"false\">\n",
              "  <path d=\"M15 1v6h-2V4.41L7.41 10 6 8.59 11.59 3H9V1zm-4 10a1 1 0 01-1 1H5a1 1 0 01-1-1V6a1 1 0 011-1h2V3H5a3 3 0 00-3 3v5a3 3 0 003 3h5a3 3 0 003-3V9h-2z\"></path>\n",
              "</svg></li-icon>\n",
              "\n",
              "<span class=\"artdeco-button__text\">\n",
              "    Apply\n",
              "</span></button>\n",
              "</div>\n",
              "</div>\n",
              "\n",
              "              <span class=\"visibility-hidden\"></span>\n",
              "              <button class=\"jobs-save-button artdeco-button artdeco-button--3 artdeco-button--secondary\" type=\"button\">\n",
              "<!---->      <span aria-hidden=\"true\">\n",
              "        Save\n",
              "      </span>\n",
              "    <span class=\"a11y-text\">\n",
              "      Save Data Analyst (Bangkok Based, Relocation Provided) at Agoda\n",
              "    </span>\n",
              "</button>\n",
              "          </div>\n",
              "\n",
              "<!---->\n",
              "<!----><!---->      </div>\n",
              "\n",
              "<!---->\n",
              "<!---->\n",
              "<!----><!---->\n",
              "<!---->    </div>\n",
              "\n",
              "<!---->\n",
              "<!---->\n",
              "    <div class=\"jobs-unified-top-card__buttons-container absolute\">\n",
              "      <div class=\"display-flex flex-column\">\n",
              "        <div class=\"display-flex justify-flex-end\">\n",
              "            <div id=\"ember427\" class=\"artdeco-dropdown artdeco-dropdown--placement-bottom artdeco-dropdown--justification-right ember-view\">\n",
              "    <button aria-expanded=\"false\" aria-label=\"Share\" id=\"ember428\" class=\"social-share__dropdown-trigger artdeco-button artdeco-button--3 artdeco-button--tertiary artdeco-button--circle artdeco-button--muted artdeco-dropdown__trigger artdeco-dropdown__trigger--placement-bottom ember-view\" type=\"button\" tabindex=\"0\">\n",
              "      <li-icon aria-hidden=\"true\" type=\"share-linkedin\" class=\"artdeco-button__icon\" size=\"medium\"><svg xmlns=\"http://www.w3.org/2000/svg\" viewBox=\"0 0 24 24\" data-supported-dps=\"24x24\" fill=\"currentColor\" class=\"mercado-match\" width=\"24\" height=\"24\" focusable=\"false\">\n",
              "  <path d=\"M23 12l-4.61 7H16l4-6H8a3.92 3.92 0 00-4 3.84V17a4 4 0 00.19 1.24L5.12 21H3l-.73-2.22A6.4 6.4 0 012 16.94 6 6 0 018 11h12l-4-6h2.39z\"></path>\n",
              "</svg></li-icon>\n",
              "      <span class=\"artdeco-button__text\">Share</span>\n",
              "    \n",
              "<!----></button>\n",
              "\n",
              "  <div tabindex=\"-1\" aria-hidden=\"true\" id=\"ember429\" class=\"social-share__content text-align-left artdeco-dropdown__content artdeco-dropdown--is-dropdown-element artdeco-dropdown__content--has-arrow artdeco-dropdown__content--arrow-right artdeco-dropdown__content--justification-right artdeco-dropdown__content--placement-bottom ember-view\"><!----></div>\n",
              "</div>\n",
              "\n",
              "<div>\n",
              "    \n",
              "<!---->  \n",
              "\n",
              "</div>\n",
              "\n",
              "<!---->\n",
              "\n",
              "<!---->\n",
              "            <div id=\"ember430\" class=\"artdeco-dropdown jobs-options artdeco-dropdown--placement-bottom artdeco-dropdown--justification-right ember-view\">\n",
              "  \n",
              "              <button aria-expanded=\"false\" id=\"ember431\" class=\"artdeco-button artdeco-button--3 artdeco-button--tertiary artdeco-button--muted artdeco-button--circle artdeco-dropdown__trigger artdeco-dropdown__trigger--placement-bottom ember-view\" type=\"button\" tabindex=\"0\">\n",
              "                <li-icon aria-hidden=\"true\" type=\"overflow-web-ios\" class=\"artdeco-button__icon\"><svg xmlns=\"http://www.w3.org/2000/svg\" viewBox=\"0 0 24 24\" data-supported-dps=\"24x24\" fill=\"currentColor\" class=\"mercado-match\" width=\"24\" height=\"24\" focusable=\"false\">\n",
              "  <path d=\"M14 12a2 2 0 11-2-2 2 2 0 012 2zM4 10a2 2 0 102 2 2 2 0 00-2-2zm16 0a2 2 0 102 2 2 2 0 00-2-2z\"></path>\n",
              "</svg></li-icon>\n",
              "                <span class=\"artdeco-button__text\">\n",
              "                  Show more options\n",
              "                </span>\n",
              "              \n",
              "<!----></button>\n",
              "            \n",
              "  <div tabindex=\"-1\" aria-hidden=\"true\" id=\"ember432\" class=\"artdeco-dropdown__content artdeco-dropdown--is-dropdown-element artdeco-dropdown__content--has-arrow artdeco-dropdown__content--arrow-right artdeco-dropdown__content--justification-right artdeco-dropdown__content--placement-bottom ember-view\"><!----></div>\n",
              "</div>\n",
              "        </div>\n",
              "<!---->      </div>\n",
              "    </div>\n",
              "  </div>\n",
              "    <div class=\"jobs-unified-top-card__sticky-header\n",
              "        jobs-unified-top-card__sticky-header--disabled\">\n",
              "      <div class=\"jobs-unified-top-card__title-container\">\n",
              "          <a data-control-id=\"hsyUSawj4pOoRFtoLjLE+g==\" href=\"/jobs/view/3610211650/?alternateChannel=search&amp;refId=%2FWNl40j8f2XG6X9KN3wbaw%3D%3D&amp;trackingId=hsyUSawj4pOoRFtoLjLE%2Bg%3D%3D&amp;trk=d_flagship3_search_srp_jobs\" id=\"ember433\" class=\"ember-view\">\n",
              "            <h2 class=\"t-16 t-black t-bold truncate\">\n",
              "              Data Analyst (Bangkok Based, Relocation Provided)\n",
              "            </h2>\n",
              "          </a>\n",
              "        <div class=\"t-14 truncate\">\n",
              "          <span>Agoda</span>\n",
              "            <span class=\"jobs-unified-top-card__bullet\">Łódź, Łódzkie, Poland</span>\n",
              "<!---->        </div>\n",
              "      </div>\n",
              "      <div class=\"jobs-unified-top-card__sticky-buttons-container\">\n",
              "          <div class=\"jobs-s-apply jobs-s-apply--fadein inline-flex mr2\">\n",
              "    <div class=\"jobs-apply-button--top-card\">\n",
              "  <button role=\"link\" aria-label=\"Apply to Data Analyst (Bangkok Based, Relocation Provided) on company website\" id=\"ember12812\" class=\"jobs-apply-button artdeco-button artdeco-button--icon-right artdeco-button--2 artdeco-button--primary ember-view\">  <li-icon aria-hidden=\"true\" type=\"link-external\" class=\"artdeco-button__icon\" size=\"small\"><svg xmlns=\"http://www.w3.org/2000/svg\" viewBox=\"0 0 16 16\" data-supported-dps=\"16x16\" fill=\"currentColor\" class=\"mercado-match\" width=\"16\" height=\"16\" focusable=\"false\">\n",
              "  <path d=\"M15 1v6h-2V4.41L7.41 10 6 8.59 11.59 3H9V1zm-4 10a1 1 0 01-1 1H5a1 1 0 01-1-1V6a1 1 0 011-1h2V3H5a3 3 0 00-3 3v5a3 3 0 003 3h5a3 3 0 003-3V9h-2z\"></path>\n",
              "</svg></li-icon>\n",
              "\n",
              "<span class=\"artdeco-button__text\">\n",
              "    Apply\n",
              "</span></button>\n",
              "</div>\n",
              "</div>\n",
              "\n",
              "          <button class=\"jobs-save-button mr2 artdeco-button artdeco-button--2 artdeco-button--secondary\" aria-expanded=\"false\" type=\"button\">\n",
              "<!---->      <span aria-hidden=\"true\">\n",
              "        Save\n",
              "      </span>\n",
              "    <span class=\"a11y-text\">\n",
              "      Save Data Analyst (Bangkok Based, Relocation Provided) at Agoda\n",
              "    </span>\n",
              "</button>\n",
              "\n",
              "        <div id=\"ember434\" class=\"artdeco-dropdown jobs-options artdeco-dropdown--placement-bottom artdeco-dropdown--justification-right ember-view inline-flex\">\n",
              "  \n",
              "          <button aria-expanded=\"false\" id=\"ember435\" class=\"artdeco-button artdeco-button--2 artdeco-button--tertiary artdeco-button--muted artdeco-button--circle artdeco-dropdown__trigger artdeco-dropdown__trigger--placement-bottom ember-view\" type=\"button\" tabindex=\"0\">\n",
              "\n",
              "            <li-icon aria-hidden=\"true\" type=\"overflow-web-ios\" class=\"artdeco-button__icon\"><svg xmlns=\"http://www.w3.org/2000/svg\" viewBox=\"0 0 24 24\" data-supported-dps=\"24x24\" fill=\"currentColor\" class=\"mercado-match\" width=\"24\" height=\"24\" focusable=\"false\">\n",
              "  <path d=\"M14 12a2 2 0 11-2-2 2 2 0 012 2zM4 10a2 2 0 102 2 2 2 0 00-2-2zm16 0a2 2 0 102 2 2 2 0 00-2-2z\"></path>\n",
              "</svg></li-icon>\n",
              "            <span class=\"artdeco-button__text\">\n",
              "              Show more options\n",
              "            </span>\n",
              "          \n",
              "<!----></button>\n",
              "        \n",
              "  <div tabindex=\"-1\" aria-hidden=\"true\" id=\"ember436\" class=\"artdeco-dropdown__content artdeco-dropdown--is-dropdown-element artdeco-dropdown__content--has-arrow artdeco-dropdown__content--arrow-right artdeco-dropdown__content--justification-right artdeco-dropdown__content--placement-bottom ember-view\"><!----></div>\n",
              "</div>\n",
              "      </div>\n",
              "    </div>\n",
              "</div>\n",
              "<!---->\n",
              "<!---->\n",
              "<!---->      </div>\n",
              "\n",
              "<!---->\n",
              "        <div class=\"jobs-box--fadein jobs-box--full-width jobs-box--with-cta-large jobs-description\n",
              "    \n",
              "    \n",
              "    \n",
              "     jobs-description--reformatted\n",
              "    \n",
              "    \">\n",
              "\n",
              "<!---->\n",
              "  <article class=\"jobs-description__container\n",
              "      m4\">\n",
              "    <div class=\"jobs-description__content jobs-description-content\n",
              "        \">\n",
              "      <div class=\"jobs-box__html-content jobs-description-content__text t-14 t-normal\n",
              "          jobs-description-content__text--stretch\" id=\"job-details\" tabindex=\"-1\">\n",
              "        <h2 class=\"text-heading-large mb4\">\n",
              "          About the job\n",
              "        </h2>\n",
              "\n",
              "<!---->\n",
              "<!---->        <span>\n",
              "                <strong>About Agoda</strong><p><br>\n",
              "</p>Agoda is an online travel booking platform for accommodations, flights, and more. We build and deploy cutting-edge technology that connects travelers with more than 2.5 million accommodations globally. Based in Asia and part of Booking Holdings, our 6,000+ employees representing 90+ nationalities foster a work environment rich in diversity, creativity, and collaboration. We innovate through a culture of experimentation and ownership, enhancing the ability for our customers to experience the world.<p><br>\n",
              "</p><strong>Get to know our team: </strong><p><br>\n",
              "</p>The Performance Marketing Team of Agoda is a world leader in online marketing. This department is highly data-driven and focused on developing at-scale marketing programs that improve the lifetime value of Agoda customers through measurable marketing programs and channels. The team is a blend of the best analysts, marketing strategists, and data scientists in the world. The marketing leadership at Agoda has deep experience in data science, product, strategy, and other marketing fields and has built an organization that thrives on data, creative ideas, and technology. The Performance Marketing Team also fosters a great learning environment. You will be able to learn and grow by working closely with experts from a variety of backgrounds from all over the world.<p><br>\n",
              "</p>Due to continued expansion, <strong>there are multiple analyst roles within the marketing team across different marketing channels. While the scope will vary depending on these channels, here are some examples:</strong><p><br>\n",
              "</p><ul><li> Experimentation and optimizing campaign performance: Experiment with ads/campaign structures and bidding&amp; pricing strategies on partners such as Google, Bing, TripAdvisor, Trivago, and other search engines. Adapt to new product features and roll out changes from successful tests. </li><li> Modeling: Analyze vast amounts of data generated by experiments, develop predictive models using data science techniques (e.g. understanding the impact on bookings from large-scale TV campaigns or demand elasticity from pricing optimization), and liaise with product teams on an implementation roadmap </li><li> Reporting, analysis, and insights: Building dashboards to track performance, derive insights, understand growth levers, and communicate recommendations via presentations to stakeholders </li></ul><p><br>\n",
              "</p><strong>What you’ll Need to Succeed: </strong><p><br>\n",
              "</p><ul><li> Bachelor’s degree or higher from top university in a quantitative subject e.g. computer science, mathematics, engineering business, science, or relevant field of study </li><li> 0 to 4 years experience in data crunching from top-tier consulting, investment banking, private equity or strategy/business role for a fast-growing global tech company </li><li> Experience in one or more data analysis packages or databases, e.g., SQL, SAS, R, SPSS, Python, VBA and visualization tools, e.g. Tableau, Power BI, etc. </li><li> Excellent verbal and written communication skills in English </li><li> Ability to move fast and be efficient, making decisions on objective data evidence </li><li> Innate desire to take ownership, make an impact and influence outcomes </li><li> Excellent organizational skills, attention to detail and ability to work independently </li></ul><p><br>\n",
              "</p><strong>It’s great if you have: </strong><p><br>\n",
              "</p><ul><li> Experience in digital marketing or e-commerce </li><li> Experience with A/B testing and other testing metrics </li><li> Strong presentation and negotiation skills </li></ul><p><br>\n",
              "</p>#entrylevel #STRA#ANLS#MRKT#3 #sanfrancisco #sanjose #losangeles #sandiego #oakland #denver #miami #orlando #atlanta #chicago #boston #detroit #newyork #portland #philadelphia #dallas #houston #austin #seattle #washdc #tirana #yerevan #sydney #melbourne #perth #vienna #graz #linz #baku #minsk #brussels #antwerp #ghent #charleroi #liege #saopaolo #sofia #toronto #vancouver #montreal #shanghai #beijing #shenzhen #zagreb #cyprus #prague #Brno #Ostrava #copenhagen #cairo #alexandria #giza #estonia #helsinki #paris #nice #marseille #rouen #lyon #toulouse #tbilisi #berlin #munich #hamburg #stuttgart #cologne #frankfurt #dusseldorf #dortmund #essen #Bremen #leipzig #dresden #hanover #nuremberg #athens #hongkong #budapest #bangalore #newdelhi #jakarta #bali #bandung #dublin #telaviv #milan #rome #naples #turin #palermo #venice #bologna #florence #tokyo #osaka #yokohama #nagoya #okinawa #fukuoka #sapporo #amman #irbid #riga #beirut #tripoli #vilnius #luxembourg #kualalumpur #malta #chisinau #amsterdam #oslo #jerusalem #manila #warsaw #krakow #sintra #lisbon #porto #braga #cascais #loures #amadora #almada #doha #alrayyan #bucharest #moscow #saintpetersburg #riyadh #jeddah #mecca #medina #belgrade #singapore #bratislava #capetown #johannesburg #seoul #barcelona #madrid #valencia #seville #bilbao #malaga #oviedo #alicante #laspalmas #zaragozbanga #stockholm #zurich #geneva #basel #taipei #tainan #taichung #kaohsiung #Phuket #bangkok #istanbul #ankara #izmir #dubai #abudhabi #sharjah #london #manchester #liverpool #edinburgh #kiev #hcmc #hanoi #sanaa #taiz #aden #gibraltar #marrakech #lodz #wroclaw #poznan #Gdansk #szczecin #bydgoszcz #lublin #katowice #rio #salvador #fortaleza #brasilia #belo #belem #manaus #curitiba #portoalegre #saoluis data representation data analysis SQL data analytics analytics python (programming language) data mining data science r (programming language) tableau analytical skills data visualization databases business analysis business intelligence (bi) microsoft sql server machine learning statistics power bi<p><br>\n",
              "</p><strong>Equal Opportunity Employer </strong><p><br>\n",
              "</p>At Agoda, we pride ourselves on being a company represented by people of all different backgrounds and orientations. We prioritize attracting diverse talent and cultivating an inclusive environment that encourages collaboration and innovation. Employment at Agoda is based solely on a person’s merit and qualifications. We are committed to providing equal employment opportunity regardless of sex, age, race, color, national origin, religion, marital status, pregnancy, sexual orientation, gender identity, disability, citizenship, veteran or military status, and other legally protected characteristics.<p><br>\n",
              "</p>We will keep your application on file so that we can consider you for future vacancies and you can always ask to have your details removed from the file. For more details please read our privacy policy .<p><br>\n",
              "</p>To all recruitment agencies: Agoda does not accept third party resumes. Please do not send resumes to our jobs alias, Agoda employees or any other organization location. Agoda is not responsible for any fees related to unsolicited resumes.<p><br>\n",
              "</p>\n",
              "<!---->        </span>\n",
              "      </div>\n",
              "<!---->      <div class=\"jobs-description__details\">\n",
              "<!---->\n",
              "      </div>\n",
              "    </div>\n",
              "  </article>\n",
              "<!----></div>\n",
              "<!---->\n",
              "          <div id=\"SALARY\" class=\"jobs-unified-description__salary-main-rail-card\">\n",
              "<!----><!---->          </div>\n",
              "\n",
              "<!---->\n",
              "<!----><!---->\n",
              "<!---->\n",
              "              <section id=\"ember12813\" class=\"artdeco-card ember-view\"><!---->\n",
              "\n",
              "                <section class=\"jobs-company jobs-box--fadein mb4 jobs-company--two-pane\">\n",
              "  <div class=\"jobs-company__box\">\n",
              "    <h2 class=\"text-heading-large\">\n",
              "      About the company\n",
              "    </h2>\n",
              "\n",
              "    <div class=\"display-flex align-items-center mt5\">\n",
              "      <div id=\"ember12814\" class=\"artdeco-entity-lockup artdeco-entity-lockup--size-5 ember-view flex-grow-1\">\n",
              "        <div id=\"ember12815\" class=\"artdeco-entity-lockup__image artdeco-entity-lockup__image--type-square ember-view\" type=\"square\">\n",
              "          <a href=\"/company/agoda/life/\" id=\"ember12816\" class=\"ember-view link-without-hover-state inline-block\">\n",
              "            <img title=\"Agoda\" src=\"https://media.licdn.com/dms/image/C4D0BAQGBa_7QNZNwpw/company-logo_100_100/0/1656643826125?e=1692835200&amp;v=beta&amp;t=CAIzrUs_bKxtUzJmmQZQ3lWEDKd9gzTs_Drv6dMX7FU\" alt=\"Agoda company logo\" id=\"ember12817\" class=\"evi-image ember-view\">\n",
              "          </a>\n",
              "        \n",
              "</div>\n",
              "        <div id=\"ember12818\" class=\"artdeco-entity-lockup__content ember-view flex-grow-1\">\n",
              "          <div id=\"ember12819\" class=\"artdeco-entity-lockup__title ember-view t-20\">\n",
              "            <a href=\"/company/agoda/life/\" id=\"ember12820\" class=\"ember-view link-without-visited-state inline-block t-black\">\n",
              "              Agoda\n",
              "            </a>\n",
              "          \n",
              "</div>\n",
              "          <div id=\"ember12821\" class=\"artdeco-entity-lockup__subtitle ember-view t-16\">\n",
              "            467,107 followers\n",
              "          </div>\n",
              "        </div>\n",
              "      \n",
              "</div>\n",
              "      <button class=\"follow   artdeco-button artdeco-button--secondary\n",
              "          \n",
              "          ml5\" aria-label=\"Follow\" aria-pressed=\"false\" type=\"button\">\n",
              "      <svg role=\"none\" aria-hidden=\"true\" class=\"artdeco-button__icon\" xmlns=\"http://www.w3.org/2000/svg\" width=\"16\" height=\"16\" viewBox=\"0 0 16 16\" data-supported-dps=\"16x16\" data-test-icon=\"add-small\">\n",
              "<!---->    \n",
              "\n",
              "    <use href=\"#add-small\" width=\"16\" height=\"16\"></use>\n",
              "</svg>\n",
              "\n",
              "    <span aria-hidden=\"true\">Follow</span>\n",
              "</button>\n",
              "    </div>\n",
              "\n",
              "    <div class=\"t-14 mt5\">\n",
              "      Computer Software\n",
              "        <span class=\"jobs-company__inline-information\">\n",
              "          5,001-10,000 employees\n",
              "        </span>\n",
              "        <span class=\"jobs-company__inline-information\">\n",
              "          8,079 on LinkedIn\n",
              "        </span>\n",
              "    </div>\n",
              "\n",
              "    <p class=\"jobs-company__company-description text-body-small-open\">\n",
              "      <div class=\"inline-show-more-text\n",
              "    inline-show-more-text--is-collapsed\n",
              "    inline-show-more-text--is-collapsed-with-line-clamp\n",
              "    \n",
              "    \n",
              "    \" style=\"-webkit-line-clamp:3;\" tabindex=\"-1\">\n",
              "\n",
              "    Agoda is transforming travel for millions of customers across the globe. <br><br>Headquartered in Asia, Agoda is one of the world’s largest online travel platforms. Founded in 2005 and now part of Booking Holdings (Nasdaq:BKNG), Agoda has a network of over 2,900,000 properties worldwide. Our web and mobile products provide a first-rate reservation service in 38 languages that uniquely combines local knowledge and local connections to provide the best deals for business and leisure travelers.<br><br>Agoda employs over 7,000 professionals from 90 nationalities in locations around the globe. In every department – from engineering to customer experience – we provide an environment rich with creativity, collaboration, and experimentation, and the tools to work faster and smarter.<br><br>At Agoda, we believe our people are our strength. We work hard and have fun, and we choose people who are dedicated to making things great.<br><br>For properties seeking partnership with Agoda, visit https://connect.agoda.com\n",
              "  \n",
              "      <span class=\"inline-show-more-text__link-container-collapsed\">\n",
              "          <span>…</span>\n",
              "        <button class=\"inline-show-more-text__button\n",
              "            inline-show-more-text__button--light\n",
              "            link\" aria-expanded=\"false\" type=\"button\">\n",
              "          show more\n",
              "        </button>\n",
              "      </span>\n",
              "\n",
              "<!----></div>\n",
              "    </p>\n",
              "\n",
              "<!---->\n",
              "      <div class=\"jobs-company__content mt5 pt5\">\n",
              "          \n",
              "<section class=\"org-life-feed-gallery__container\n",
              "    \n",
              "    org-life-feed-gallery__container--inline\">\n",
              "  <section id=\"ember12824\" class=\"artdeco-carousel ember-view\"><div class=\"artdeco-carousel__heading\n",
              "    artdeco-carousel__heading--custom\">\n",
              "    \n",
              "    <div id=\"ember12825\" class=\"artdeco-carousel__title ember-view\">\n",
              "      <h2 class=\"t-16 t-black t-bold\">\n",
              "        Trending employee content\n",
              "      </h2>\n",
              "<!---->    </div>\n",
              "    <!---->\n",
              "  \n",
              "    <div class=\"artdeco-carousel__navigation\n",
              "        \">\n",
              "      <div id=\"ember12826\" class=\"artdeco-pagination artdeco-pagination--hide-pagination artdeco-pagination--has-controls ember-view\">  <button disabled=\"\" aria-label=\"Previous\" id=\"ember12827\" class=\"artdeco-pagination__button artdeco-pagination__button--previous artdeco-button artdeco-button--muted artdeco-button--1 artdeco-button--tertiary artdeco-button--disabled ember-view\" type=\"button\">  <li-icon aria-hidden=\"true\" type=\"chevron-left-icon\" class=\"artdeco-button__icon\" size=\"small\"><svg xmlns=\"http://www.w3.org/2000/svg\" viewBox=\"0 0 16 16\" class=\"mercado-match\" data-supported-dps=\"16x16\" fill=\"currentColor\" width=\"16\" height=\"16\" focusable=\"false\">\n",
              "  <path d=\"M11 1L6.39 8 11 15H8.61L4 8l4.61-7z\"></path>\n",
              "</svg></li-icon>\n",
              "\n",
              "<span class=\"artdeco-button__text\">\n",
              "    Previous\n",
              "</span></button>\n",
              "\n",
              "<!---->\n",
              "  <button aria-label=\"Next\" id=\"ember12828\" class=\"artdeco-pagination__button artdeco-pagination__button--next artdeco-button artdeco-button--muted artdeco-button--icon-right artdeco-button--1 artdeco-button--tertiary ember-view\" type=\"button\">  <li-icon aria-hidden=\"true\" type=\"chevron-right-icon\" class=\"artdeco-button__icon\" size=\"small\"><svg xmlns=\"http://www.w3.org/2000/svg\" viewBox=\"0 0 16 16\" class=\"mercado-match\" data-supported-dps=\"16x16\" fill=\"currentColor\" width=\"16\" height=\"16\" focusable=\"false\">\n",
              "  <path d=\"M5 15l4.61-7L5 1h2.39L12 8l-4.61 7z\"></path>\n",
              "</svg></li-icon>\n",
              "\n",
              "<span class=\"artdeco-button__text\">\n",
              "    Next\n",
              "</span></button>\n",
              "</div>\n",
              "    </div>\n",
              "</div>\n",
              "\n",
              "<div class=\"artdeco-carousel__content\">\n",
              "    \n",
              "    <!---->\n",
              "    <ul id=\"ember12829\" class=\"artdeco-carousel__slider ember-view\" role=\"none\" style=\"transform: translateX(0px);\">\n",
              "        <li tabindex=\"-1\" style=\"width: 190px;\" data-item-index=\"0\" id=\"ember12830\" class=\"artdeco-carousel__item active ember-view\"><div data-test-display=\"display\" class=\"artdeco-carousel__item-container\">\n",
              "    \n",
              "              <div id=\"ember12840\" class=\"ember-view org-life-feed-gallery__occludable-carousel-item  \">\n",
              "<!---->    </div>\n",
              "\n",
              "        \n",
              "</div></li>\n",
              "        <li tabindex=\"-1\" style=\"width: 190px;\" data-item-index=\"1\" id=\"ember12831\" class=\"artdeco-carousel__item ember-view\"><div data-test-display=\"display\" class=\"artdeco-carousel__item-container\">\n",
              "    \n",
              "              <div id=\"ember12841\" class=\"ember-view org-life-feed-gallery__occludable-carousel-item  \">\n",
              "<!---->    </div>\n",
              "\n",
              "        \n",
              "</div></li>\n",
              "        <li tabindex=\"-1\" style=\"width: 190px;\" data-item-index=\"2\" id=\"ember12832\" class=\"artdeco-carousel__item ember-view\"><div data-test-display=\"display\" class=\"artdeco-carousel__item-container\">\n",
              "    \n",
              "              <div id=\"ember12842\" class=\"ember-view org-life-feed-gallery__occludable-carousel-item  \">\n",
              "<!---->    </div>\n",
              "\n",
              "        \n",
              "</div></li>\n",
              "        <li tabindex=\"-1\" style=\"width: 190px;\" data-item-index=\"3\" id=\"ember12833\" class=\"artdeco-carousel__item ember-view\"><div data-test-display=\"display\" class=\"artdeco-carousel__item-container\">\n",
              "    \n",
              "              <div id=\"ember12843\" class=\"ember-view org-life-feed-gallery__occludable-carousel-item  \">\n",
              "<!---->    </div>\n",
              "\n",
              "        \n",
              "</div></li>\n",
              "        <li tabindex=\"-1\" style=\"width: 190px;\" data-item-index=\"4\" id=\"ember12834\" class=\"artdeco-carousel__item ember-view\"><div data-test-display=\"hidden\" class=\"artdeco-carousel__item-container\">\n",
              "<!----></div></li>\n",
              "        <li tabindex=\"-1\" style=\"width: 190px;\" data-item-index=\"5\" id=\"ember12835\" class=\"artdeco-carousel__item ember-view\"><div data-test-display=\"hidden\" class=\"artdeco-carousel__item-container\">\n",
              "<!----></div></li>\n",
              "        <li tabindex=\"-1\" style=\"width: 190px;\" data-item-index=\"6\" id=\"ember12836\" class=\"artdeco-carousel__item ember-view\"><div data-test-display=\"hidden\" class=\"artdeco-carousel__item-container\">\n",
              "<!----></div></li>\n",
              "        <li tabindex=\"-1\" style=\"width: 190px;\" data-item-index=\"7\" id=\"ember12837\" class=\"artdeco-carousel__item ember-view\"><div data-test-display=\"hidden\" class=\"artdeco-carousel__item-container\">\n",
              "<!----></div></li>\n",
              "        <li tabindex=\"-1\" style=\"width: 190px;\" data-item-index=\"8\" id=\"ember12838\" class=\"artdeco-carousel__item ember-view\"><div data-test-display=\"hidden\" class=\"artdeco-carousel__item-container\">\n",
              "<!----></div></li>\n",
              "        <li tabindex=\"-1\" style=\"width: 190px;\" data-item-index=\"9\" id=\"ember12839\" class=\"artdeco-carousel__item ember-view\"><div data-test-display=\"hidden\" class=\"artdeco-carousel__item-container\">\n",
              "<!----></div></li>\n",
              "    </ul>\n",
              "  \n",
              "</div>\n",
              "\n",
              "<!----></section>\n",
              "\n",
              "<!----></section>\n",
              "      </div>\n",
              "  </div>\n",
              "\n",
              "<!---->\n",
              "    <div class=\"jobs-company__footer text-align-center\">\n",
              "      <a href=\"/company/agoda/life/\" id=\"ember12822\" class=\"ember-view link-without-hover-state block pv3\" aria-label=\"Show more about the company\">\n",
              "        Show more\n",
              "      </a>\n",
              "    </div>\n",
              "</section>\n",
              "              </section>\n",
              "\n",
              "<!---->    </div>\n",
              "\n",
              "<!---->  </div>\n",
              "\n",
              "  <div id=\"ember438\" class=\"ember-view\"><!----></div>\n",
              "\n",
              "<div id=\"ember439\" class=\"ember-view\"><div id=\"ember440\" class=\"ember-view\"><!----></div></div>\n",
              "\n",
              "  <div id=\"ember441\" class=\"ember-view\"><!----></div>\n",
              "\n",
              "<!---->\n",
              "<!---->\n",
              "<!---->\n",
              "  <div>\n",
              "    <div id=\"ember442\" class=\"ember-view\"><!----></div>\n",
              "</div>\n",
              "\n",
              "<!---->"
            ]
          },
          "metadata": {}
        }
      ]
    },
    {
      "cell_type": "markdown",
      "source": [
        "### Добавление характеристик вакансий в датафрейм"
      ],
      "metadata": {
        "id": "p_0UXl-Gy0zK"
      }
    },
    {
      "cell_type": "markdown",
      "source": [
        "Если посмотреть страницы нескольких вакансйи, то несложно заметить, что почти все они обладают некоторым набором характеристик. Попробуем их вытащить и создать для каждого отдельный столбец. Нам потребуется найти:\n",
        "*   наименование вакансии\n",
        "*   город\n",
        "*   страна\n",
        "*   тип занятости (online, hybride, on-site)\n",
        "*   компания\n",
        "*   размер компании (количество работников)\n",
        "*   сфера деятельности компании\n",
        "*   требуемые хард скилы\n",
        "*   дата публикации вакансии\n",
        "*   количество кандидатов на вакансию\n",
        "\n"
      ],
      "metadata": {
        "id": "7naMTrQry_dn"
      }
    },
    {
      "cell_type": "markdown",
      "source": [
        "Напишем функцию, которая будет из описания html вытаскивать сырые данные по большинству из требуемых характеристик, все шероховатости мы устраним на этапе предобработки."
      ],
      "metadata": {
        "id": "Z27OTUFutxfr"
      }
    },
    {
      "cell_type": "markdown",
      "source": [
        "Создадим тестовый датафрей, на котором будем обкатывать функцию."
      ],
      "metadata": {
        "id": "0D3grgelw1uS"
      }
    },
    {
      "cell_type": "code",
      "source": [
        "#тестовый датафрейм\n",
        "db = jobs.head(6).append(jobs.tail(6)).copy()\n",
        "db = db.reset_index(drop = True)\n",
        "db"
      ],
      "metadata": {
        "colab": {
          "base_uri": "https://localhost:8080/",
          "height": 426
        },
        "id": "H6wRJbo6xzTk",
        "outputId": "edf9a690-66ea-4d8c-c107-a874bc256a85"
      },
      "execution_count": null,
      "outputs": [
        {
          "output_type": "execute_result",
          "data": {
            "text/plain": [
              "                                                 html\n",
              "0   \\n  <div>\\n    <div class=\"\\n        jobs-deta...\n",
              "1   \\n  <div>\\n    <div class=\"\\n        jobs-deta...\n",
              "2   \\n  <div>\\n    <div class=\"\\n        jobs-deta...\n",
              "3   \\n  <div>\\n    <div class=\"\\n        jobs-deta...\n",
              "4   \\n  <div>\\n    <div class=\"\\n        jobs-deta...\n",
              "5   \\n  <div>\\n    <div class=\"\\n        jobs-deta...\n",
              "6   \\n  <div>\\n    <div class=\"\\n        jobs-deta...\n",
              "7   \\n  <div>\\n    <div class=\"\\n        jobs-deta...\n",
              "8   \\n  <div>\\n    <div class=\"\\n        jobs-deta...\n",
              "9   \\n  <div>\\n    <div class=\"\\n        jobs-deta...\n",
              "10  \\n  <div>\\n    <div class=\"\\n        jobs-deta...\n",
              "11  \\n  <div>\\n    <div class=\"\\n        jobs-deta..."
            ],
            "text/html": [
              "\n",
              "\n",
              "  <div id=\"df-2f353144-0629-475b-9121-359c38149e20\">\n",
              "    <div class=\"colab-df-container\">\n",
              "      <div>\n",
              "<style scoped>\n",
              "    .dataframe tbody tr th:only-of-type {\n",
              "        vertical-align: middle;\n",
              "    }\n",
              "\n",
              "    .dataframe tbody tr th {\n",
              "        vertical-align: top;\n",
              "    }\n",
              "\n",
              "    .dataframe thead th {\n",
              "        text-align: right;\n",
              "    }\n",
              "</style>\n",
              "<table border=\"1\" class=\"dataframe\">\n",
              "  <thead>\n",
              "    <tr style=\"text-align: right;\">\n",
              "      <th></th>\n",
              "      <th>html</th>\n",
              "    </tr>\n",
              "  </thead>\n",
              "  <tbody>\n",
              "    <tr>\n",
              "      <th>0</th>\n",
              "      <td>\\n  &lt;div&gt;\\n    &lt;div class=\"\\n        jobs-deta...</td>\n",
              "    </tr>\n",
              "    <tr>\n",
              "      <th>1</th>\n",
              "      <td>\\n  &lt;div&gt;\\n    &lt;div class=\"\\n        jobs-deta...</td>\n",
              "    </tr>\n",
              "    <tr>\n",
              "      <th>2</th>\n",
              "      <td>\\n  &lt;div&gt;\\n    &lt;div class=\"\\n        jobs-deta...</td>\n",
              "    </tr>\n",
              "    <tr>\n",
              "      <th>3</th>\n",
              "      <td>\\n  &lt;div&gt;\\n    &lt;div class=\"\\n        jobs-deta...</td>\n",
              "    </tr>\n",
              "    <tr>\n",
              "      <th>4</th>\n",
              "      <td>\\n  &lt;div&gt;\\n    &lt;div class=\"\\n        jobs-deta...</td>\n",
              "    </tr>\n",
              "    <tr>\n",
              "      <th>5</th>\n",
              "      <td>\\n  &lt;div&gt;\\n    &lt;div class=\"\\n        jobs-deta...</td>\n",
              "    </tr>\n",
              "    <tr>\n",
              "      <th>6</th>\n",
              "      <td>\\n  &lt;div&gt;\\n    &lt;div class=\"\\n        jobs-deta...</td>\n",
              "    </tr>\n",
              "    <tr>\n",
              "      <th>7</th>\n",
              "      <td>\\n  &lt;div&gt;\\n    &lt;div class=\"\\n        jobs-deta...</td>\n",
              "    </tr>\n",
              "    <tr>\n",
              "      <th>8</th>\n",
              "      <td>\\n  &lt;div&gt;\\n    &lt;div class=\"\\n        jobs-deta...</td>\n",
              "    </tr>\n",
              "    <tr>\n",
              "      <th>9</th>\n",
              "      <td>\\n  &lt;div&gt;\\n    &lt;div class=\"\\n        jobs-deta...</td>\n",
              "    </tr>\n",
              "    <tr>\n",
              "      <th>10</th>\n",
              "      <td>\\n  &lt;div&gt;\\n    &lt;div class=\"\\n        jobs-deta...</td>\n",
              "    </tr>\n",
              "    <tr>\n",
              "      <th>11</th>\n",
              "      <td>\\n  &lt;div&gt;\\n    &lt;div class=\"\\n        jobs-deta...</td>\n",
              "    </tr>\n",
              "  </tbody>\n",
              "</table>\n",
              "</div>\n",
              "      <button class=\"colab-df-convert\" onclick=\"convertToInteractive('df-2f353144-0629-475b-9121-359c38149e20')\"\n",
              "              title=\"Convert this dataframe to an interactive table.\"\n",
              "              style=\"display:none;\">\n",
              "\n",
              "  <svg xmlns=\"http://www.w3.org/2000/svg\" height=\"24px\"viewBox=\"0 0 24 24\"\n",
              "       width=\"24px\">\n",
              "    <path d=\"M0 0h24v24H0V0z\" fill=\"none\"/>\n",
              "    <path d=\"M18.56 5.44l.94 2.06.94-2.06 2.06-.94-2.06-.94-.94-2.06-.94 2.06-2.06.94zm-11 1L8.5 8.5l.94-2.06 2.06-.94-2.06-.94L8.5 2.5l-.94 2.06-2.06.94zm10 10l.94 2.06.94-2.06 2.06-.94-2.06-.94-.94-2.06-.94 2.06-2.06.94z\"/><path d=\"M17.41 7.96l-1.37-1.37c-.4-.4-.92-.59-1.43-.59-.52 0-1.04.2-1.43.59L10.3 9.45l-7.72 7.72c-.78.78-.78 2.05 0 2.83L4 21.41c.39.39.9.59 1.41.59.51 0 1.02-.2 1.41-.59l7.78-7.78 2.81-2.81c.8-.78.8-2.07 0-2.86zM5.41 20L4 18.59l7.72-7.72 1.47 1.35L5.41 20z\"/>\n",
              "  </svg>\n",
              "      </button>\n",
              "\n",
              "\n",
              "\n",
              "    <div id=\"df-26560d92-aa3f-4a52-80d4-94a0f3633a67\">\n",
              "      <button class=\"colab-df-quickchart\" onclick=\"quickchart('df-26560d92-aa3f-4a52-80d4-94a0f3633a67')\"\n",
              "              title=\"Suggest charts.\"\n",
              "              style=\"display:none;\">\n",
              "\n",
              "<svg xmlns=\"http://www.w3.org/2000/svg\" height=\"24px\"viewBox=\"0 0 24 24\"\n",
              "     width=\"24px\">\n",
              "    <g>\n",
              "        <path d=\"M19 3H5c-1.1 0-2 .9-2 2v14c0 1.1.9 2 2 2h14c1.1 0 2-.9 2-2V5c0-1.1-.9-2-2-2zM9 17H7v-7h2v7zm4 0h-2V7h2v10zm4 0h-2v-4h2v4z\"/>\n",
              "    </g>\n",
              "</svg>\n",
              "      </button>\n",
              "    </div>\n",
              "\n",
              "<style>\n",
              "  .colab-df-quickchart {\n",
              "    background-color: #E8F0FE;\n",
              "    border: none;\n",
              "    border-radius: 50%;\n",
              "    cursor: pointer;\n",
              "    display: none;\n",
              "    fill: #1967D2;\n",
              "    height: 32px;\n",
              "    padding: 0 0 0 0;\n",
              "    width: 32px;\n",
              "  }\n",
              "\n",
              "  .colab-df-quickchart:hover {\n",
              "    background-color: #E2EBFA;\n",
              "    box-shadow: 0px 1px 2px rgba(60, 64, 67, 0.3), 0px 1px 3px 1px rgba(60, 64, 67, 0.15);\n",
              "    fill: #174EA6;\n",
              "  }\n",
              "\n",
              "  [theme=dark] .colab-df-quickchart {\n",
              "    background-color: #3B4455;\n",
              "    fill: #D2E3FC;\n",
              "  }\n",
              "\n",
              "  [theme=dark] .colab-df-quickchart:hover {\n",
              "    background-color: #434B5C;\n",
              "    box-shadow: 0px 1px 3px 1px rgba(0, 0, 0, 0.15);\n",
              "    filter: drop-shadow(0px 1px 2px rgba(0, 0, 0, 0.3));\n",
              "    fill: #FFFFFF;\n",
              "  }\n",
              "</style>\n",
              "\n",
              "    <script>\n",
              "      async function quickchart(key) {\n",
              "        const containerElement = document.querySelector('#' + key);\n",
              "        const charts = await google.colab.kernel.invokeFunction(\n",
              "            'suggestCharts', [key], {});\n",
              "      }\n",
              "    </script>\n",
              "\n",
              "      <script>\n",
              "\n",
              "function displayQuickchartButton(domScope) {\n",
              "  let quickchartButtonEl =\n",
              "    domScope.querySelector('#df-26560d92-aa3f-4a52-80d4-94a0f3633a67 button.colab-df-quickchart');\n",
              "  quickchartButtonEl.style.display =\n",
              "    google.colab.kernel.accessAllowed ? 'block' : 'none';\n",
              "}\n",
              "\n",
              "        displayQuickchartButton(document);\n",
              "      </script>\n",
              "      <style>\n",
              "    .colab-df-container {\n",
              "      display:flex;\n",
              "      flex-wrap:wrap;\n",
              "      gap: 12px;\n",
              "    }\n",
              "\n",
              "    .colab-df-convert {\n",
              "      background-color: #E8F0FE;\n",
              "      border: none;\n",
              "      border-radius: 50%;\n",
              "      cursor: pointer;\n",
              "      display: none;\n",
              "      fill: #1967D2;\n",
              "      height: 32px;\n",
              "      padding: 0 0 0 0;\n",
              "      width: 32px;\n",
              "    }\n",
              "\n",
              "    .colab-df-convert:hover {\n",
              "      background-color: #E2EBFA;\n",
              "      box-shadow: 0px 1px 2px rgba(60, 64, 67, 0.3), 0px 1px 3px 1px rgba(60, 64, 67, 0.15);\n",
              "      fill: #174EA6;\n",
              "    }\n",
              "\n",
              "    [theme=dark] .colab-df-convert {\n",
              "      background-color: #3B4455;\n",
              "      fill: #D2E3FC;\n",
              "    }\n",
              "\n",
              "    [theme=dark] .colab-df-convert:hover {\n",
              "      background-color: #434B5C;\n",
              "      box-shadow: 0px 1px 3px 1px rgba(0, 0, 0, 0.15);\n",
              "      filter: drop-shadow(0px 1px 2px rgba(0, 0, 0, 0.3));\n",
              "      fill: #FFFFFF;\n",
              "    }\n",
              "  </style>\n",
              "\n",
              "      <script>\n",
              "        const buttonEl =\n",
              "          document.querySelector('#df-2f353144-0629-475b-9121-359c38149e20 button.colab-df-convert');\n",
              "        buttonEl.style.display =\n",
              "          google.colab.kernel.accessAllowed ? 'block' : 'none';\n",
              "\n",
              "        async function convertToInteractive(key) {\n",
              "          const element = document.querySelector('#df-2f353144-0629-475b-9121-359c38149e20');\n",
              "          const dataTable =\n",
              "            await google.colab.kernel.invokeFunction('convertToInteractive',\n",
              "                                                     [key], {});\n",
              "          if (!dataTable) return;\n",
              "\n",
              "          const docLinkHtml = 'Like what you see? Visit the ' +\n",
              "            '<a target=\"_blank\" href=https://colab.research.google.com/notebooks/data_table.ipynb>data table notebook</a>'\n",
              "            + ' to learn more about interactive tables.';\n",
              "          element.innerHTML = '';\n",
              "          dataTable['output_type'] = 'display_data';\n",
              "          await google.colab.output.renderOutput(dataTable, element);\n",
              "          const docLink = document.createElement('div');\n",
              "          docLink.innerHTML = docLinkHtml;\n",
              "          element.appendChild(docLink);\n",
              "        }\n",
              "      </script>\n",
              "    </div>\n",
              "  </div>\n"
            ]
          },
          "metadata": {},
          "execution_count": 9
        }
      ]
    },
    {
      "cell_type": "markdown",
      "source": [
        "Предварительно просмотрев несколько вакансий, мы обнаружили, что некоторые  характеристики, такие как тип удаленной занятости или hurd-скилы указаны неявно, их нужно искать по тексту описания вакансии. Поэтому создадим вспомогательную функцию, которая будет искать в описании вакансии необходимые нам ключевые слова."
      ],
      "metadata": {
        "id": "JwxsoRpQSFDc"
      }
    },
    {
      "cell_type": "code",
      "source": [
        "def find_keywords(cell, check_list):\n",
        "  \"\"\"\n",
        "  Функция берет текстовое описание вакансии, ищет в нем ключевые слова из\n",
        "  переданного списка. На выходе возвращает строку с перечнем всех найденных\n",
        "  ключевых слов через запятую.\n",
        "\n",
        "  Parameters:\n",
        "  сell - поле с текстом, по которому будет происходить поиск ключевых слов\n",
        "  check_list - список ключевых слов для поиска\n",
        "  \"\"\"\n",
        "\n",
        "  key_list=[]\n",
        "  for i in check_list:\n",
        "      pattern = (\n",
        "          r'(\\b|\\W)'\n",
        "          + re.escape(i)\n",
        "          + r'(\\b|\\W)'\n",
        "          +'|'\n",
        "          + r'(\\b|\\W)'\n",
        "          +re.escape(i.replace(' ', ''))\n",
        "          + r'(\\b|\\W)'\n",
        "      )\n",
        "      if re.search(pattern, cell.lower()):\n",
        "            key_list.append(i)\n",
        "  if len(key_list)!=0:\n",
        "    return (','.join(key_list))\n",
        "  else:\n",
        "    return 'unknown'"
      ],
      "metadata": {
        "id": "Hrp8SScutUqG"
      },
      "execution_count": null,
      "outputs": []
    },
    {
      "cell_type": "markdown",
      "source": [
        "Создадим список ключевых слов для типа удаленной работы."
      ],
      "metadata": {
        "id": "vuOUtZQHTZNK"
      }
    },
    {
      "cell_type": "code",
      "source": [
        "workplace = ['remote','hybrid','on site', 'onsite','on-site', 'from home', 'from office', 'home office']"
      ],
      "metadata": {
        "id": "1OYZE6bhtVDS"
      },
      "execution_count": null,
      "outputs": []
    },
    {
      "cell_type": "markdown",
      "source": [
        "И отдельно создадим список с перечнем основных hurd-скилов, которые встречаются в требованиях к аналитикам."
      ],
      "metadata": {
        "id": "B9TS4ymNTd6l"
      }
    },
    {
      "cell_type": "code",
      "source": [
        "skills = [ 'a/b testing', 'ab testing', 'actian', 'adobe analytics', 'adobe audience manager',\n",
        "          'adobe experience platform', 'adobe launch', 'adobe target', 'ai', 'airflow', 'agile', 'alooma',\n",
        "          'alteryx', 'amazon machine learning', 'amazon web services', 'aml', 'amplitude', 'ansible',\n",
        "          'apache camel', 'apache nifi', 'apache spark', 'api', 'asana', 'auth0', 'aws', 'aws glue',\n",
        "          'azure', 'azure data factory', 'basecamp', 'bash', 'beats', 'big query', 'bigquery', 'birst',\n",
        "          'bitbucket', 'blendo', 'bootstrap', 'business objects bi', 'c#', 'c++', 'caffe', 'cassandra',\n",
        "          'cdata sync', 'chronograf', 'ci/cd', 'cicd', 'clickhouse', 'cloudera', 'cluvio', 'cntk', 'cognos',\n",
        "          'composer', 'computer vision', 'conda', 'confluence', 'couchbase', 'css', 'd3.js', 'dash', 'dashboard',\n",
        "          'data pipelines', 'data engineering',\n",
        "          'data factory', 'data fusion', 'data mining', 'data studio', 'data warehouse', 'databricks', 'dataddo',\n",
        "          'dataflow', 'datahub', 'dataiku', 'datastage', 'dbconvert', 'dbeaver', 'dbt', 'deep learning', 'dl/ml',\n",
        "          'docker', 'domo', 'dune', 'dv360', 'dynamodb', 'elasticsearch', 'elt', 'erwin', 'etl', 'etleap', 'excel',\n",
        "          'facebook business manager', 'fivetran', 'fuzzy', 'ga360', 'gcp', 'gensim', 'ggplot', 'git', 'github',\n",
        "          'gitlab', 'google ads', 'google analytics', 'google cloud platform', 'google data flow', 'google optimize',\n",
        "          'google sheets', 'google tag manager', 'google workspace', 'grafana', 'hadoop', 'hana', 'hanagrafana', 'hbase',\n",
        "          'hdfs', 'hevo data', 'hightouch', 'hive', 'hivedatabricks', 'html', 'hubspot', 'ibm coremetrics', 'inetsoft',\n",
        "          'influxdb', 'informatica', 'integrate.io', 'iri voracity', 'izenda', 'java', 'java script', 'javascript', 'jenkins',\n",
        "          'jira', 'jmp', 'julia', 'jupyter', 'k2view', 'kafka', 'kantar', 'kapacitor', 'keras', 'kibana', 'kubernetes',\n",
        "          'lambda', 'linux', 'logstash', 'looker', 'lstm', 'luidgi', 'matillion', 'matlab', 'matplotlib', 'mendix', 'metabase',\n",
        "          'microsoft sql', 'microsoft sql server', 'microstrategy', 'miro', 'mixpanel', 'ml', 'ml flow', 'mlflow', 'mongodb',\n",
        "          'mxnet', 'mysql', 'ms office', 'natural nanguage processing', 'neo4j', 'nlp', 'nltk', 'nosql', 'numpy', 'oauth', 'octave', 'omniture',\n",
        "          'omnituregitlab', 'openshift', 'openstack', 'optimizely', 'oracle', 'oracle business intelligence', 'oracle data integrator',\n",
        "          'pandas', 'panorama', 'pentaho', 'plotly', 'postgre', 'postgresql', 'posthog', 'power amc', 'power bi', 'power point',\n",
        "          'powerbi', 'powerpivot', 'powerpoint', 'powerquery', 'pyspark', 'python', 'pytorch', 'pytorchhevo data', 'qlik',\n",
        "          'qlik sense', 'qlikview', 'querysurge', 'r', 'raphtory', 'rapidminer', 'redash', 'redis', 'redshift', 'retool',\n",
        "          'rivery', 'rust', 's3', 'sa360', 'salesforce', 'sap', 'sap business objects', 'sas', 'sas visual analytics', 'scala',\n",
        "          'scikit-learn', 'scipy', 'seaborn', 'segment', 'selenium', 'sem rush', 'semrush', 'shell', 'shiny', 'singer', 'sisense',\n",
        "          'skyvia', 'snowflake', 'spacy', 'spark', 'sparkml', 'splunk', 'spotfire', 'spreadsheet', 'spss', 'sql', 'ssis', 'sssr',\n",
        "          'stambia', 'statistics', 'statsbot', 'stitch', 'streamlit', 'streamsets', 'svn', 't-sql', 'tableau', 'talend', 'targit',\n",
        "          'tealium', 'telegraf', 'tensorflow', 'terraapi', 'terraform', 'theano', 'thoughtspot', 'timeseries', 'trello', 'unix', 'vba',\n",
        "          'vtom', 'webfocus', 'wfh', 'xplenty', 'xtract.io', 'yellowfin']"
      ],
      "metadata": {
        "id": "fK5DUIxyOTP3"
      },
      "execution_count": null,
      "outputs": []
    },
    {
      "cell_type": "code",
      "source": [
        "def create_characteristics(db, job_html='html'):\n",
        "  \"\"\"\n",
        "  На входе функция принимает описание вакансии в формате строки (html)\n",
        "\n",
        "  Parameters:\n",
        "  \"\"\"\n",
        "  #id вакансии - id_job\n",
        "  db['id_job'] =  db[job_html].apply(lambda x: BeautifulSoup(x).find(\"a\",{\"class\":\"ember-view\"}).get(\"href\").split('/')[3])\n",
        "\n",
        "  # Название вакансии - name\n",
        "  db['name'] = db[job_html].apply(lambda x: BeautifulSoup(x).find('h2').text.strip() if BeautifulSoup(x).find('h2') else 'unknown') #если тега не будет, то запишется unknown\n",
        "\n",
        "  #название компании - company_name\n",
        "  db['company_name'] = db[job_html].apply(lambda x: BeautifulSoup(x).find('span', class_ = 'jobs-unified-top-card__company-name').text.strip()\n",
        "  if BeautifulSoup(x).find('span', class_ = 'jobs-unified-top-card__company-name') else 'unknown')\n",
        "\n",
        "  #тип занятости - workplace_type\n",
        "  db['workplace_type'] = db[job_html].apply(lambda x: BeautifulSoup(x)\n",
        "  .find('span', class_='jobs-unified-top-card__workplace-type')\n",
        "  .text.lower().strip() if BeautifulSoup(x)\n",
        "  .find('span', class_='jobs-unified-top-card__workplace-type') else find_keywords(x,workplace))\n",
        "\n",
        "\n",
        "  # количество сотрудников -  company_staff\n",
        "  db['company_staff']  = db[job_html].apply(lambda x: BeautifulSoup(x)\n",
        "  .find_all('li', class_='jobs-unified-top-card__job-insight')[1].text.strip()\n",
        "  .split(' · ')[0] if BeautifulSoup(x).find_all('li', class_='jobs-unified-top-card__job-insight') else 'unknown')\n",
        "  #заменим на unknown все строки, где нет employees\n",
        "  db['company_staff'] = db['company_staff'].apply(lambda x:\n",
        "                                                  x if 'employees' in x else 'unknown')\n",
        "\n",
        "  #сфера деятельности компании - company_scope\n",
        "  db['company_scope']  = db[job_html].apply(lambda x:\n",
        "                                            BeautifulSoup(x).find_all('li', class_='jobs-unified-top-card__job-insight')[1]\n",
        "                                            .text.strip().split(' · ')[-1]\n",
        "                                            if BeautifulSoup(x).find_all('li', class_='jobs-unified-top-card__job-insight') else 'unknown')\n",
        "  #заменим на unknown все строки, где указана численность или число откликнувшихся\n",
        "  db['company_scope'] = db['company_scope'].apply(lambda x: 'unknown' if ('employees' in x or  'applicants' in x) else x)\n",
        "\n",
        "  #дата публикации вакансии - date_publication\n",
        "  db['date_publication']  = db[job_html].apply(lambda x:\n",
        "                                           BeautifulSoup(x).find('span', class_='jobs-unified-top-card__posted-date').text.strip())\n",
        "\n",
        "  #кол-во кандидатов на вакансию - applicants\n",
        "  db['applicants']  = db[job_html].apply(lambda x: BeautifulSoup(x).find_all('span', class_='jobs-unified-top-card__bullet')[1].text.strip())\n",
        "  db['applicants'] = db['applicants'].apply(lambda x: x if 'applicants' in x  else \"unknown\")\n",
        "\n",
        "  #локация - location\n",
        "  db['location'] = db[job_html].apply(lambda x: BeautifulSoup(x).find(class_ =\"jobs-unified-top-card__bullet\").text.strip())\n",
        "\n",
        "  #описание вакансии - description\n",
        "  db['description'] = db[job_html].apply(lambda x: BeautifulSoup(x).find(id = 'job-details').text)\n",
        "  db['description'] = db['description'].apply(lambda x: x.replace('De',' De')) #доп.обработка добавлена после проверки\n",
        "\n",
        "  #hurd скилы - skills\n",
        "  db['skills'] = db['description'].apply(lambda x: find_keywords(x,skills))\n",
        "\n",
        "  return db;"
      ],
      "metadata": {
        "id": "PAnN8xc8umcl"
      },
      "execution_count": null,
      "outputs": []
    },
    {
      "cell_type": "code",
      "source": [
        "db = create_characteristics(db)"
      ],
      "metadata": {
        "id": "2BR3uBnRwn1V"
      },
      "execution_count": null,
      "outputs": []
    },
    {
      "cell_type": "markdown",
      "source": [
        "Функция работает, запустим ее на полный датасет.\n",
        "Обработка занимает примерно 5 минут."
      ],
      "metadata": {
        "id": "5mNhvX-NUPle"
      }
    },
    {
      "cell_type": "code",
      "source": [
        "jobs = create_characteristics(jobs)"
      ],
      "metadata": {
        "id": "D-w3TqFhUyjJ"
      },
      "execution_count": null,
      "outputs": []
    },
    {
      "cell_type": "code",
      "source": [
        "jobs.info()"
      ],
      "metadata": {
        "colab": {
          "base_uri": "https://localhost:8080/"
        },
        "id": "Jbs7e5LzVzya",
        "outputId": "aa1de636-92a9-4714-cf71-425ab5286efa"
      },
      "execution_count": null,
      "outputs": [
        {
          "output_type": "stream",
          "name": "stdout",
          "text": [
            "<class 'pandas.core.frame.DataFrame'>\n",
            "Int64Index: 998 entries, 0 to 997\n",
            "Data columns (total 12 columns):\n",
            " #   Column            Non-Null Count  Dtype \n",
            "---  ------            --------------  ----- \n",
            " 0   html              998 non-null    object\n",
            " 1   id_job            998 non-null    object\n",
            " 2   name              998 non-null    object\n",
            " 3   company_name      998 non-null    object\n",
            " 4   workplace_type    998 non-null    object\n",
            " 5   company_staff     998 non-null    object\n",
            " 6   company_scope     998 non-null    object\n",
            " 7   date_publication  998 non-null    object\n",
            " 8   applicants        998 non-null    object\n",
            " 9   location          998 non-null    object\n",
            " 10  description       998 non-null    object\n",
            " 11  skills            998 non-null    object\n",
            "dtypes: object(12)\n",
            "memory usage: 133.6+ KB\n"
          ]
        }
      ]
    },
    {
      "cell_type": "markdown",
      "source": [
        "Столбцы с ключевыми характеристиками найдены, теперь займемся предобработкой распарсенных данных."
      ],
      "metadata": {
        "id": "Wh4V1M9VfUF_"
      }
    },
    {
      "cell_type": "markdown",
      "source": [
        "## Предобработка данных"
      ],
      "metadata": {
        "id": "hHA1gM0hfD0h"
      }
    },
    {
      "cell_type": "markdown",
      "source": [
        "###Общие проверки"
      ],
      "metadata": {
        "id": "IKf_Nkeuf64E"
      }
    },
    {
      "cell_type": "markdown",
      "source": [
        "Сначала удалим явные дубликаты, если они есть"
      ],
      "metadata": {
        "id": "FPocSVOcj8VT"
      }
    },
    {
      "cell_type": "code",
      "source": [
        " #проверка на явные дубликаты\n",
        "jobs.duplicated().sum()\n"
      ],
      "metadata": {
        "colab": {
          "base_uri": "https://localhost:8080/"
        },
        "id": "KfiUlStqfurJ",
        "outputId": "48ac9cc8-7eb1-4725-8ab3-8273f7e4f2b1"
      },
      "execution_count": null,
      "outputs": [
        {
          "output_type": "execute_result",
          "data": {
            "text/plain": [
              "98"
            ]
          },
          "metadata": {},
          "execution_count": 17
        }
      ]
    },
    {
      "cell_type": "code",
      "source": [
        "jobs = jobs.drop_duplicates().reset_index(drop=True)\n",
        "print(jobs.duplicated().sum())\n",
        "print(jobs.shape[0])"
      ],
      "metadata": {
        "colab": {
          "base_uri": "https://localhost:8080/"
        },
        "id": "2--bfYxXgRLh",
        "outputId": "b2bff3d6-71bd-4501-a80c-0fa9ab00b113"
      },
      "execution_count": null,
      "outputs": [
        {
          "output_type": "stream",
          "name": "stdout",
          "text": [
            "0\n",
            "900\n"
          ]
        }
      ]
    },
    {
      "cell_type": "markdown",
      "source": [
        "Теперь проверим неявные дубликаты - проерим дубли по id вакансии, а так же по названию, компании, локации и набору скилов."
      ],
      "metadata": {
        "id": "ZptuOCXSkC9k"
      }
    },
    {
      "cell_type": "code",
      "source": [
        "jobs[['id_job']].duplicated().sum()"
      ],
      "metadata": {
        "colab": {
          "base_uri": "https://localhost:8080/"
        },
        "id": "rtJsNR5iTmxs",
        "outputId": "247ec2d9-49b1-4992-cb4a-87158187f003"
      },
      "execution_count": null,
      "outputs": [
        {
          "output_type": "execute_result",
          "data": {
            "text/plain": [
              "13"
            ]
          },
          "metadata": {},
          "execution_count": 19
        }
      ]
    },
    {
      "cell_type": "code",
      "source": [
        "jobs = jobs.drop_duplicates(subset=['id_job'], keep='first')\n",
        "print(jobs.shape[0])"
      ],
      "metadata": {
        "colab": {
          "base_uri": "https://localhost:8080/"
        },
        "id": "yA7MWrd7WroS",
        "outputId": "91850908-3650-4b0b-db6c-7d1b2f9657ce"
      },
      "execution_count": null,
      "outputs": [
        {
          "output_type": "stream",
          "name": "stdout",
          "text": [
            "887\n"
          ]
        }
      ]
    },
    {
      "cell_type": "code",
      "source": [
        "jobs[['name','company_name','location','skills']].duplicated().sum()"
      ],
      "metadata": {
        "colab": {
          "base_uri": "https://localhost:8080/"
        },
        "id": "cdYG8LTwkPkk",
        "outputId": "0b81bde7-e2b0-4607-f474-a68c7cdf1ce3"
      },
      "execution_count": null,
      "outputs": [
        {
          "output_type": "execute_result",
          "data": {
            "text/plain": [
              "4"
            ]
          },
          "metadata": {},
          "execution_count": 21
        }
      ]
    },
    {
      "cell_type": "code",
      "source": [
        "jobs = jobs.drop_duplicates(subset=['name','company_name','location','skills'], keep='first')\n",
        "print(jobs.shape[0])"
      ],
      "metadata": {
        "colab": {
          "base_uri": "https://localhost:8080/"
        },
        "id": "CD64fefRmbQk",
        "outputId": "d2c455f6-4119-40e3-b034-a17f6ca82a32"
      },
      "execution_count": null,
      "outputs": [
        {
          "output_type": "stream",
          "name": "stdout",
          "text": [
            "883\n"
          ]
        }
      ]
    },
    {
      "cell_type": "markdown",
      "source": [
        "Выполним проверку на пустые строки и значения unknown в столбцах"
      ],
      "metadata": {
        "id": "7jn7WLR4oPjM"
      }
    },
    {
      "cell_type": "code",
      "source": [
        "#проверка на пустые строки в столбцах\n",
        "print('% пустых строк в каждом столбце: \\n')\n",
        "for i in jobs.columns:\n",
        "    print(i, '-', jobs[jobs[i]==\"\"][i].count())"
      ],
      "metadata": {
        "colab": {
          "base_uri": "https://localhost:8080/"
        },
        "id": "GKbfxwrgohu5",
        "outputId": "ca5f06e2-a324-4074-c161-59d35e5be222"
      },
      "execution_count": null,
      "outputs": [
        {
          "output_type": "stream",
          "name": "stdout",
          "text": [
            "% пустых строк в каждом столбце: \n",
            "\n",
            "html - 0\n",
            "id_job - 0\n",
            "name - 0\n",
            "company_name - 2\n",
            "workplace_type - 0\n",
            "company_staff - 0\n",
            "company_scope - 0\n",
            "date_publication - 0\n",
            "applicants - 0\n",
            "location - 0\n",
            "description - 0\n",
            "skills - 0\n"
          ]
        }
      ]
    },
    {
      "cell_type": "code",
      "source": [
        "jobs = jobs.query('company_name!=\"\"')\n",
        "print(jobs.shape[0])"
      ],
      "metadata": {
        "colab": {
          "base_uri": "https://localhost:8080/"
        },
        "id": "0q--QNatp7k6",
        "outputId": "c3debb1a-3c42-40df-f7ee-50eb1f6b1f29"
      },
      "execution_count": null,
      "outputs": [
        {
          "output_type": "stream",
          "name": "stdout",
          "text": [
            "881\n"
          ]
        }
      ]
    },
    {
      "cell_type": "code",
      "source": [
        "#проверка на пропуски (unknown)\n",
        "print('% неизвестных значений в каждом столбце: \\n')\n",
        "for i in jobs.columns:\n",
        "    print(i, '-', '{:.2%}'.format(jobs[jobs[i]==\"unknown\"][i].count()/jobs.shape[0]))"
      ],
      "metadata": {
        "colab": {
          "base_uri": "https://localhost:8080/"
        },
        "id": "s_k7WY6epHbJ",
        "outputId": "16ad7e19-7208-4edb-e38e-3dab6dec4a7a"
      },
      "execution_count": null,
      "outputs": [
        {
          "output_type": "stream",
          "name": "stdout",
          "text": [
            "% неизвестных значений в каждом столбце: \n",
            "\n",
            "html - 0.00%\n",
            "id_job - 0.00%\n",
            "name - 0.00%\n",
            "company_name - 0.00%\n",
            "workplace_type - 4.31%\n",
            "company_staff - 3.06%\n",
            "company_scope - 9.08%\n",
            "date_publication - 0.00%\n",
            "applicants - 8.17%\n",
            "location - 0.00%\n",
            "description - 0.00%\n",
            "skills - 8.97%\n"
          ]
        }
      ]
    },
    {
      "cell_type": "markdown",
      "source": [
        "От unknown мы избавляться не будем, в нашем датасете получились адекватные показатели неявных пропусков."
      ],
      "metadata": {
        "id": "hcrXoYxCq7HG"
      }
    },
    {
      "cell_type": "markdown",
      "source": [
        "### Название вакансии"
      ],
      "metadata": {
        "id": "nCoxcgTm72TX"
      }
    },
    {
      "cell_type": "markdown",
      "source": [
        "Посмотрим, какие вакансии присутствуют в нашем датасете."
      ],
      "metadata": {
        "id": "f2scI1lPaafh"
      }
    },
    {
      "cell_type": "code",
      "source": [
        "jobs['name'].value_counts(dropna=False).head(50)"
      ],
      "metadata": {
        "colab": {
          "base_uri": "https://localhost:8080/"
        },
        "id": "IMEbLoSiz_Xc",
        "outputId": "318bbbf8-ada6-4850-d892-2ab1e689f17c"
      },
      "execution_count": null,
      "outputs": [
        {
          "output_type": "execute_result",
          "data": {
            "text/plain": [
              "Data Analyst                                                      93\n",
              "Data Analyst - Milano                                             27\n",
              "Online Data Analyst                                               20\n",
              "Stage | Data Analyst                                              17\n",
              "Data Scientist                                                    16\n",
              "Data Analyst (m/w/d)                                              16\n",
              "Business Analyst                                                  15\n",
              "Data Engineer                                                     15\n",
              "Product Data Analyst                                              10\n",
              "Junior Business Analyst                                            6\n",
              "Junior Data Analyst                                                6\n",
              "Data Analyst H/F                                                   5\n",
              "Business Intelligence Developer                                    5\n",
              "Business Intelligence Analyst                                      5\n",
              "BI Specialist                                                      5\n",
              "Data-analist                                                       5\n",
              "Data Analyst (H/F)                                                 4\n",
              "Data Analist                                                       4\n",
              "Business Intelligence Consultant                                   4\n",
              "Software Engineer                                                  4\n",
              "Senior Data Analyst                                                3\n",
              "Finance Data Analyst                                               3\n",
              "Data Analyst - Finance                                             3\n",
              "Credit - Data Analyst (Product)                                    3\n",
              "Business Intelligence Engineer                                     3\n",
              "Analytics Consultant                                               3\n",
              "Digital Data Analyst                                               3\n",
              "Digital Analyst                                                    3\n",
              "Process Engineer                                                   3\n",
              "BI Developer                                                       3\n",
              "Graduate Data Analyst                                              3\n",
              "Data Analyst - Logistics                                           3\n",
              "Data Analyst (F/H)                                                 2\n",
              "Data Analyst (Product Data Analyst)                                2\n",
              "BI Analyst                                                         2\n",
              "Data & Analytics Analyst - BARI, ROMA                              2\n",
              "Salesforce Business Analyst                                        2\n",
              "Data analyst                                                       2\n",
              "Demand Planning Analyst                                            2\n",
              "Data Specialist                                                    2\n",
              "Data Analyst (m/f/d)                                               2\n",
              "Data Science Analyst                                               2\n",
              "Technical Business Analyst                                         2\n",
              "Customer Insights Analyst (Bangkok Based, Relocation Provided)     2\n",
              "Business Intelligence Specialist                                   2\n",
              "Data Analyst / Data Scientist (m/f/d)                              2\n",
              "Data Governance Analyst                                            2\n",
              "Business Analyst (F/H)                                             2\n",
              "Sales Data Analyst                                                 2\n",
              "Junior Data Scientist                                              2\n",
              "Name: name, dtype: int64"
            ]
          },
          "metadata": {},
          "execution_count": 26
        }
      ]
    },
    {
      "cell_type": "markdown",
      "source": [
        "Очевидно, парсинг собрал не только аналитиков данных, но так же программистов, инженеров и еще других разноплановых аналитиков. Попробуем избавиться от лишнего, чтобы в дальнейшем было проще работать с данными."
      ],
      "metadata": {
        "id": "eZsQ-r4_6Ugi"
      }
    },
    {
      "cell_type": "markdown",
      "source": [
        "Сформируем список ключевых слов, встречающихся в названии вакансиях аналитик данных и дата саентиста, прогоним про этому списку все названия. Оставим только те, где встречается что-то из ключевого списка."
      ],
      "metadata": {
        "id": "woR1kxyUqlrJ"
      }
    },
    {
      "cell_type": "code",
      "source": [
        "#список популярных слов в названии вакансии аналитика\n",
        "str_filtr = 'data-analist|analyst|analist|scientist|science|analista|analytics|analityk|analytik|data-analist|bi expert|bi specialist|business intelligence expert|business intelligence specialist|business intelligence consultant|data visualization expert'"
      ],
      "metadata": {
        "id": "jkcgs5I9mErW"
      },
      "execution_count": null,
      "outputs": []
    },
    {
      "cell_type": "code",
      "source": [
        "filtr = jobs['name'].str.contains(str_filtr, flags=re.IGNORECASE, regex=True)#ходит по сериям и ищет вхождения без учета регистра\n",
        "filtr.mean()"
      ],
      "metadata": {
        "colab": {
          "base_uri": "https://localhost:8080/"
        },
        "id": "ScQtByD8mMFc",
        "outputId": "947c95b5-7945-4a97-87f7-b9ba71b847eb"
      },
      "execution_count": null,
      "outputs": [
        {
          "output_type": "execute_result",
          "data": {
            "text/plain": [
              "0.8093076049943246"
            ]
          },
          "metadata": {},
          "execution_count": 28
        }
      ]
    },
    {
      "cell_type": "markdown",
      "source": [
        "Проверим, что отбросил фильтр"
      ],
      "metadata": {
        "id": "K80MIlDqepnf"
      }
    },
    {
      "cell_type": "code",
      "source": [
        "jobs[~filtr]['name'].value_counts(dropna=False).head(50)"
      ],
      "metadata": {
        "colab": {
          "base_uri": "https://localhost:8080/"
        },
        "id": "McysM9apoYjq",
        "outputId": "c75449dc-92f7-477e-c869-9ab19ceb3d57"
      },
      "execution_count": null,
      "outputs": [
        {
          "output_type": "execute_result",
          "data": {
            "text/plain": [
              "Data Engineer                                                           15\n",
              "Business Intelligence Developer                                          5\n",
              "Software Engineer                                                        4\n",
              "Business Intelligence Engineer                                           3\n",
              "BI Developer                                                             3\n",
              "Process Engineer                                                         3\n",
              "Data Specialist                                                          2\n",
              "Reporting Specialist                                                     2\n",
              "Data Engineer (SQL, BI)                                                  1\n",
              "Senior BI Developer (SQL Server) – (Remote)                              1\n",
              "Global HRIS Specialist                                                   1\n",
              "Mid Data Engineer                                                        1\n",
              "📢 [Full Remote] BI Engineer - Startup Data Marketing - H/F               1\n",
              "Associate - Data Research                                                1\n",
              "BI/Reports Developer                                                     1\n",
              "Senior Reporting and Data Specialist                                     1\n",
              "Information Technology Support Specialist                                1\n",
              "DATA ENGINEER REFERENT                                                   1\n",
              "Associate Data Manager                                                   1\n",
              "Front-end Developer                                                      1\n",
              "Junior Data Processing Specialist                                        1\n",
              "Chargé de projet validation stérilisation                                1\n",
              "Data Engineer-Imprescindible experiencia en PowerCenter                  1\n",
              "Consultant Data & BI – H/F                                               1\n",
              "BI & data reporting Expert                                               1\n",
              "SQL Database Administrator                                               1\n",
              "Associate - McKinsey Digital                                             1\n",
              "Lead Tech et DATA VIZ (H/F)                                              1\n",
              "Banking Operations Specialist                                            1\n",
              "Data Engineer (m/f/d)                                                    1\n",
              "Senior BI Data Engineer                                                  1\n",
              "Junior Software Developer Engineer                                       1\n",
              "DevOps Engineer                                                          1\n",
              "360 Data Product Owner                                                   1\n",
              "Information Technology Engineer                                          1\n",
              "Client Intelligence Specialist                                           1\n",
              "Data Entry                                                               1\n",
              "Data Engineer Industry 4.0                                               1\n",
              "Consultor BI                                                             1\n",
              "Digital Back office specialist - TEMPO DETERMINATO                       1\n",
              "L.T.E. S.p.a. - Ingegnere di Processo                                    1\n",
              "Data Engineer H/F                                                        1\n",
              "Freelance contracting project // Data Product Owner (m/f/d) - Remote     1\n",
              "Developer (m/f/n)                                                        1\n",
              "Oracle Developer (2 posts)                                               1\n",
              "JUNIOR PROJECT MANAGER                                                   1\n",
              "IT Specialist (f/m)                                                      1\n",
              "Operational Specialist                                                   1\n",
              "Científico Inteligencia Artificial                                       1\n",
              "Application Support Specialist - Business Intelligence                   1\n",
              "Name: name, dtype: int64"
            ]
          },
          "metadata": {},
          "execution_count": 29
        }
      ]
    },
    {
      "cell_type": "markdown",
      "source": [
        "Фильтр отсек инжинеров и дазработчиков, доп. специалистов и менеджеров - в совокупности это почти 20% лишних данных. Пересохраним датасет с учетом фильтра."
      ],
      "metadata": {
        "id": "4U06eRTBqznJ"
      }
    },
    {
      "cell_type": "code",
      "source": [
        "jobs = jobs[filtr].reset_index(drop=True)\n",
        "jobs.info()"
      ],
      "metadata": {
        "colab": {
          "base_uri": "https://localhost:8080/"
        },
        "id": "XGOKA7gbdje2",
        "outputId": "58baa2e7-cbff-4fd8-d173-409b3bfcb5bc"
      },
      "execution_count": null,
      "outputs": [
        {
          "output_type": "stream",
          "name": "stdout",
          "text": [
            "<class 'pandas.core.frame.DataFrame'>\n",
            "RangeIndex: 713 entries, 0 to 712\n",
            "Data columns (total 12 columns):\n",
            " #   Column            Non-Null Count  Dtype \n",
            "---  ------            --------------  ----- \n",
            " 0   html              713 non-null    object\n",
            " 1   id_job            713 non-null    object\n",
            " 2   name              713 non-null    object\n",
            " 3   company_name      713 non-null    object\n",
            " 4   workplace_type    713 non-null    object\n",
            " 5   company_staff     713 non-null    object\n",
            " 6   company_scope     713 non-null    object\n",
            " 7   date_publication  713 non-null    object\n",
            " 8   applicants        713 non-null    object\n",
            " 9   location          713 non-null    object\n",
            " 10  description       713 non-null    object\n",
            " 11  skills            713 non-null    object\n",
            "dtypes: object(12)\n",
            "memory usage: 67.0+ KB\n"
          ]
        }
      ]
    },
    {
      "cell_type": "markdown",
      "source": [
        "Уберем из списка еще несколько неподходящих направлений."
      ],
      "metadata": {
        "id": "OXZExPFad0za"
      }
    },
    {
      "cell_type": "code",
      "source": [
        "negativ_filtr = 'financ|commercial|policy|engineer|developer|fp|operations|project|programmatore|programador'\n",
        "filtr = jobs['name'].str.contains(negativ_filtr, flags=re.IGNORECASE, regex=True) #ходит по сериям и ищет вхождения без учета регистра\n",
        "filtr.sum()"
      ],
      "metadata": {
        "colab": {
          "base_uri": "https://localhost:8080/"
        },
        "id": "4LGedPH_9PnH",
        "outputId": "96e5c740-a1e1-4df1-c889-968954e8fa62"
      },
      "execution_count": null,
      "outputs": [
        {
          "output_type": "execute_result",
          "data": {
            "text/plain": [
              "38"
            ]
          },
          "metadata": {},
          "execution_count": 31
        }
      ]
    },
    {
      "cell_type": "markdown",
      "source": [
        "Таких вакансий нашлось мало, их можно удалить."
      ],
      "metadata": {
        "id": "XIW89fTDzx1A"
      }
    },
    {
      "cell_type": "code",
      "source": [
        "jobs = jobs[~filtr].reset_index(drop=True)\n",
        "jobs.info()"
      ],
      "metadata": {
        "colab": {
          "base_uri": "https://localhost:8080/"
        },
        "id": "AMsh89l3zdy9",
        "outputId": "b3bff9b5-4063-4924-8c29-a1bacf8a6016"
      },
      "execution_count": null,
      "outputs": [
        {
          "output_type": "stream",
          "name": "stdout",
          "text": [
            "<class 'pandas.core.frame.DataFrame'>\n",
            "RangeIndex: 675 entries, 0 to 674\n",
            "Data columns (total 12 columns):\n",
            " #   Column            Non-Null Count  Dtype \n",
            "---  ------            --------------  ----- \n",
            " 0   html              675 non-null    object\n",
            " 1   id_job            675 non-null    object\n",
            " 2   name              675 non-null    object\n",
            " 3   company_name      675 non-null    object\n",
            " 4   workplace_type    675 non-null    object\n",
            " 5   company_staff     675 non-null    object\n",
            " 6   company_scope     675 non-null    object\n",
            " 7   date_publication  675 non-null    object\n",
            " 8   applicants        675 non-null    object\n",
            " 9   location          675 non-null    object\n",
            " 10  description       675 non-null    object\n",
            " 11  skills            675 non-null    object\n",
            "dtypes: object(12)\n",
            "memory usage: 63.4+ KB\n"
          ]
        }
      ]
    },
    {
      "cell_type": "markdown",
      "source": [
        "Наш набор вакансий определен, идем дальше."
      ],
      "metadata": {
        "id": "NAgXyRYC0iDO"
      }
    },
    {
      "cell_type": "markdown",
      "source": [
        "### Название компании"
      ],
      "metadata": {
        "id": "dYd4b8ny7_tF"
      }
    },
    {
      "cell_type": "code",
      "source": [
        "jobs['company_name'].nunique()"
      ],
      "metadata": {
        "id": "P1b7zM1cKLKm",
        "colab": {
          "base_uri": "https://localhost:8080/"
        },
        "outputId": "bf2da902-dd3d-4ab7-d75e-d2e850ec92d6"
      },
      "execution_count": null,
      "outputs": [
        {
          "output_type": "execute_result",
          "data": {
            "text/plain": [
              "503"
            ]
          },
          "metadata": {},
          "execution_count": 33
        }
      ]
    },
    {
      "cell_type": "markdown",
      "source": [
        "Можно было бы поискать неявные дубликаты, но компаний слишком много, оставим все как есть."
      ],
      "metadata": {
        "id": "u7Yq1ASMiweU"
      }
    },
    {
      "cell_type": "markdown",
      "source": [
        "### Тип занятости\n",
        "\n"
      ],
      "metadata": {
        "id": "unu2bWyJR6oX"
      }
    },
    {
      "cell_type": "code",
      "source": [
        "jobs.workplace_type.value_counts(dropna=False)"
      ],
      "metadata": {
        "colab": {
          "base_uri": "https://localhost:8080/"
        },
        "id": "ouDDovrGUIDU",
        "outputId": "a38bbc3e-fee7-4af2-a906-6d4539694a21"
      },
      "execution_count": null,
      "outputs": [
        {
          "output_type": "execute_result",
          "data": {
            "text/plain": [
              "hybrid                       349\n",
              "on-site                      215\n",
              "remote                        74\n",
              "unknown                       26\n",
              "hybrid,from home               3\n",
              "remote,hybrid                  3\n",
              "from home                      1\n",
              "remote,from home               1\n",
              "remote,hybrid,home office      1\n",
              "from home,home office          1\n",
              "on site                        1\n",
              "Name: workplace_type, dtype: int64"
            ]
          },
          "metadata": {},
          "execution_count": 34
        }
      ]
    },
    {
      "cell_type": "markdown",
      "source": [
        "Укрупним однотипные значения"
      ],
      "metadata": {
        "id": "xt_FB3MWbo70"
      }
    },
    {
      "cell_type": "code",
      "source": [
        "rep_dic = {'hybrid,from home':'hybrid',\n",
        "           'remote,hybrid':'hybrid',\n",
        "           'remote,hybrid,home office':'hybrid',\n",
        "           'from home':'remote',\n",
        "           'remote,from home':'remote',\n",
        "           'from home,home office':'remote',\n",
        "           'on site':'on-site'}"
      ],
      "metadata": {
        "id": "HkoT3_oXlFpe"
      },
      "execution_count": null,
      "outputs": []
    },
    {
      "cell_type": "code",
      "source": [
        "jobs['workplace_type'] = jobs['workplace_type'].replace(rep_dic)\n",
        "jobs.workplace_type.value_counts(dropna=False)"
      ],
      "metadata": {
        "id": "tA1Ob7RAmKMN",
        "colab": {
          "base_uri": "https://localhost:8080/"
        },
        "outputId": "cb0ad421-58f3-42e0-a9f9-3e2d81ac284c"
      },
      "execution_count": null,
      "outputs": [
        {
          "output_type": "execute_result",
          "data": {
            "text/plain": [
              "hybrid     356\n",
              "on-site    216\n",
              "remote      77\n",
              "unknown     26\n",
              "Name: workplace_type, dtype: int64"
            ]
          },
          "metadata": {},
          "execution_count": 36
        }
      ]
    },
    {
      "cell_type": "markdown",
      "source": [
        "После повторной проверки - все ок."
      ],
      "metadata": {
        "id": "fBj3N8hEAbwi"
      }
    },
    {
      "cell_type": "markdown",
      "source": [
        "### Количество сотрудников\n",
        "\n"
      ],
      "metadata": {
        "id": "8kiyiBZpAoei"
      }
    },
    {
      "cell_type": "markdown",
      "source": [
        "Проверим, что получилось в столбце"
      ],
      "metadata": {
        "id": "BCk2tXDlF2ue"
      }
    },
    {
      "cell_type": "code",
      "source": [
        "jobs.company_staff.value_counts()"
      ],
      "metadata": {
        "colab": {
          "base_uri": "https://localhost:8080/"
        },
        "id": "s3kaQSlyBc9r",
        "outputId": "63d1583f-293e-4e36-88e6-93f3c34b0278"
      },
      "execution_count": null,
      "outputs": [
        {
          "output_type": "execute_result",
          "data": {
            "text/plain": [
              "10,001+ employees         162\n",
              "51-200 employees          139\n",
              "1,001-5,000 employees     132\n",
              "201-500 employees          56\n",
              "501-1,000 employees        52\n",
              "5,001-10,000 employees     50\n",
              "11-50 employees            40\n",
              "unknown                    26\n",
              "1-10 employees             18\n",
              "Name: company_staff, dtype: int64"
            ]
          },
          "metadata": {},
          "execution_count": 37
        }
      ]
    },
    {
      "cell_type": "markdown",
      "source": [
        "Уберем employees из значений столбца, а unknown заменим на 0."
      ],
      "metadata": {
        "id": "EmihaNi_uSt-"
      }
    },
    {
      "cell_type": "code",
      "source": [
        "jobs['company_staff'] = jobs['company_staff'].apply(lambda x: x.replace(' employees',''))\n",
        "jobs.company_staff.value_counts()"
      ],
      "metadata": {
        "colab": {
          "base_uri": "https://localhost:8080/"
        },
        "id": "Mws2f7yYuKHT",
        "outputId": "563866c1-99aa-4e9e-b286-f6a31674e293"
      },
      "execution_count": null,
      "outputs": [
        {
          "output_type": "execute_result",
          "data": {
            "text/plain": [
              "10,001+          611\n",
              "1,001-5,000      607\n",
              "51-200           524\n",
              "201-500          351\n",
              "501-1,000        269\n",
              "5,001-10,000     268\n",
              "11-50            180\n",
              "1-10              80\n",
              "unknown           72\n",
              "Name: company_staff, dtype: int64"
            ]
          },
          "metadata": {},
          "execution_count": 91
        }
      ]
    },
    {
      "cell_type": "markdown",
      "source": [
        "### Cфера деятельности компании"
      ],
      "metadata": {
        "id": "5mpN_T1TGVvP"
      }
    },
    {
      "cell_type": "markdown",
      "source": [
        "Посмотрим, что получилось."
      ],
      "metadata": {
        "id": "pIABaZLPMGyW"
      }
    },
    {
      "cell_type": "code",
      "source": [
        "jobs['company_scope'].value_counts().head(50)"
      ],
      "metadata": {
        "colab": {
          "base_uri": "https://localhost:8080/"
        },
        "id": "gBp2ObaZHnbj",
        "outputId": "bc288a1a-82a0-4612-9caa-24aa8098b7d0"
      },
      "execution_count": null,
      "outputs": [
        {
          "output_type": "execute_result",
          "data": {
            "text/plain": [
              "IT Services and IT Consulting                            110\n",
              "Retail                                                    59\n",
              "Staffing and Recruiting                                   56\n",
              "unknown                                                   43\n",
              "Financial Services                                        42\n",
              "Technology, Information and Internet                      28\n",
              "Banking                                                   23\n",
              "Business Consulting and Services                          22\n",
              "Information Technology & Services                         19\n",
              "Advertising Services                                      16\n",
              "Software Development                                      16\n",
              "Human Resources Services                                  12\n",
              "Entertainment Providers                                   11\n",
              "Motor Vehicle Manufacturing                               10\n",
              "Transportation, Logistics, Supply Chain and Storage        9\n",
              "Retail Apparel and Fashion                                 8\n",
              "Oil and Gas                                                7\n",
              "Pharmaceutical Manufacturing                               7\n",
              "Information Services                                       7\n",
              "Utilities                                                  7\n",
              "Telecommunications                                         6\n",
              "Renewable Energy Semiconductor Manufacturing               6\n",
              "Food and Beverage Services                                 6\n",
              "Manufacturing                                              6\n",
              "Retail Luxury Goods and Jewelry                            5\n",
              "Airlines and Aviation                                      5\n",
              "Hospitals and Health Care                                  4\n",
              "Computers and Electronics Manufacturing                    4\n",
              "Biotechnology Research                                     4\n",
              "Medical Equipment Manufacturing                            4\n",
              "Travel Arrangements                                        4\n",
              "Public Relations and Communications Services               4\n",
              "Appliances, Electrical, and Electronics Manufacturing      4\n",
              "Food and Beverage Manufacturing                            3\n",
              "Hospitality                                                3\n",
              "Retail Groceries                                           3\n",
              "Insurance                                                  3\n",
              "Professional Services                                      3\n",
              "Real Estate                                                3\n",
              "Translation and Localization                               3\n",
              "Investment Management                                      3\n",
              "Personal Care Product Manufacturing                        3\n",
              "Computer Games                                             3\n",
              "Book and Periodical Publishing                             2\n",
              "Packaging and Containers Manufacturing                     2\n",
              "Environmental Services                                     2\n",
              "Apparel & Fashion                                          2\n",
              "Research Services                                          2\n",
              "Industrial Machinery Manufacturing                         2\n",
              "Wholesale                                                  2\n",
              "Name: company_scope, dtype: int64"
            ]
          },
          "metadata": {},
          "execution_count": 39
        }
      ]
    },
    {
      "cell_type": "code",
      "source": [
        "jobs[jobs['company_scope'].str.contains('Premium|applicants|employees', flags=re.IGNORECASE, regex=True)]\n"
      ],
      "metadata": {
        "colab": {
          "base_uri": "https://localhost:8080/",
          "height": 177
        },
        "id": "Up3ldcyRoaJb",
        "outputId": "8cf5909a-140d-4d9f-8901-44f3bf7b422b"
      },
      "execution_count": null,
      "outputs": [
        {
          "output_type": "execute_result",
          "data": {
            "text/plain": [
              "                                                  html      id_job  \\\n",
              "535  \\n  <div>\\n    <div class=\"\\n        jobs-deta...  3610444496   \n",
              "\n",
              "                              name  \\\n",
              "535  Data Analyst - Client Insight   \n",
              "\n",
              "                                     company_name workplace_type  \\\n",
              "535  Devonshire Hayes Recruitment Specialists Ltd         hybrid   \n",
              "\n",
              "    company_staff                                      company_scope  \\\n",
              "535       unknown  See recent hiring trends for Devonshire Hayes ...   \n",
              "\n",
              "    date_publication    applicants                            location  \\\n",
              "535       6 days ago  2 applicants  Bracknell, England, United Kingdom   \n",
              "\n",
              "                                           description  \\\n",
              "535  \\n\\n          About the job\\n        \\n \\n\\n\\n...   \n",
              "\n",
              "                                                skills  \n",
              "535  azure,databricks,power bi,powerbi,python,stati...  "
            ],
            "text/html": [
              "\n",
              "\n",
              "  <div id=\"df-56fe3354-a81c-4adf-bfd0-eeccfe75e0c5\">\n",
              "    <div class=\"colab-df-container\">\n",
              "      <div>\n",
              "<style scoped>\n",
              "    .dataframe tbody tr th:only-of-type {\n",
              "        vertical-align: middle;\n",
              "    }\n",
              "\n",
              "    .dataframe tbody tr th {\n",
              "        vertical-align: top;\n",
              "    }\n",
              "\n",
              "    .dataframe thead th {\n",
              "        text-align: right;\n",
              "    }\n",
              "</style>\n",
              "<table border=\"1\" class=\"dataframe\">\n",
              "  <thead>\n",
              "    <tr style=\"text-align: right;\">\n",
              "      <th></th>\n",
              "      <th>html</th>\n",
              "      <th>id_job</th>\n",
              "      <th>name</th>\n",
              "      <th>company_name</th>\n",
              "      <th>workplace_type</th>\n",
              "      <th>company_staff</th>\n",
              "      <th>company_scope</th>\n",
              "      <th>date_publication</th>\n",
              "      <th>applicants</th>\n",
              "      <th>location</th>\n",
              "      <th>description</th>\n",
              "      <th>skills</th>\n",
              "    </tr>\n",
              "  </thead>\n",
              "  <tbody>\n",
              "    <tr>\n",
              "      <th>535</th>\n",
              "      <td>\\n  &lt;div&gt;\\n    &lt;div class=\"\\n        jobs-deta...</td>\n",
              "      <td>3610444496</td>\n",
              "      <td>Data Analyst - Client Insight</td>\n",
              "      <td>Devonshire Hayes Recruitment Specialists Ltd</td>\n",
              "      <td>hybrid</td>\n",
              "      <td>unknown</td>\n",
              "      <td>See recent hiring trends for Devonshire Hayes ...</td>\n",
              "      <td>6 days ago</td>\n",
              "      <td>2 applicants</td>\n",
              "      <td>Bracknell, England, United Kingdom</td>\n",
              "      <td>\\n\\n          About the job\\n        \\n \\n\\n\\n...</td>\n",
              "      <td>azure,databricks,power bi,powerbi,python,stati...</td>\n",
              "    </tr>\n",
              "  </tbody>\n",
              "</table>\n",
              "</div>\n",
              "      <button class=\"colab-df-convert\" onclick=\"convertToInteractive('df-56fe3354-a81c-4adf-bfd0-eeccfe75e0c5')\"\n",
              "              title=\"Convert this dataframe to an interactive table.\"\n",
              "              style=\"display:none;\">\n",
              "\n",
              "  <svg xmlns=\"http://www.w3.org/2000/svg\" height=\"24px\"viewBox=\"0 0 24 24\"\n",
              "       width=\"24px\">\n",
              "    <path d=\"M0 0h24v24H0V0z\" fill=\"none\"/>\n",
              "    <path d=\"M18.56 5.44l.94 2.06.94-2.06 2.06-.94-2.06-.94-.94-2.06-.94 2.06-2.06.94zm-11 1L8.5 8.5l.94-2.06 2.06-.94-2.06-.94L8.5 2.5l-.94 2.06-2.06.94zm10 10l.94 2.06.94-2.06 2.06-.94-2.06-.94-.94-2.06-.94 2.06-2.06.94z\"/><path d=\"M17.41 7.96l-1.37-1.37c-.4-.4-.92-.59-1.43-.59-.52 0-1.04.2-1.43.59L10.3 9.45l-7.72 7.72c-.78.78-.78 2.05 0 2.83L4 21.41c.39.39.9.59 1.41.59.51 0 1.02-.2 1.41-.59l7.78-7.78 2.81-2.81c.8-.78.8-2.07 0-2.86zM5.41 20L4 18.59l7.72-7.72 1.47 1.35L5.41 20z\"/>\n",
              "  </svg>\n",
              "      </button>\n",
              "\n",
              "\n",
              "\n",
              "    <div id=\"df-ac370131-b658-4f5a-8be7-87b4b1ea9e83\">\n",
              "      <button class=\"colab-df-quickchart\" onclick=\"quickchart('df-ac370131-b658-4f5a-8be7-87b4b1ea9e83')\"\n",
              "              title=\"Suggest charts.\"\n",
              "              style=\"display:none;\">\n",
              "\n",
              "<svg xmlns=\"http://www.w3.org/2000/svg\" height=\"24px\"viewBox=\"0 0 24 24\"\n",
              "     width=\"24px\">\n",
              "    <g>\n",
              "        <path d=\"M19 3H5c-1.1 0-2 .9-2 2v14c0 1.1.9 2 2 2h14c1.1 0 2-.9 2-2V5c0-1.1-.9-2-2-2zM9 17H7v-7h2v7zm4 0h-2V7h2v10zm4 0h-2v-4h2v4z\"/>\n",
              "    </g>\n",
              "</svg>\n",
              "      </button>\n",
              "    </div>\n",
              "\n",
              "<style>\n",
              "  .colab-df-quickchart {\n",
              "    background-color: #E8F0FE;\n",
              "    border: none;\n",
              "    border-radius: 50%;\n",
              "    cursor: pointer;\n",
              "    display: none;\n",
              "    fill: #1967D2;\n",
              "    height: 32px;\n",
              "    padding: 0 0 0 0;\n",
              "    width: 32px;\n",
              "  }\n",
              "\n",
              "  .colab-df-quickchart:hover {\n",
              "    background-color: #E2EBFA;\n",
              "    box-shadow: 0px 1px 2px rgba(60, 64, 67, 0.3), 0px 1px 3px 1px rgba(60, 64, 67, 0.15);\n",
              "    fill: #174EA6;\n",
              "  }\n",
              "\n",
              "  [theme=dark] .colab-df-quickchart {\n",
              "    background-color: #3B4455;\n",
              "    fill: #D2E3FC;\n",
              "  }\n",
              "\n",
              "  [theme=dark] .colab-df-quickchart:hover {\n",
              "    background-color: #434B5C;\n",
              "    box-shadow: 0px 1px 3px 1px rgba(0, 0, 0, 0.15);\n",
              "    filter: drop-shadow(0px 1px 2px rgba(0, 0, 0, 0.3));\n",
              "    fill: #FFFFFF;\n",
              "  }\n",
              "</style>\n",
              "\n",
              "    <script>\n",
              "      async function quickchart(key) {\n",
              "        const containerElement = document.querySelector('#' + key);\n",
              "        const charts = await google.colab.kernel.invokeFunction(\n",
              "            'suggestCharts', [key], {});\n",
              "      }\n",
              "    </script>\n",
              "\n",
              "      <script>\n",
              "\n",
              "function displayQuickchartButton(domScope) {\n",
              "  let quickchartButtonEl =\n",
              "    domScope.querySelector('#df-ac370131-b658-4f5a-8be7-87b4b1ea9e83 button.colab-df-quickchart');\n",
              "  quickchartButtonEl.style.display =\n",
              "    google.colab.kernel.accessAllowed ? 'block' : 'none';\n",
              "}\n",
              "\n",
              "        displayQuickchartButton(document);\n",
              "      </script>\n",
              "      <style>\n",
              "    .colab-df-container {\n",
              "      display:flex;\n",
              "      flex-wrap:wrap;\n",
              "      gap: 12px;\n",
              "    }\n",
              "\n",
              "    .colab-df-convert {\n",
              "      background-color: #E8F0FE;\n",
              "      border: none;\n",
              "      border-radius: 50%;\n",
              "      cursor: pointer;\n",
              "      display: none;\n",
              "      fill: #1967D2;\n",
              "      height: 32px;\n",
              "      padding: 0 0 0 0;\n",
              "      width: 32px;\n",
              "    }\n",
              "\n",
              "    .colab-df-convert:hover {\n",
              "      background-color: #E2EBFA;\n",
              "      box-shadow: 0px 1px 2px rgba(60, 64, 67, 0.3), 0px 1px 3px 1px rgba(60, 64, 67, 0.15);\n",
              "      fill: #174EA6;\n",
              "    }\n",
              "\n",
              "    [theme=dark] .colab-df-convert {\n",
              "      background-color: #3B4455;\n",
              "      fill: #D2E3FC;\n",
              "    }\n",
              "\n",
              "    [theme=dark] .colab-df-convert:hover {\n",
              "      background-color: #434B5C;\n",
              "      box-shadow: 0px 1px 3px 1px rgba(0, 0, 0, 0.15);\n",
              "      filter: drop-shadow(0px 1px 2px rgba(0, 0, 0, 0.3));\n",
              "      fill: #FFFFFF;\n",
              "    }\n",
              "  </style>\n",
              "\n",
              "      <script>\n",
              "        const buttonEl =\n",
              "          document.querySelector('#df-56fe3354-a81c-4adf-bfd0-eeccfe75e0c5 button.colab-df-convert');\n",
              "        buttonEl.style.display =\n",
              "          google.colab.kernel.accessAllowed ? 'block' : 'none';\n",
              "\n",
              "        async function convertToInteractive(key) {\n",
              "          const element = document.querySelector('#df-56fe3354-a81c-4adf-bfd0-eeccfe75e0c5');\n",
              "          const dataTable =\n",
              "            await google.colab.kernel.invokeFunction('convertToInteractive',\n",
              "                                                     [key], {});\n",
              "          if (!dataTable) return;\n",
              "\n",
              "          const docLinkHtml = 'Like what you see? Visit the ' +\n",
              "            '<a target=\"_blank\" href=https://colab.research.google.com/notebooks/data_table.ipynb>data table notebook</a>'\n",
              "            + ' to learn more about interactive tables.';\n",
              "          element.innerHTML = '';\n",
              "          dataTable['output_type'] = 'display_data';\n",
              "          await google.colab.output.renderOutput(dataTable, element);\n",
              "          const docLink = document.createElement('div');\n",
              "          docLink.innerHTML = docLinkHtml;\n",
              "          element.appendChild(docLink);\n",
              "        }\n",
              "      </script>\n",
              "    </div>\n",
              "  </div>\n"
            ]
          },
          "metadata": {},
          "execution_count": 40
        }
      ]
    },
    {
      "cell_type": "markdown",
      "source": [
        "Видим, что сфера деятельность указана не во всех вакансиях в явном виде. Заменим неадекватные названия на unknown."
      ],
      "metadata": {
        "id": "-lLvlmTEMMr-"
      }
    },
    {
      "cell_type": "code",
      "source": [
        "jobs['company_scope'] = jobs['company_scope'].apply(lambda x: 'unknown' if ('Premium' in x or  'applicants' in x) else x)"
      ],
      "metadata": {
        "id": "QANIPcqtn4B4"
      },
      "execution_count": null,
      "outputs": []
    },
    {
      "cell_type": "code",
      "source": [
        "jobs['company_scope'].str.contains('Premium|applicants', flags=re.IGNORECASE, regex=True).sum()"
      ],
      "metadata": {
        "colab": {
          "base_uri": "https://localhost:8080/"
        },
        "id": "3rd4U-mzqEm3",
        "outputId": "a177b074-98ac-4907-e991-95fc22a5c878"
      },
      "execution_count": null,
      "outputs": [
        {
          "output_type": "execute_result",
          "data": {
            "text/plain": [
              "0"
            ]
          },
          "metadata": {},
          "execution_count": 42
        }
      ]
    },
    {
      "cell_type": "markdown",
      "source": [
        "Посмотрим какой процент ненайденное занимает от всего датасета."
      ],
      "metadata": {
        "id": "jrcE3cydr60M"
      }
    },
    {
      "cell_type": "code",
      "source": [
        "jobs.query('company_scope==\"unknown\"')['company_name'].count() / jobs.shape[0]"
      ],
      "metadata": {
        "colab": {
          "base_uri": "https://localhost:8080/"
        },
        "id": "3AHR7krKxQsm",
        "outputId": "e4b6a879-da64-4f62-b053-09bf1036733c"
      },
      "execution_count": null,
      "outputs": [
        {
          "output_type": "execute_result",
          "data": {
            "text/plain": [
              "0.06518518518518518"
            ]
          },
          "metadata": {},
          "execution_count": 43
        }
      ]
    },
    {
      "cell_type": "markdown",
      "source": [
        "6,5% - с типом unknown. Это допустимо и нормально, так как не у всех компаний указана деяельность + иногда агенство ищет соискателей не для себя, а для компании-клиента."
      ],
      "metadata": {
        "id": "OMOXsWj_OqY4"
      }
    },
    {
      "cell_type": "code",
      "source": [
        "jobs['company_scope'].nunique()"
      ],
      "metadata": {
        "id": "T_rlPTZJtEKe",
        "colab": {
          "base_uri": "https://localhost:8080/"
        },
        "outputId": "1e58b164-1a9f-4909-ae59-3b9911f211eb"
      },
      "execution_count": null,
      "outputs": [
        {
          "output_type": "execute_result",
          "data": {
            "text/plain": [
              "97"
            ]
          },
          "metadata": {},
          "execution_count": 44
        }
      ]
    },
    {
      "cell_type": "markdown",
      "source": [
        "Направлений достаточно много, унифицируем однотипные названия и произведем замену. Делать это будем через функцию."
      ],
      "metadata": {
        "id": "k3qoFyWR5qf9"
      }
    },
    {
      "cell_type": "code",
      "source": [
        "scope_dic = {\n",
        "    'Machinery Manufacturing': ['Manufacturing', 'Automation Machinery Manufacturing', 'Aviation and Aerospace Component Manufacturing',\n",
        "               'Industrial Machinery Manufacturing', 'Primary Metal Manufacturing'],\n",
        "    'Motor Vehicle Manufacturing': ['Motor Vehicle Parts Manufacturing'],\n",
        "    'Retail':['Retail Apparel and Fashion', 'Retail Groceries', 'Retail Health and Personal Care Products', 'Retail Luxury Goods and Jewelry'],\n",
        "    'Food & Beverages':['Food and Beverage Manufacturing', 'Food and Beverage Services', 'Dairy Product Manufacturing'],\n",
        "    'Defense & Space': ['Defense and Space Manufacturing'],\n",
        "    'Hospitals': ['Hospitality', 'Hospitals and Health Care','Mental Health Care'],\n",
        "    'Human Resources': ['Human Resources', 'Human Resources Services', 'Staffing and Recruiting'],\n",
        "    'IT Services and IT Consulting': ['Software Development', 'Information Services', 'Information Technology & Services']\n",
        "}"
      ],
      "metadata": {
        "id": "hi9f8KXXsm56"
      },
      "execution_count": null,
      "outputs": []
    },
    {
      "cell_type": "code",
      "source": [
        "def replace_scope(stroka):\n",
        "  for i in scope_dic.keys():\n",
        "    for k in scope_dic[i]:\n",
        "      if stroka.strip()==k:\n",
        "        stroka = i\n",
        "  return stroka\n",
        "\n"
      ],
      "metadata": {
        "id": "K8aWLfqjxg9y"
      },
      "execution_count": null,
      "outputs": []
    },
    {
      "cell_type": "code",
      "source": [
        "jobs['company_scope'] = jobs['company_scope'].apply(lambda x: replace_scope(x))\n",
        "jobs['company_scope'].nunique()"
      ],
      "metadata": {
        "colab": {
          "base_uri": "https://localhost:8080/"
        },
        "id": "BqRXvqkSxJ3k",
        "outputId": "d9bff78a-d8f1-468a-cd0e-96286dca865b"
      },
      "execution_count": null,
      "outputs": [
        {
          "output_type": "execute_result",
          "data": {
            "text/plain": [
              "76"
            ]
          },
          "metadata": {},
          "execution_count": 47
        }
      ]
    },
    {
      "cell_type": "markdown",
      "source": [
        "Повторная проверка:"
      ],
      "metadata": {
        "id": "iNTlFRxMx8J5"
      }
    },
    {
      "cell_type": "code",
      "source": [
        "jobs['company_scope'].value_counts().head(20)"
      ],
      "metadata": {
        "id": "sdv-cxFXw2Ar",
        "colab": {
          "base_uri": "https://localhost:8080/"
        },
        "outputId": "ba5c10d9-529d-4492-96dc-79a3e6267530"
      },
      "execution_count": null,
      "outputs": [
        {
          "output_type": "execute_result",
          "data": {
            "text/plain": [
              "IT Services and IT Consulting                          152\n",
              "Retail                                                  77\n",
              "Human Resources                                         70\n",
              "unknown                                                 44\n",
              "Financial Services                                      42\n",
              "Technology, Information and Internet                    28\n",
              "Banking                                                 23\n",
              "Business Consulting and Services                        22\n",
              "Advertising Services                                    16\n",
              "Machinery Manufacturing                                 14\n",
              "Motor Vehicle Manufacturing                             11\n",
              "Entertainment Providers                                 11\n",
              "Food & Beverages                                        11\n",
              "Transportation, Logistics, Supply Chain and Storage      9\n",
              "Hospitals                                                8\n",
              "Pharmaceutical Manufacturing                             7\n",
              "Utilities                                                7\n",
              "Oil and Gas                                              7\n",
              "Telecommunications                                       6\n",
              "Renewable Energy Semiconductor Manufacturing             6\n",
              "Name: company_scope, dtype: int64"
            ]
          },
          "metadata": {},
          "execution_count": 48
        }
      ]
    },
    {
      "cell_type": "markdown",
      "source": [
        "Категории укрупнились, больше ничего не будем с ними делать."
      ],
      "metadata": {
        "id": "y77fYZWtyHcA"
      }
    },
    {
      "cell_type": "markdown",
      "source": [
        "### Дата публикации вакансии\n"
      ],
      "metadata": {
        "id": "zAWLs9oeO8lY"
      }
    },
    {
      "cell_type": "code",
      "source": [
        "jobs['date_publication'].value_counts()"
      ],
      "metadata": {
        "colab": {
          "base_uri": "https://localhost:8080/"
        },
        "id": "jZb-CC07PtHU",
        "outputId": "21334228-b48a-4bef-83a5-70e7307f1235"
      },
      "execution_count": null,
      "outputs": [
        {
          "output_type": "execute_result",
          "data": {
            "text/plain": [
              "1 week ago        193\n",
              "2 weeks ago       190\n",
              "3 weeks ago        73\n",
              "4 days ago         50\n",
              "4 weeks ago        46\n",
              "5 days ago         30\n",
              "6 days ago         30\n",
              "1 day ago          27\n",
              "3 days ago         20\n",
              "2 days ago          5\n",
              "6 hours ago         3\n",
              "5 hours ago         2\n",
              "12 minutes ago      1\n",
              "29 minutes ago      1\n",
              "8 hours ago         1\n",
              "12 hours ago        1\n",
              "9 hours ago         1\n",
              "7 hours ago         1\n",
              "Name: date_publication, dtype: int64"
            ]
          },
          "metadata": {},
          "execution_count": 49
        }
      ]
    },
    {
      "cell_type": "markdown",
      "source": [
        "С учетом того, что парсинг данных происходил 23/05/2023 мы можем определеить дату публикации вакансий. <br> Стоит обратить внимание, что в Linkedin точную дату можно поймать только до 7 дней, дальше дата публикации отображается как бы в интервале ( 1 week ago, 3 weeks ago и тд), данных с часами и минутами очень мало - округлим их до дня. Создадим функцию, которая будет определять дату публикации (категорию) без учета минут и часов."
      ],
      "metadata": {
        "id": "BIrk4QCDgP-4"
      }
    },
    {
      "cell_type": "code",
      "source": [
        "def find_date_pub(stroka):\n",
        "  date_parsing = dt.strptime(\"23/05/2023\", \"%d/%m/%Y\")\n",
        "\n",
        "  #шаблон, выбирающий только числа\n",
        "  regexp = r\"([0-9]+)\"\n",
        "  if 'week' in stroka:\n",
        "    delta = timedelta(weeks=int(re.search(regexp, stroka)[0]))\n",
        "  elif 'day' in stroka:\n",
        "    delta = timedelta(days=int(re.search(regexp, stroka)[0]))\n",
        "  else:\n",
        "    delta = timedelta(days=0)\n",
        "\n",
        "  return date_parsing - delta\n",
        "\n"
      ],
      "metadata": {
        "id": "SlIg6GnQlGdV"
      },
      "execution_count": null,
      "outputs": []
    },
    {
      "cell_type": "code",
      "source": [
        "jobs['date_publс'] =  jobs['date_publication'].apply(lambda x: find_date_pub(x))"
      ],
      "metadata": {
        "id": "W5qfJ3BEvEqV"
      },
      "execution_count": null,
      "outputs": []
    },
    {
      "cell_type": "code",
      "source": [
        "jobs.date_publс.min()"
      ],
      "metadata": {
        "colab": {
          "base_uri": "https://localhost:8080/"
        },
        "id": "VxopvTtC8Hfe",
        "outputId": "4ff7eb39-ca37-438d-b1ba-0e47f9101e5c"
      },
      "execution_count": null,
      "outputs": [
        {
          "output_type": "execute_result",
          "data": {
            "text/plain": [
              "Timestamp('2023-04-25 00:00:00')"
            ]
          },
          "metadata": {},
          "execution_count": 52
        }
      ]
    },
    {
      "cell_type": "code",
      "source": [
        "jobs.date_publс.max()"
      ],
      "metadata": {
        "colab": {
          "base_uri": "https://localhost:8080/"
        },
        "id": "BWEUx93V8JzS",
        "outputId": "2c5141e4-b812-4b6c-9481-cdd07f92162e"
      },
      "execution_count": null,
      "outputs": [
        {
          "output_type": "execute_result",
          "data": {
            "text/plain": [
              "Timestamp('2023-05-23 00:00:00')"
            ]
          },
          "metadata": {},
          "execution_count": 53
        }
      ]
    },
    {
      "cell_type": "markdown",
      "source": [
        "Получается, что мы располагаем вакансиями за 1 месяц. Посмотрим распределение на графике."
      ],
      "metadata": {
        "id": "sBvVFEus1sQi"
      }
    },
    {
      "cell_type": "code",
      "source": [
        "date_jobs = jobs.groupby('date_publс', as_index = False)['name'].agg('count').sort_values(by = 'date_publс').rename(columns = {'name':'counts_jobs'})"
      ],
      "metadata": {
        "id": "Adc9vXaB0xiE"
      },
      "execution_count": null,
      "outputs": []
    },
    {
      "cell_type": "code",
      "source": [
        "#Строим график\n",
        "fig = plt.subplots(figsize=(15, 6))\n",
        "sns.lineplot(x=\"date_publс\", y=\"counts_jobs\", linewidth=3, data=date_jobs)\n",
        "#plt.grid()\n",
        "plt.title(\"Публикация вакансий на аналитика данных во времени\");\n",
        "plt.xlabel('Временной интервал')\n",
        "plt.ylabel('Опубликовано вакансий')\n",
        "#plt.xticks(dau_list);\n",
        "plt.xticks(rotation=30, ha = 'right')\n",
        "plt.show();"
      ],
      "metadata": {
        "colab": {
          "base_uri": "https://localhost:8080/",
          "height": 602
        },
        "id": "iGqWJHIt1wzX",
        "outputId": "c0733fe8-b452-4995-90fb-3b4f47dfe01f"
      },
      "execution_count": null,
      "outputs": [
        {
          "output_type": "display_data",
          "data": {
            "text/plain": [
              "<Figure size 1500x600 with 1 Axes>"
            ],
            "image/png": "[encoded data removed]"
          },
          "metadata": {}
        }
      ]
    },
    {
      "cell_type": "markdown",
      "source": [
        "Вакансии, опубликованные 2-3 недели назад (с 09/05/23 по 17/05/23) имеют стабильно высокое число откликов, в последнюю же неделю показатели маленькие, так как 1. данные размазаны по дням, 2. вакансии увидели еще не все соискатели.  "
      ],
      "metadata": {
        "id": "TRbtTvkV2L--"
      }
    },
    {
      "cell_type": "markdown",
      "source": [
        "### Количество кандидатов на вакансию"
      ],
      "metadata": {
        "id": "xOskGW3QO8_8"
      }
    },
    {
      "cell_type": "code",
      "source": [
        "'{:.1%}'.format(jobs.query('applicants==\"unknown\"')['applicants'].count() / jobs.shape[0])"
      ],
      "metadata": {
        "colab": {
          "base_uri": "https://localhost:8080/",
          "height": 35
        },
        "id": "zOUhB4IWeBnN",
        "outputId": "d03bb359-a1ec-408e-ffd5-00b403e97c13"
      },
      "execution_count": null,
      "outputs": [
        {
          "output_type": "execute_result",
          "data": {
            "text/plain": [
              "'10.2%'"
            ],
            "application/vnd.google.colaboratory.intrinsic+json": {
              "type": "string"
            }
          },
          "metadata": {},
          "execution_count": 56
        }
      ]
    },
    {
      "cell_type": "markdown",
      "source": [
        "У чуть больше, чем 10 % процентов вакансий нет откликов, пожалуй это похоже на правду. Возможно, вакансии еще не успели набрать откликов или в принципе не интересны соискателям (из-за плохого описания, например)."
      ],
      "metadata": {
        "id": "5RD0Xs14fSxQ"
      }
    },
    {
      "cell_type": "markdown",
      "source": [
        "Уберем повторяющийся текст, заменим неизвестное на 0."
      ],
      "metadata": {
        "id": "KoKoDSgS_5Ax"
      }
    },
    {
      "cell_type": "code",
      "source": [
        "jobs['applicants'] = jobs['applicants'].apply(lambda x: x.replace('applicants','').strip())\n",
        "\n",
        "jobs['applicants'] = jobs['applicants'].apply(lambda x: x.replace('unknown','0'))"
      ],
      "metadata": {
        "id": "mIWWXv9CME70"
      },
      "execution_count": null,
      "outputs": []
    },
    {
      "cell_type": "code",
      "source": [
        "jobs['applicants'].value_counts()"
      ],
      "metadata": {
        "colab": {
          "base_uri": "https://localhost:8080/"
        },
        "id": "XJ1fXjLBL1y3",
        "outputId": "659c6a61-61d8-4f4c-812f-63918970a187"
      },
      "execution_count": null,
      "outputs": [
        {
          "output_type": "execute_result",
          "data": {
            "text/plain": [
              "Over 200    85\n",
              "0           69\n",
              "25          11\n",
              "4           11\n",
              "19          10\n",
              "            ..\n",
              "96           1\n",
              "130          1\n",
              "184          1\n",
              "63           1\n",
              "198          1\n",
              "Name: applicants, Length: 167, dtype: int64"
            ]
          },
          "metadata": {},
          "execution_count": 58
        }
      ]
    },
    {
      "cell_type": "markdown",
      "source": [
        "Наша задача привести этот столбец к числовому типу. Но сначала заменим значение Over 200 на рандомные числовые значения с 201 до 300. Так данные будут распределены равномерно и без искусственного пика."
      ],
      "metadata": {
        "id": "00LFeCtFQmzK"
      }
    },
    {
      "cell_type": "code",
      "source": [
        "jobs['applicants'] = jobs['applicants'].apply(lambda x: x if x!=\"Over 200\" else np.random.randint(201, 300))\n",
        "jobs['applicants'] = jobs['applicants'].astype('int')"
      ],
      "metadata": {
        "id": "63Y0PZblNQFX"
      },
      "execution_count": null,
      "outputs": []
    },
    {
      "cell_type": "markdown",
      "source": [
        "Проверим, как распределились данные на графике"
      ],
      "metadata": {
        "id": "xSZpa4JDRJ-C"
      }
    },
    {
      "cell_type": "code",
      "source": [
        "jobs['applicants'].hist(bins = 20);\n",
        "plt.ylabel('Количество откликов на вакансию')\n",
        "plt.xlabel('Количество вакансий')\n",
        "plt.title('Распределение вакансий по количеству откликов на каждую')\n",
        "plt.show()\n"
      ],
      "metadata": {
        "colab": {
          "base_uri": "https://localhost:8080/",
          "height": 472
        },
        "id": "n4de4nL39UrL",
        "outputId": "b06494f2-8433-4346-f03d-b4225eadb70b"
      },
      "execution_count": null,
      "outputs": [
        {
          "output_type": "display_data",
          "data": {
            "text/plain": [
              "<Figure size 640x480 with 1 Axes>"
            ],
            "image/png": "[encoded data removed]"
          },
          "metadata": {}
        }
      ]
    },
    {
      "cell_type": "markdown",
      "source": [
        "Очень много вакансий (=компаний), на которые откликается всего до 10 человек, график ведет себя ожидаемо и идет на спад, значит все сделали верно."
      ],
      "metadata": {
        "id": "ImJiYBAX-a0F"
      }
    },
    {
      "cell_type": "markdown",
      "source": [
        "### Страна"
      ],
      "metadata": {
        "id": "7q7kRZINi1Cu"
      }
    },
    {
      "cell_type": "markdown",
      "source": [
        "Страну будем вытягивать из location, этот столбец хранит адрес целиком. Посмотрим, как он выглядит."
      ],
      "metadata": {
        "id": "PhcG7yhlKkhg"
      }
    },
    {
      "cell_type": "code",
      "source": [
        "jobs.location.value_counts()"
      ],
      "metadata": {
        "colab": {
          "base_uri": "https://localhost:8080/"
        },
        "id": "xN_ABIP9JERt",
        "outputId": "b57efb55-aeaa-49e2-c7bd-6937766f9142"
      },
      "execution_count": null,
      "outputs": [
        {
          "output_type": "execute_result",
          "data": {
            "text/plain": [
              "Milan, Lombardy, Italy                 31\n",
              "Paris, Île-de-France, France           20\n",
              "Madrid, Community of Madrid, Spain     18\n",
              "Warsaw, Mazowieckie, Poland            17\n",
              "London, England, United Kingdom        12\n",
              "                                       ..\n",
              "Utrecht, Netherlands                    1\n",
              "Gillingham, England, United Kingdom     1\n",
              "Emmen, Drenthe, Netherlands             1\n",
              "Guissona, Catalonia, Spain              1\n",
              "Greater Munich Metropolitan Area        1\n",
              "Name: location, Length: 360, dtype: int64"
            ]
          },
          "metadata": {},
          "execution_count": 61
        }
      ]
    },
    {
      "cell_type": "markdown",
      "source": [
        "Во всех данных страна идет последней в списке, отщипнем ее от локации и поместим в соответствующее поле country. Для ситуации, когда в строке нет разделителя \",\" -  проставим unknown и более детально посмотрим такие значения."
      ],
      "metadata": {
        "id": "XomZ3uGhK4aP"
      }
    },
    {
      "cell_type": "code",
      "source": [
        "jobs['country'] = jobs['location'].apply(lambda x: x.split(',')[-1].strip() if ',' in x else 'unknown')"
      ],
      "metadata": {
        "id": "OSM-jAZvShEP"
      },
      "execution_count": null,
      "outputs": []
    },
    {
      "cell_type": "code",
      "source": [
        "jobs.country.value_counts(dropna=False, normalize=True)"
      ],
      "metadata": {
        "colab": {
          "base_uri": "https://localhost:8080/"
        },
        "id": "GDK00Z-mSw5-",
        "outputId": "8fd96d16-6dc6-40e9-938d-ba504196f7b7"
      },
      "execution_count": null,
      "outputs": [
        {
          "output_type": "execute_result",
          "data": {
            "text/plain": [
              "Italy             0.164444\n",
              "France            0.122963\n",
              "Germany           0.120000\n",
              "United Kingdom    0.100741\n",
              "unknown           0.093333\n",
              "Netherlands       0.069630\n",
              "Spain             0.060741\n",
              "Belgium           0.047407\n",
              "Poland            0.045926\n",
              "Sweden            0.023704\n",
              "Ireland           0.020741\n",
              "Portugal          0.020741\n",
              "Greece            0.014815\n",
              "Luxembourg        0.014815\n",
              "Austria           0.010370\n",
              "Hungary           0.010370\n",
              "Czechia           0.010370\n",
              "Bulgaria          0.007407\n",
              "Switzerland       0.005926\n",
              "Lithuania         0.005926\n",
              "Malta             0.004444\n",
              "Norway            0.004444\n",
              "Denmark           0.004444\n",
              "Romania           0.004444\n",
              "Latvia            0.002963\n",
              "Slovakia          0.002963\n",
              "Estonia           0.001481\n",
              "Finland           0.001481\n",
              "Monaco            0.001481\n",
              "Croatia           0.001481\n",
              "Name: country, dtype: float64"
            ]
          },
          "metadata": {},
          "execution_count": 63
        }
      ]
    },
    {
      "cell_type": "markdown",
      "source": [
        "9% значений не получилось обработать, из-за того, что в локации указана только страна или какой-то регион/город без страны. Напишем функцию, которая будет находить страну по городу ( в соответствии со словарем, который мы пропишем отдельно), или страну - если такая уже ранее встречалась в датасете."
      ],
      "metadata": {
        "id": "1bZBvAoFU6Wq"
      }
    },
    {
      "cell_type": "code",
      "source": [
        "#Словарь замены городна на страну\n",
        "town_country_dic = {\n",
        "    'Netherlands':['Amsterdam','Eindhoven','Rotterdam'],\n",
        "    'Germany':['Berlin','Cologne','Munich','Munster','Nuremberg','Stuttgart'],\n",
        "    'Belgium':['Brussels'],\n",
        "    'Slovakia':['Banska','Bystrica'],\n",
        "    'Spain':['Barcelona','Palma de Mallorca','Pau'],\n",
        "    'France':['Paris'],\n",
        "    'Poland':['Krakow','Warsaw','Wroclaw'],\n",
        "    'United Kingdom':['Manchester'],\n",
        "    'Italy':['Milan'],\n",
        "    'Czech':['Prague'],\n",
        "    'Greece':['Athens']\n",
        "  }\n",
        "\n",
        "#список всех стран датасета\n",
        "city_list = list(jobs['country'].unique())"
      ],
      "metadata": {
        "id": "tC-u4JUZ-lZc"
      },
      "execution_count": null,
      "outputs": []
    },
    {
      "cell_type": "code",
      "source": [
        "def find_country(df):\n",
        "  if df['country']=='unknown':\n",
        "    for c in city_list:\n",
        "      if c in df['location']:\n",
        "        return c\n",
        "      else:\n",
        "        for i in town_country_dic.keys():\n",
        "          for k in town_country_dic[i]:\n",
        "            if k in df['location']:\n",
        "              return i\n",
        "  else:\n",
        "    return df['country']"
      ],
      "metadata": {
        "id": "MV9Vwk6dwvcn"
      },
      "execution_count": null,
      "outputs": []
    },
    {
      "cell_type": "code",
      "source": [
        "jobs['country'] = jobs.apply(find_country, axis = 1)"
      ],
      "metadata": {
        "id": "8hiq59gYAago"
      },
      "execution_count": null,
      "outputs": []
    },
    {
      "cell_type": "code",
      "source": [
        "jobs.country.value_counts(dropna=False)"
      ],
      "metadata": {
        "colab": {
          "base_uri": "https://localhost:8080/"
        },
        "id": "ziFW_oxYEe_P",
        "outputId": "51de1f58-7270-4e6b-d3fb-5b72c5584144"
      },
      "execution_count": null,
      "outputs": [
        {
          "output_type": "execute_result",
          "data": {
            "text/plain": [
              "Italy             118\n",
              "Germany            92\n",
              "France             88\n",
              "United Kingdom     68\n",
              "Netherlands        52\n",
              "Spain              48\n",
              "Poland             44\n",
              "Belgium            35\n",
              "Sweden             16\n",
              "Portugal           16\n",
              "Ireland            14\n",
              "Greece             11\n",
              "Luxembourg         10\n",
              "Bulgaria            8\n",
              "Hungary             8\n",
              "Austria             7\n",
              "Czechia             7\n",
              "Lithuania           5\n",
              "Denmark             4\n",
              "Switzerland         4\n",
              "Malta               3\n",
              "Slovakia            3\n",
              "Norway              3\n",
              "Romania             3\n",
              "Latvia              2\n",
              "Finland             2\n",
              "Estonia             1\n",
              "Czech               1\n",
              "Monaco              1\n",
              "Croatia             1\n",
              "Name: country, dtype: int64"
            ]
          },
          "metadata": {},
          "execution_count": 67
        }
      ]
    },
    {
      "cell_type": "markdown",
      "source": [
        "Теперь мы нашли все страны, можем идти дальше."
      ],
      "metadata": {
        "id": "IiDN5_IkH_dB"
      }
    },
    {
      "cell_type": "markdown",
      "source": [
        "### Хард - скилы"
      ],
      "metadata": {
        "id": "6tzqMssiPbiz"
      }
    },
    {
      "cell_type": "code",
      "source": [
        "jobs.info()"
      ],
      "metadata": {
        "id": "GF5IEhu66JNM",
        "colab": {
          "base_uri": "https://localhost:8080/"
        },
        "outputId": "c4135150-f71c-4a5c-c630-68f4feaefb9e"
      },
      "execution_count": null,
      "outputs": [
        {
          "output_type": "stream",
          "name": "stdout",
          "text": [
            "<class 'pandas.core.frame.DataFrame'>\n",
            "RangeIndex: 675 entries, 0 to 674\n",
            "Data columns (total 14 columns):\n",
            " #   Column            Non-Null Count  Dtype         \n",
            "---  ------            --------------  -----         \n",
            " 0   html              675 non-null    object        \n",
            " 1   id_job            675 non-null    object        \n",
            " 2   name              675 non-null    object        \n",
            " 3   company_name      675 non-null    object        \n",
            " 4   workplace_type    675 non-null    object        \n",
            " 5   company_staff     675 non-null    object        \n",
            " 6   company_scope     675 non-null    object        \n",
            " 7   date_publication  675 non-null    object        \n",
            " 8   applicants        675 non-null    int64         \n",
            " 9   location          675 non-null    object        \n",
            " 10  description       675 non-null    object        \n",
            " 11  skills            675 non-null    object        \n",
            " 12  date_publс        675 non-null    datetime64[ns]\n",
            " 13  country           675 non-null    object        \n",
            "dtypes: datetime64[ns](1), int64(1), object(12)\n",
            "memory usage: 74.0+ KB\n"
          ]
        }
      ]
    },
    {
      "cell_type": "markdown",
      "source": [
        "Для начала определем объем вакансий с ненайденными скилами и решим, можем ли мы с этим что-то сделать."
      ],
      "metadata": {
        "id": "SIyCeGFfNwmF"
      }
    },
    {
      "cell_type": "code",
      "source": [
        "jobs.query('skills==\"unknown\"')['skills'].count() / jobs.shape[0]"
      ],
      "metadata": {
        "id": "rGYa-beukw-k",
        "colab": {
          "base_uri": "https://localhost:8080/"
        },
        "outputId": "dd1903a3-b54c-456a-f989-d067b0029e5a"
      },
      "execution_count": null,
      "outputs": [
        {
          "output_type": "execute_result",
          "data": {
            "text/plain": [
              "0.07851851851851852"
            ]
          },
          "metadata": {},
          "execution_count": 69
        }
      ]
    },
    {
      "cell_type": "code",
      "source": [
        "jobs.query('skills==\"\"')['skills'].count() / jobs.shape[0]"
      ],
      "metadata": {
        "colab": {
          "base_uri": "https://localhost:8080/"
        },
        "id": "b7RO1UEHRNrX",
        "outputId": "1ad45e9f-25e3-4bdc-f33d-4098fb1a568c"
      },
      "execution_count": null,
      "outputs": [
        {
          "output_type": "execute_result",
          "data": {
            "text/plain": [
              "0.0"
            ]
          },
          "metadata": {},
          "execution_count": 70
        }
      ]
    },
    {
      "cell_type": "markdown",
      "source": [
        "8% - это адекватный показатель. Мы выборочно посмотрели описание нескольких таких вакансий и там действительно не указаны хард скилы. Значит оставим эти данные как есть."
      ],
      "metadata": {
        "id": "vr-eyUC15TW6"
      }
    },
    {
      "cell_type": "markdown",
      "source": [
        "Чтобы подготовить данные к визуализации, сделаем так, чтобы 1 скилл = 1 строка. Воспользуемся функцией взрыва explode. Уникальность вакансии будем отслеживать по id_job, преобразуем это поле к числовому типу."
      ],
      "metadata": {
        "id": "8YuzKvVgHFTM"
      }
    },
    {
      "cell_type": "code",
      "source": [
        "jobs['id_job'] = jobs['id_job'].astype('int')"
      ],
      "metadata": {
        "id": "bSdxGzNlCl4N"
      },
      "execution_count": null,
      "outputs": []
    },
    {
      "cell_type": "code",
      "source": [
        "jobs.info()"
      ],
      "metadata": {
        "colab": {
          "base_uri": "https://localhost:8080/"
        },
        "id": "iNNgeo7LDgb_",
        "outputId": "901f5b76-5c67-4bd1-8145-91503f21636f"
      },
      "execution_count": null,
      "outputs": [
        {
          "output_type": "stream",
          "name": "stdout",
          "text": [
            "<class 'pandas.core.frame.DataFrame'>\n",
            "RangeIndex: 675 entries, 0 to 674\n",
            "Data columns (total 14 columns):\n",
            " #   Column            Non-Null Count  Dtype         \n",
            "---  ------            --------------  -----         \n",
            " 0   html              675 non-null    object        \n",
            " 1   id_job            675 non-null    int64         \n",
            " 2   name              675 non-null    object        \n",
            " 3   company_name      675 non-null    object        \n",
            " 4   workplace_type    675 non-null    object        \n",
            " 5   company_staff     675 non-null    object        \n",
            " 6   company_scope     675 non-null    object        \n",
            " 7   date_publication  675 non-null    object        \n",
            " 8   applicants        675 non-null    int64         \n",
            " 9   location          675 non-null    object        \n",
            " 10  description       675 non-null    object        \n",
            " 11  skills            675 non-null    object        \n",
            " 12  date_publс        675 non-null    datetime64[ns]\n",
            " 13  country           675 non-null    object        \n",
            "dtypes: datetime64[ns](1), int64(2), object(11)\n",
            "memory usage: 74.0+ KB\n"
          ]
        }
      ]
    },
    {
      "cell_type": "markdown",
      "source": [
        "ТЕперь \"взорвем\" список скилов в отдельные строки."
      ],
      "metadata": {
        "id": "Fv5n_xCvRY3z"
      }
    },
    {
      "cell_type": "code",
      "source": [
        "#превратим строку в список\n",
        "jobs['skills'] = jobs['skills'].apply(lambda x: x.split(','))"
      ],
      "metadata": {
        "id": "FaP9LGWPcNkY"
      },
      "execution_count": null,
      "outputs": []
    },
    {
      "cell_type": "code",
      "source": [
        "#взрываем список скилов\n",
        "jobs = jobs.explode('skills').reset_index(drop= True )"
      ],
      "metadata": {
        "id": "KL4KHAOzYT3n"
      },
      "execution_count": null,
      "outputs": []
    },
    {
      "cell_type": "code",
      "source": [
        "jobs.info()"
      ],
      "metadata": {
        "id": "ZYvSmPWMiYKb",
        "colab": {
          "base_uri": "https://localhost:8080/"
        },
        "outputId": "e8553022-5205-403a-def5-75743bb598aa"
      },
      "execution_count": null,
      "outputs": [
        {
          "output_type": "stream",
          "name": "stdout",
          "text": [
            "<class 'pandas.core.frame.DataFrame'>\n",
            "RangeIndex: 2962 entries, 0 to 2961\n",
            "Data columns (total 14 columns):\n",
            " #   Column            Non-Null Count  Dtype         \n",
            "---  ------            --------------  -----         \n",
            " 0   html              2962 non-null   object        \n",
            " 1   id_job            2962 non-null   int64         \n",
            " 2   name              2962 non-null   object        \n",
            " 3   company_name      2962 non-null   object        \n",
            " 4   workplace_type    2962 non-null   object        \n",
            " 5   company_staff     2962 non-null   object        \n",
            " 6   company_scope     2962 non-null   object        \n",
            " 7   date_publication  2962 non-null   object        \n",
            " 8   applicants        2962 non-null   int64         \n",
            " 9   location          2962 non-null   object        \n",
            " 10  description       2962 non-null   object        \n",
            " 11  skills            2962 non-null   object        \n",
            " 12  date_publс        2962 non-null   datetime64[ns]\n",
            " 13  country           2962 non-null   object        \n",
            "dtypes: datetime64[ns](1), int64(2), object(11)\n",
            "memory usage: 324.1+ KB\n"
          ]
        }
      ]
    },
    {
      "cell_type": "markdown",
      "source": [
        "Посмотрим, что получилось."
      ],
      "metadata": {
        "id": "6fumOBUCSHre"
      }
    },
    {
      "cell_type": "code",
      "source": [
        "jobs.skills.value_counts().head(50)"
      ],
      "metadata": {
        "colab": {
          "base_uri": "https://localhost:8080/"
        },
        "id": "Jo1fIM0k3xaN",
        "outputId": "9989b69e-5178-4d97-ab15-1947eae951dd"
      },
      "execution_count": null,
      "outputs": [
        {
          "output_type": "execute_result",
          "data": {
            "text/plain": [
              "sql                      262\n",
              "python                   203\n",
              "excel                    201\n",
              "power bi                 187\n",
              "ai                       135\n",
              "r                        132\n",
              "tableau                  130\n",
              "agile                     87\n",
              "statistics                83\n",
              "powerbi                   62\n",
              "dashboard                 55\n",
              "power point               55\n",
              "unknown                   53\n",
              "powerpoint                50\n",
              "azure                     41\n",
              "etl                       38\n",
              "google analytics          38\n",
              "sas                       36\n",
              "sap                       36\n",
              "looker                    33\n",
              "data warehouse            33\n",
              "big query                 32\n",
              "qlik                      31\n",
              "ms office                 31\n",
              "aws                       29\n",
              "data engineering          28\n",
              "data mining               27\n",
              "informatica               24\n",
              "salesforce                23\n",
              "qlik sense                22\n",
              "jira                      22\n",
              "vba                       21\n",
              "data studio               21\n",
              "hadoop                    20\n",
              "bigquery                  20\n",
              "google cloud platform     18\n",
              "a/b testing               18\n",
              "spark                     18\n",
              "spss                      18\n",
              "oracle                    18\n",
              "java                      17\n",
              "gcp                       17\n",
              "scala                     14\n",
              "pandas                    14\n",
              "snowflake                 14\n",
              "html                      13\n",
              "api                       13\n",
              "confluence                12\n",
              "databricks                12\n",
              "deep learning             12\n",
              "Name: skills, dtype: int64"
            ]
          },
          "metadata": {},
          "execution_count": 76
        }
      ]
    },
    {
      "cell_type": "markdown",
      "source": [
        "Теперь унифицируем одинаковые названия, избавимся от неявных дубликатов"
      ],
      "metadata": {
        "id": "2gUxNFsB7gH0"
      }
    },
    {
      "cell_type": "code",
      "source": [
        "#словарь замен скилов\n",
        "rep_dic = {'power point':'powerpoint',\n",
        "           'powerbi':'power bi',\n",
        "           'ab testing':'a/b testing',\n",
        "           'bigquery': 'big query',\n",
        "           'github':'git',\n",
        "           'oracle data integrator':'oracle',\n",
        "           'sap business objects':'sap'}"
      ],
      "metadata": {
        "id": "P9rHgTH0gjJJ"
      },
      "execution_count": null,
      "outputs": []
    },
    {
      "cell_type": "code",
      "source": [
        "jobs['skills'] = jobs['skills'].replace(to_replace=rep_dic)"
      ],
      "metadata": {
        "id": "OyprWJKZ0cSy"
      },
      "execution_count": null,
      "outputs": []
    },
    {
      "cell_type": "code",
      "source": [
        "jobs.skills.value_counts().head(50)"
      ],
      "metadata": {
        "id": "l2rh_XlmWWWk",
        "colab": {
          "base_uri": "https://localhost:8080/"
        },
        "outputId": "db2b18b4-8be4-463c-8716-9799481f821f"
      },
      "execution_count": null,
      "outputs": [
        {
          "output_type": "execute_result",
          "data": {
            "text/plain": [
              "sql                      262\n",
              "power bi                 249\n",
              "python                   203\n",
              "excel                    201\n",
              "ai                       135\n",
              "r                        132\n",
              "tableau                  130\n",
              "powerpoint               105\n",
              "agile                     87\n",
              "statistics                83\n",
              "dashboard                 55\n",
              "unknown                   53\n",
              "big query                 52\n",
              "azure                     41\n",
              "sap                       39\n",
              "etl                       38\n",
              "google analytics          38\n",
              "sas                       36\n",
              "looker                    33\n",
              "data warehouse            33\n",
              "ms office                 31\n",
              "qlik                      31\n",
              "aws                       29\n",
              "data engineering          28\n",
              "data mining               27\n",
              "informatica               24\n",
              "salesforce                23\n",
              "qlik sense                22\n",
              "jira                      22\n",
              "data studio               21\n",
              "vba                       21\n",
              "hadoop                    20\n",
              "a/b testing               20\n",
              "oracle                    20\n",
              "google cloud platform     18\n",
              "spark                     18\n",
              "spss                      18\n",
              "java                      17\n",
              "gcp                       17\n",
              "git                       16\n",
              "snowflake                 14\n",
              "pandas                    14\n",
              "scala                     14\n",
              "html                      13\n",
              "api                       13\n",
              "deep learning             12\n",
              "java script               12\n",
              "javascript                12\n",
              "confluence                12\n",
              "databricks                12\n",
              "Name: skills, dtype: int64"
            ]
          },
          "metadata": {},
          "execution_count": 79
        }
      ]
    },
    {
      "cell_type": "markdown",
      "source": [
        "### Удаление лишних столбцов"
      ],
      "metadata": {
        "id": "fKslJaxSV-a8"
      }
    },
    {
      "cell_type": "code",
      "source": [
        "jobs.head()"
      ],
      "metadata": {
        "id": "Kd8fzM0VWBij",
        "colab": {
          "base_uri": "https://localhost:8080/",
          "height": 511
        },
        "outputId": "74c11bf2-3b9b-4307-8894-fa2aee5cffe4"
      },
      "execution_count": null,
      "outputs": [
        {
          "output_type": "execute_result",
          "data": {
            "text/plain": [
              "                                                html      id_job  \\\n",
              "0  \\n  <div>\\n    <div class=\"\\n        jobs-deta...  3609065367   \n",
              "1  \\n  <div>\\n    <div class=\"\\n        jobs-deta...  3609065367   \n",
              "2  \\n  <div>\\n    <div class=\"\\n        jobs-deta...  3609065367   \n",
              "3  \\n  <div>\\n    <div class=\"\\n        jobs-deta...  3609065367   \n",
              "4  \\n  <div>\\n    <div class=\"\\n        jobs-deta...  3609065367   \n",
              "\n",
              "           name                              company_name workplace_type  \\\n",
              "0  Data Analyst  PharmiWeb.Jobs: Global Life Science Jobs        on-site   \n",
              "1  Data Analyst  PharmiWeb.Jobs: Global Life Science Jobs        on-site   \n",
              "2  Data Analyst  PharmiWeb.Jobs: Global Life Science Jobs        on-site   \n",
              "3  Data Analyst  PharmiWeb.Jobs: Global Life Science Jobs        on-site   \n",
              "4  Data Analyst  PharmiWeb.Jobs: Global Life Science Jobs        on-site   \n",
              "\n",
              "     company_staff    company_scope date_publication  applicants  \\\n",
              "0  11-50 employees  Human Resources       1 week ago          47   \n",
              "1  11-50 employees  Human Resources       1 week ago          47   \n",
              "2  11-50 employees  Human Resources       1 week ago          47   \n",
              "3  11-50 employees  Human Resources       1 week ago          47   \n",
              "4  11-50 employees  Human Resources       1 week ago          47   \n",
              "\n",
              "                    location  \\\n",
              "0  Basel, Basel, Switzerland   \n",
              "1  Basel, Basel, Switzerland   \n",
              "2  Basel, Basel, Switzerland   \n",
              "3  Basel, Basel, Switzerland   \n",
              "4  Basel, Basel, Switzerland   \n",
              "\n",
              "                                         description       skills date_publс  \\\n",
              "0  \\n\\n          About the job\\n        \\n\\n \\n  ...  data mining 2023-05-16   \n",
              "1  \\n\\n          About the job\\n        \\n\\n \\n  ...        excel 2023-05-16   \n",
              "2  \\n\\n          About the job\\n        \\n\\n \\n  ...          sap 2023-05-16   \n",
              "3  \\n\\n          About the job\\n        \\n\\n \\n  ...          sas 2023-05-16   \n",
              "4  \\n\\n          About the job\\n        \\n\\n \\n  ...         spss 2023-05-16   \n",
              "\n",
              "       country  \n",
              "0  Switzerland  \n",
              "1  Switzerland  \n",
              "2  Switzerland  \n",
              "3  Switzerland  \n",
              "4  Switzerland  "
            ],
            "text/html": [
              "\n",
              "\n",
              "  <div id=\"df-1c81803b-e655-4080-b2c4-e9a17ad6332f\">\n",
              "    <div class=\"colab-df-container\">\n",
              "      <div>\n",
              "<style scoped>\n",
              "    .dataframe tbody tr th:only-of-type {\n",
              "        vertical-align: middle;\n",
              "    }\n",
              "\n",
              "    .dataframe tbody tr th {\n",
              "        vertical-align: top;\n",
              "    }\n",
              "\n",
              "    .dataframe thead th {\n",
              "        text-align: right;\n",
              "    }\n",
              "</style>\n",
              "<table border=\"1\" class=\"dataframe\">\n",
              "  <thead>\n",
              "    <tr style=\"text-align: right;\">\n",
              "      <th></th>\n",
              "      <th>html</th>\n",
              "      <th>id_job</th>\n",
              "      <th>name</th>\n",
              "      <th>company_name</th>\n",
              "      <th>workplace_type</th>\n",
              "      <th>company_staff</th>\n",
              "      <th>company_scope</th>\n",
              "      <th>date_publication</th>\n",
              "      <th>applicants</th>\n",
              "      <th>location</th>\n",
              "      <th>description</th>\n",
              "      <th>skills</th>\n",
              "      <th>date_publс</th>\n",
              "      <th>country</th>\n",
              "    </tr>\n",
              "  </thead>\n",
              "  <tbody>\n",
              "    <tr>\n",
              "      <th>0</th>\n",
              "      <td>\\n  &lt;div&gt;\\n    &lt;div class=\"\\n        jobs-deta...</td>\n",
              "      <td>3609065367</td>\n",
              "      <td>Data Analyst</td>\n",
              "      <td>PharmiWeb.Jobs: Global Life Science Jobs</td>\n",
              "      <td>on-site</td>\n",
              "      <td>11-50 employees</td>\n",
              "      <td>Human Resources</td>\n",
              "      <td>1 week ago</td>\n",
              "      <td>47</td>\n",
              "      <td>Basel, Basel, Switzerland</td>\n",
              "      <td>\\n\\n          About the job\\n        \\n\\n \\n  ...</td>\n",
              "      <td>data mining</td>\n",
              "      <td>2023-05-16</td>\n",
              "      <td>Switzerland</td>\n",
              "    </tr>\n",
              "    <tr>\n",
              "      <th>1</th>\n",
              "      <td>\\n  &lt;div&gt;\\n    &lt;div class=\"\\n        jobs-deta...</td>\n",
              "      <td>3609065367</td>\n",
              "      <td>Data Analyst</td>\n",
              "      <td>PharmiWeb.Jobs: Global Life Science Jobs</td>\n",
              "      <td>on-site</td>\n",
              "      <td>11-50 employees</td>\n",
              "      <td>Human Resources</td>\n",
              "      <td>1 week ago</td>\n",
              "      <td>47</td>\n",
              "      <td>Basel, Basel, Switzerland</td>\n",
              "      <td>\\n\\n          About the job\\n        \\n\\n \\n  ...</td>\n",
              "      <td>excel</td>\n",
              "      <td>2023-05-16</td>\n",
              "      <td>Switzerland</td>\n",
              "    </tr>\n",
              "    <tr>\n",
              "      <th>2</th>\n",
              "      <td>\\n  &lt;div&gt;\\n    &lt;div class=\"\\n        jobs-deta...</td>\n",
              "      <td>3609065367</td>\n",
              "      <td>Data Analyst</td>\n",
              "      <td>PharmiWeb.Jobs: Global Life Science Jobs</td>\n",
              "      <td>on-site</td>\n",
              "      <td>11-50 employees</td>\n",
              "      <td>Human Resources</td>\n",
              "      <td>1 week ago</td>\n",
              "      <td>47</td>\n",
              "      <td>Basel, Basel, Switzerland</td>\n",
              "      <td>\\n\\n          About the job\\n        \\n\\n \\n  ...</td>\n",
              "      <td>sap</td>\n",
              "      <td>2023-05-16</td>\n",
              "      <td>Switzerland</td>\n",
              "    </tr>\n",
              "    <tr>\n",
              "      <th>3</th>\n",
              "      <td>\\n  &lt;div&gt;\\n    &lt;div class=\"\\n        jobs-deta...</td>\n",
              "      <td>3609065367</td>\n",
              "      <td>Data Analyst</td>\n",
              "      <td>PharmiWeb.Jobs: Global Life Science Jobs</td>\n",
              "      <td>on-site</td>\n",
              "      <td>11-50 employees</td>\n",
              "      <td>Human Resources</td>\n",
              "      <td>1 week ago</td>\n",
              "      <td>47</td>\n",
              "      <td>Basel, Basel, Switzerland</td>\n",
              "      <td>\\n\\n          About the job\\n        \\n\\n \\n  ...</td>\n",
              "      <td>sas</td>\n",
              "      <td>2023-05-16</td>\n",
              "      <td>Switzerland</td>\n",
              "    </tr>\n",
              "    <tr>\n",
              "      <th>4</th>\n",
              "      <td>\\n  &lt;div&gt;\\n    &lt;div class=\"\\n        jobs-deta...</td>\n",
              "      <td>3609065367</td>\n",
              "      <td>Data Analyst</td>\n",
              "      <td>PharmiWeb.Jobs: Global Life Science Jobs</td>\n",
              "      <td>on-site</td>\n",
              "      <td>11-50 employees</td>\n",
              "      <td>Human Resources</td>\n",
              "      <td>1 week ago</td>\n",
              "      <td>47</td>\n",
              "      <td>Basel, Basel, Switzerland</td>\n",
              "      <td>\\n\\n          About the job\\n        \\n\\n \\n  ...</td>\n",
              "      <td>spss</td>\n",
              "      <td>2023-05-16</td>\n",
              "      <td>Switzerland</td>\n",
              "    </tr>\n",
              "  </tbody>\n",
              "</table>\n",
              "</div>\n",
              "      <button class=\"colab-df-convert\" onclick=\"convertToInteractive('df-1c81803b-e655-4080-b2c4-e9a17ad6332f')\"\n",
              "              title=\"Convert this dataframe to an interactive table.\"\n",
              "              style=\"display:none;\">\n",
              "\n",
              "  <svg xmlns=\"http://www.w3.org/2000/svg\" height=\"24px\"viewBox=\"0 0 24 24\"\n",
              "       width=\"24px\">\n",
              "    <path d=\"M0 0h24v24H0V0z\" fill=\"none\"/>\n",
              "    <path d=\"M18.56 5.44l.94 2.06.94-2.06 2.06-.94-2.06-.94-.94-2.06-.94 2.06-2.06.94zm-11 1L8.5 8.5l.94-2.06 2.06-.94-2.06-.94L8.5 2.5l-.94 2.06-2.06.94zm10 10l.94 2.06.94-2.06 2.06-.94-2.06-.94-.94-2.06-.94 2.06-2.06.94z\"/><path d=\"M17.41 7.96l-1.37-1.37c-.4-.4-.92-.59-1.43-.59-.52 0-1.04.2-1.43.59L10.3 9.45l-7.72 7.72c-.78.78-.78 2.05 0 2.83L4 21.41c.39.39.9.59 1.41.59.51 0 1.02-.2 1.41-.59l7.78-7.78 2.81-2.81c.8-.78.8-2.07 0-2.86zM5.41 20L4 18.59l7.72-7.72 1.47 1.35L5.41 20z\"/>\n",
              "  </svg>\n",
              "      </button>\n",
              "\n",
              "\n",
              "\n",
              "    <div id=\"df-7170af9f-f7dd-47ec-871d-92e7b355fd6d\">\n",
              "      <button class=\"colab-df-quickchart\" onclick=\"quickchart('df-7170af9f-f7dd-47ec-871d-92e7b355fd6d')\"\n",
              "              title=\"Suggest charts.\"\n",
              "              style=\"display:none;\">\n",
              "\n",
              "<svg xmlns=\"http://www.w3.org/2000/svg\" height=\"24px\"viewBox=\"0 0 24 24\"\n",
              "     width=\"24px\">\n",
              "    <g>\n",
              "        <path d=\"M19 3H5c-1.1 0-2 .9-2 2v14c0 1.1.9 2 2 2h14c1.1 0 2-.9 2-2V5c0-1.1-.9-2-2-2zM9 17H7v-7h2v7zm4 0h-2V7h2v10zm4 0h-2v-4h2v4z\"/>\n",
              "    </g>\n",
              "</svg>\n",
              "      </button>\n",
              "    </div>\n",
              "\n",
              "<style>\n",
              "  .colab-df-quickchart {\n",
              "    background-color: #E8F0FE;\n",
              "    border: none;\n",
              "    border-radius: 50%;\n",
              "    cursor: pointer;\n",
              "    display: none;\n",
              "    fill: #1967D2;\n",
              "    height: 32px;\n",
              "    padding: 0 0 0 0;\n",
              "    width: 32px;\n",
              "  }\n",
              "\n",
              "  .colab-df-quickchart:hover {\n",
              "    background-color: #E2EBFA;\n",
              "    box-shadow: 0px 1px 2px rgba(60, 64, 67, 0.3), 0px 1px 3px 1px rgba(60, 64, 67, 0.15);\n",
              "    fill: #174EA6;\n",
              "  }\n",
              "\n",
              "  [theme=dark] .colab-df-quickchart {\n",
              "    background-color: #3B4455;\n",
              "    fill: #D2E3FC;\n",
              "  }\n",
              "\n",
              "  [theme=dark] .colab-df-quickchart:hover {\n",
              "    background-color: #434B5C;\n",
              "    box-shadow: 0px 1px 3px 1px rgba(0, 0, 0, 0.15);\n",
              "    filter: drop-shadow(0px 1px 2px rgba(0, 0, 0, 0.3));\n",
              "    fill: #FFFFFF;\n",
              "  }\n",
              "</style>\n",
              "\n",
              "    <script>\n",
              "      async function quickchart(key) {\n",
              "        const containerElement = document.querySelector('#' + key);\n",
              "        const charts = await google.colab.kernel.invokeFunction(\n",
              "            'suggestCharts', [key], {});\n",
              "      }\n",
              "    </script>\n",
              "\n",
              "      <script>\n",
              "\n",
              "function displayQuickchartButton(domScope) {\n",
              "  let quickchartButtonEl =\n",
              "    domScope.querySelector('#df-7170af9f-f7dd-47ec-871d-92e7b355fd6d button.colab-df-quickchart');\n",
              "  quickchartButtonEl.style.display =\n",
              "    google.colab.kernel.accessAllowed ? 'block' : 'none';\n",
              "}\n",
              "\n",
              "        displayQuickchartButton(document);\n",
              "      </script>\n",
              "      <style>\n",
              "    .colab-df-container {\n",
              "      display:flex;\n",
              "      flex-wrap:wrap;\n",
              "      gap: 12px;\n",
              "    }\n",
              "\n",
              "    .colab-df-convert {\n",
              "      background-color: #E8F0FE;\n",
              "      border: none;\n",
              "      border-radius: 50%;\n",
              "      cursor: pointer;\n",
              "      display: none;\n",
              "      fill: #1967D2;\n",
              "      height: 32px;\n",
              "      padding: 0 0 0 0;\n",
              "      width: 32px;\n",
              "    }\n",
              "\n",
              "    .colab-df-convert:hover {\n",
              "      background-color: #E2EBFA;\n",
              "      box-shadow: 0px 1px 2px rgba(60, 64, 67, 0.3), 0px 1px 3px 1px rgba(60, 64, 67, 0.15);\n",
              "      fill: #174EA6;\n",
              "    }\n",
              "\n",
              "    [theme=dark] .colab-df-convert {\n",
              "      background-color: #3B4455;\n",
              "      fill: #D2E3FC;\n",
              "    }\n",
              "\n",
              "    [theme=dark] .colab-df-convert:hover {\n",
              "      background-color: #434B5C;\n",
              "      box-shadow: 0px 1px 3px 1px rgba(0, 0, 0, 0.15);\n",
              "      filter: drop-shadow(0px 1px 2px rgba(0, 0, 0, 0.3));\n",
              "      fill: #FFFFFF;\n",
              "    }\n",
              "  </style>\n",
              "\n",
              "      <script>\n",
              "        const buttonEl =\n",
              "          document.querySelector('#df-1c81803b-e655-4080-b2c4-e9a17ad6332f button.colab-df-convert');\n",
              "        buttonEl.style.display =\n",
              "          google.colab.kernel.accessAllowed ? 'block' : 'none';\n",
              "\n",
              "        async function convertToInteractive(key) {\n",
              "          const element = document.querySelector('#df-1c81803b-e655-4080-b2c4-e9a17ad6332f');\n",
              "          const dataTable =\n",
              "            await google.colab.kernel.invokeFunction('convertToInteractive',\n",
              "                                                     [key], {});\n",
              "          if (!dataTable) return;\n",
              "\n",
              "          const docLinkHtml = 'Like what you see? Visit the ' +\n",
              "            '<a target=\"_blank\" href=https://colab.research.google.com/notebooks/data_table.ipynb>data table notebook</a>'\n",
              "            + ' to learn more about interactive tables.';\n",
              "          element.innerHTML = '';\n",
              "          dataTable['output_type'] = 'display_data';\n",
              "          await google.colab.output.renderOutput(dataTable, element);\n",
              "          const docLink = document.createElement('div');\n",
              "          docLink.innerHTML = docLinkHtml;\n",
              "          element.appendChild(docLink);\n",
              "        }\n",
              "      </script>\n",
              "    </div>\n",
              "  </div>\n"
            ]
          },
          "metadata": {},
          "execution_count": 80
        }
      ]
    },
    {
      "cell_type": "code",
      "source": [
        "dash_jobs = jobs.drop(columns=['html', 'location','description','date_publication']).copy()\n",
        "dash_jobs = dash_jobs.rename(columns = {'name':'job_name'})"
      ],
      "metadata": {
        "id": "y1et0wARWErj"
      },
      "execution_count": null,
      "outputs": []
    },
    {
      "cell_type": "code",
      "source": [
        "dash_jobs.info()"
      ],
      "metadata": {
        "id": "uRO0a1QVWVA0",
        "colab": {
          "base_uri": "https://localhost:8080/"
        },
        "outputId": "b5d344ee-b3d8-446b-f7a9-e36071bbfdf1"
      },
      "execution_count": null,
      "outputs": [
        {
          "output_type": "stream",
          "name": "stdout",
          "text": [
            "<class 'pandas.core.frame.DataFrame'>\n",
            "RangeIndex: 2962 entries, 0 to 2961\n",
            "Data columns (total 10 columns):\n",
            " #   Column          Non-Null Count  Dtype         \n",
            "---  ------          --------------  -----         \n",
            " 0   id_job          2962 non-null   int64         \n",
            " 1   job_name        2962 non-null   object        \n",
            " 2   company_name    2962 non-null   object        \n",
            " 3   workplace_type  2962 non-null   object        \n",
            " 4   company_staff   2962 non-null   object        \n",
            " 5   company_scope   2962 non-null   object        \n",
            " 6   applicants      2962 non-null   int64         \n",
            " 7   skills          2962 non-null   object        \n",
            " 8   date_publс      2962 non-null   datetime64[ns]\n",
            " 9   country         2962 non-null   object        \n",
            "dtypes: datetime64[ns](1), int64(2), object(7)\n",
            "memory usage: 231.5+ KB\n"
          ]
        }
      ]
    },
    {
      "cell_type": "code",
      "source": [
        "print('Итого, в нашем датасете содержится: ')\n",
        "print(jobs.id_job.nunique(),'вакансий')\n",
        "print(jobs.company_name.nunique(),'компаний')\n",
        "print(jobs.country.nunique(),'стран')\n",
        "print(jobs.skills.nunique(),'разных скилов')"
      ],
      "metadata": {
        "colab": {
          "base_uri": "https://localhost:8080/"
        },
        "id": "X-mt_VuQVlUD",
        "outputId": "3b82de8c-84bf-45ba-c60e-b1ea87000b1b"
      },
      "execution_count": null,
      "outputs": [
        {
          "output_type": "stream",
          "name": "stdout",
          "text": [
            "Итого, в нашем датасете содержится: \n",
            "675 вакансий\n",
            "503 компаний\n",
            "30 стран\n",
            "159 разных скилов\n"
          ]
        }
      ]
    },
    {
      "cell_type": "markdown",
      "source": [
        "Этого будет достаточно для хорошей визуализации данных. Выгрузим наши данные в csv."
      ],
      "metadata": {
        "id": "4VbuovrXVtD0"
      }
    },
    {
      "cell_type": "code",
      "source": [
        "#выгрузка в csv\n",
        "dash_jobs.to_csv('dash_jobs.csv', index=False)\n",
        "#!cp dash_jobs.csv \"drive/My Drive/\""
      ],
      "metadata": {
        "id": "O8Q92SyLAV5u"
      },
      "execution_count": null,
      "outputs": []
    },
    {
      "cell_type": "markdown",
      "source": [
        "Все предварительные работы для визуализации выполнены."
      ],
      "metadata": {
        "id": "Fh6MjSFoIShN"
      }
    },
    {
      "cell_type": "markdown",
      "source": [
        "## Визуализация данных"
      ],
      "metadata": {
        "id": "yHJLkclJD7Oy"
      }
    },
    {
      "cell_type": "markdown",
      "source": [
        "ссылка на дашборд: https://datalens.yandex/ui538detirbck?state=707e557a407\n",
        "<br> В качестве среды для визуализации данных был выбран сервис Datalens Yandex."
      ],
      "metadata": {
        "id": "QE37_jaxEZg9"
      }
    },
    {
      "cell_type": "markdown",
      "source": [
        " На дашборде отображены следующие срезы:\n",
        "\n",
        "*   индикатор вакансий\n",
        "*   вакансии по странам\n",
        "*   hurd skills\n",
        "*   топ 10 сфер деятельности нанимающих компаний\n",
        "*   размерность нанимающих компаний\n",
        "*   список компаний, где требуются аналитики\n",
        "*   статистика формата работы в вакансиях\n",
        "+ фильтры по стране и формату работы\n",
        "\n"
      ],
      "metadata": {
        "id": "_P_Jc3reEfp2"
      }
    }
  ]
}